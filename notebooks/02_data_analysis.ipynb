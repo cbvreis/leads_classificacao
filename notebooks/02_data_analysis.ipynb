{
 "cells": [
  {
   "cell_type": "markdown",
   "source": [
    "## Data analysis"
   ],
   "metadata": {
    "collapsed": false,
    "pycharm": {
     "name": "#%% md\n"
    }
   }
  },
  {
   "cell_type": "code",
   "execution_count": 3,
   "outputs": [],
   "source": [
    "# to handle datasets\n",
    "import pandas as pd\n",
    "import numpy as np\n",
    "\n",
    "# for plotting\n",
    "import matplotlib.pyplot as plt\n",
    "import seaborn as sns\n",
    "\n",
    "# for the yeo-johnson transformation\n",
    "import scipy.stats as stats\n",
    "\n",
    "# to display all the columns of the dataframe in the notebook\n",
    "pd.pandas.set_option('display.max_columns', None)"
   ],
   "metadata": {
    "collapsed": false,
    "pycharm": {
     "name": "#%%\n"
    }
   }
  },
  {
   "cell_type": "code",
   "execution_count": 4,
   "outputs": [
    {
     "name": "stdout",
     "output_type": "stream",
     "text": [
      "(484381, 35)\n"
     ]
    },
    {
     "data": {
      "text/plain": "                            id_form            id_cliente  \\\n0    c7d453c9c01223a42968d9fe136047  d2620a3e6f00a6dc6e88   \n1    72830da153824af486be15cd48b3f3  9a48802d8290d19471f3   \n2    72830da153824af486be15cd48b3f3  9a48802d8290d19471f3   \n3    d101fc0075dac29db1168cfc61ad44  c3344fad450ee424700d   \n4    0957fb9d7be36b4d079b6582bb6785  8105e34124e90300d8b5   \n..                              ...                   ...   \n195  23e96a22f9b0e126e0659b82fad00b  2ac468e731bc09f372d8   \n196  1d144c4a87e2fcdef8efe3aa185e7d  d825ce465d0e15cc004b   \n197  f7dd3f5c42a72ce1e1012ba312074f  6a39ba2d2ffcfa55e564   \n198  d25e3f36c368f5b81137f2249e6d16  76eb4b6728894ee12aa5   \n199  412e9bb3b33ce89eea0fbcc7d85b08  e21aa48c94197a340425   \n\n                    data sistema_operacional navegador  \\\n0    2022-01-03 15:42:22                 iOS    Safari   \n1    2022-01-04 08:39:53             Windows    Chrome   \n2    2022-01-04 08:39:53             Windows    Chrome   \n3    2022-01-04 19:34:05             Android    Chrome   \n4    2022-01-05 18:29:41             Android    Chrome   \n..                   ...                 ...       ...   \n195  2022-01-11 20:57:52             Android    Chrome   \n196  2022-01-12 09:55:05                 iOS       NaN   \n197  2022-01-11 21:06:03             Android    Chrome   \n198  2022-01-11 22:08:12                 iOS    Safari   \n199  2022-01-11 22:25:18                 iOS       NaN   \n\n                   localizacao locale_x        cidade_x       estado_x  \\\n0         São Paulo, Sao Paulo       BR       SÃO PAULO      SAO PAULO   \n1    Ribeirão Preto, Sao Paulo       BR  RIBEIRÃO PRETO      SAO PAULO   \n2    Ribeirão Preto, Sao Paulo       BR  RIBEIRÃO PRETO      SAO PAULO   \n3         São Paulo, Sao Paulo       BR       SÃO PAULO      SAO PAULO   \n4          Manchester, England       BR      MANCHESTER        ENGLAND   \n..                         ...      ...             ...            ...   \n195  Alpinopolis, Minas Gerais       BR     ALPINOPOLIS   MINAS GERAIS   \n196           Fortaleza, Ceara       BR       FORTALEZA          CEARA   \n197              Cambe, Parana       BR           CAMBE         PARANA   \n198               Iguai, Bahia       BR           IGUAI          BAHIA   \n199            Salvador, Bahia       BR        SALVADOR          BAHIA   \n\n     qtde_lavagem_semana utm_source_x tipo_cabelo   comprimento  \\\n0                      4          NaN      Tipo 2  Raíz exposta   \n1                      7          NaN      Tipo 4   Muito curto   \n2                      7          NaN      Tipo 4   Muito curto   \n3                      2          NaN      Tipo 1   Extra longo   \n4                      5          NaN      Tipo 1   Extra longo   \n..                   ...          ...         ...           ...   \n195                    2   influencer      Tipo 4   Muito curto   \n196                    1   IGShopping      Tipo 2   Muito curto   \n197                    1     facebook      Tipo 2  Raíz exposta   \n198                    4          NaN      Tipo 2  Raíz exposta   \n199                    1   influencer      Tipo 4   Muito curto   \n\n         tipo_fios    procedimentos tempo_procedimento              dieta  \\\n0    Pontas duplas           Nenhum       Há 2 semanas            Celíaca   \n1        Perfeitos      Todos acima   Há mais de 1 mês  Nenhuma restrição   \n2        Perfeitos      Todos acima   Há mais de 1 mês  Nenhuma restrição   \n3         Rebeldes      Todos acima   Há mais de 1 mês  Nenhuma restrição   \n4         Rebeldes      Todos acima   Há mais de 1 mês            Celíaca   \n..             ...              ...                ...                ...   \n195       Rebeldes      Todos acima   Há mais de 1 mês            Celíaca   \n196  Pontas duplas          Tintura       Há 2 semanas            Celíaca   \n197       Rebeldes          Tintura        Há 1 semana  Nenhuma restrição   \n198  Pontas duplas          Tintura       Há 2 semanas  Nenhuma restrição   \n199       Rebeldes  Corte agressivo   Há mais de 1 mês  Nenhuma restrição   \n\n    atividade_fisica frequencia_estresse                      caracteristica  \\\n0          Frequente               Nunca                    Característica 1   \n1              Nunca               Nunca                    Característica 6   \n2              Nunca               Nunca                    Característica 6   \n3          Raramente        Regularmente                    Característica 7   \n4          Raramente        Regularmente                    Característica 7   \n..               ...                 ...                                 ...   \n195        Raramente               Nunca                    Característica 8   \n196        Raramente               Nunca                    Característica 7   \n197        Raramente               Nunca                    Característica 3   \n198           Sempre               Nunca  Característica 9, Característica 3   \n199            Nunca     Uma vez por mês                    Característica 5   \n\n    faixa_etaria                       efeitos_desejados        fragancia  \\\n0        25 a 34                                Efeito 7            Rosas   \n1        55 a 64                                Efeito 1        Eucalipto   \n2        55 a 64                                Efeito 1        Eucalipto   \n3         2 a 10                                Efeito 7            Rosas   \n4        25 a 34                                Efeito 7            Rosas   \n..           ...                                     ...              ...   \n195      11 a 17                      Efeito 6, Efeito 1            Rosas   \n196      25 a 34                                Efeito 7            Rosas   \n197      25 a 34                                Efeito 7            Rosas   \n198      45 a 54  Efeito 7, Efeito 8, Efeito 1, Efeito 3  Flores do campo   \n199      25 a 34                                Efeito 7        Eucalipto   \n\n           id_pedido                 data_pedido status_pagamento  \\\n0    5d2301cb6bf9d7c  2022-01-03 15:47:35.000000         Entregue   \n1    f85766652b46e6e  2022-04-10 13:37:33.000000        Cancelado   \n2    5fea1872ca5ffa2  2022-04-10 13:43:05.000000        Cancelado   \n3                NaN                         NaN              NaN   \n4                NaN                         NaN              NaN   \n..               ...                         ...              ...   \n195              NaN                         NaN              NaN   \n196  492f20ddc8e1f92  2022-01-12 10:10:10.000000         Entregue   \n197              NaN                         NaN              NaN   \n198              NaN                         NaN              NaN   \n199              NaN                         NaN              NaN   \n\n    tipo_pagamento  valor_total  valor_desconto frete_gratis   cidade_y  \\\n0           CARTÃO       124.03             0.0        False  São Paulo   \n1              PIX       282.22             0.0        False    Jundiaí   \n2              PIX       282.22             0.0        False    Jundiaí   \n3              NaN          NaN             NaN          NaN        NaN   \n4              NaN          NaN             NaN          NaN        NaN   \n..             ...          ...             ...          ...        ...   \n195            NaN          NaN             NaN          NaN        NaN   \n196         CARTÃO       134.00             0.0        False  Fortaleza   \n197            NaN          NaN             NaN          NaN        NaN   \n198            NaN          NaN             NaN          NaN        NaN   \n199            NaN          NaN             NaN          NaN        NaN   \n\n    estado_y locale_y utm_source_y  target  \n0         SP       BR          NaN     1.0  \n1         SP       BR          NaN     1.0  \n2         SP       BR          NaN     1.0  \n3        NaN      NaN          NaN     NaN  \n4        NaN      NaN          NaN     NaN  \n..       ...      ...          ...     ...  \n195      NaN      NaN          NaN     NaN  \n196       CE       BR   IGShopping     1.0  \n197      NaN      NaN          NaN     NaN  \n198      NaN      NaN          NaN     NaN  \n199      NaN      NaN          NaN     NaN  \n\n[200 rows x 35 columns]",
      "text/html": "<div>\n<style scoped>\n    .dataframe tbody tr th:only-of-type {\n        vertical-align: middle;\n    }\n\n    .dataframe tbody tr th {\n        vertical-align: top;\n    }\n\n    .dataframe thead th {\n        text-align: right;\n    }\n</style>\n<table border=\"1\" class=\"dataframe\">\n  <thead>\n    <tr style=\"text-align: right;\">\n      <th></th>\n      <th>id_form</th>\n      <th>id_cliente</th>\n      <th>data</th>\n      <th>sistema_operacional</th>\n      <th>navegador</th>\n      <th>localizacao</th>\n      <th>locale_x</th>\n      <th>cidade_x</th>\n      <th>estado_x</th>\n      <th>qtde_lavagem_semana</th>\n      <th>utm_source_x</th>\n      <th>tipo_cabelo</th>\n      <th>comprimento</th>\n      <th>tipo_fios</th>\n      <th>procedimentos</th>\n      <th>tempo_procedimento</th>\n      <th>dieta</th>\n      <th>atividade_fisica</th>\n      <th>frequencia_estresse</th>\n      <th>caracteristica</th>\n      <th>faixa_etaria</th>\n      <th>efeitos_desejados</th>\n      <th>fragancia</th>\n      <th>id_pedido</th>\n      <th>data_pedido</th>\n      <th>status_pagamento</th>\n      <th>tipo_pagamento</th>\n      <th>valor_total</th>\n      <th>valor_desconto</th>\n      <th>frete_gratis</th>\n      <th>cidade_y</th>\n      <th>estado_y</th>\n      <th>locale_y</th>\n      <th>utm_source_y</th>\n      <th>target</th>\n    </tr>\n  </thead>\n  <tbody>\n    <tr>\n      <th>0</th>\n      <td>c7d453c9c01223a42968d9fe136047</td>\n      <td>d2620a3e6f00a6dc6e88</td>\n      <td>2022-01-03 15:42:22</td>\n      <td>iOS</td>\n      <td>Safari</td>\n      <td>São Paulo, Sao Paulo</td>\n      <td>BR</td>\n      <td>SÃO PAULO</td>\n      <td>SAO PAULO</td>\n      <td>4</td>\n      <td>NaN</td>\n      <td>Tipo 2</td>\n      <td>Raíz exposta</td>\n      <td>Pontas duplas</td>\n      <td>Nenhum</td>\n      <td>Há 2 semanas</td>\n      <td>Celíaca</td>\n      <td>Frequente</td>\n      <td>Nunca</td>\n      <td>Característica 1</td>\n      <td>25 a 34</td>\n      <td>Efeito 7</td>\n      <td>Rosas</td>\n      <td>5d2301cb6bf9d7c</td>\n      <td>2022-01-03 15:47:35.000000</td>\n      <td>Entregue</td>\n      <td>CARTÃO</td>\n      <td>124.03</td>\n      <td>0.0</td>\n      <td>False</td>\n      <td>São Paulo</td>\n      <td>SP</td>\n      <td>BR</td>\n      <td>NaN</td>\n      <td>1.0</td>\n    </tr>\n    <tr>\n      <th>1</th>\n      <td>72830da153824af486be15cd48b3f3</td>\n      <td>9a48802d8290d19471f3</td>\n      <td>2022-01-04 08:39:53</td>\n      <td>Windows</td>\n      <td>Chrome</td>\n      <td>Ribeirão Preto, Sao Paulo</td>\n      <td>BR</td>\n      <td>RIBEIRÃO PRETO</td>\n      <td>SAO PAULO</td>\n      <td>7</td>\n      <td>NaN</td>\n      <td>Tipo 4</td>\n      <td>Muito curto</td>\n      <td>Perfeitos</td>\n      <td>Todos acima</td>\n      <td>Há mais de 1 mês</td>\n      <td>Nenhuma restrição</td>\n      <td>Nunca</td>\n      <td>Nunca</td>\n      <td>Característica 6</td>\n      <td>55 a 64</td>\n      <td>Efeito 1</td>\n      <td>Eucalipto</td>\n      <td>f85766652b46e6e</td>\n      <td>2022-04-10 13:37:33.000000</td>\n      <td>Cancelado</td>\n      <td>PIX</td>\n      <td>282.22</td>\n      <td>0.0</td>\n      <td>False</td>\n      <td>Jundiaí</td>\n      <td>SP</td>\n      <td>BR</td>\n      <td>NaN</td>\n      <td>1.0</td>\n    </tr>\n    <tr>\n      <th>2</th>\n      <td>72830da153824af486be15cd48b3f3</td>\n      <td>9a48802d8290d19471f3</td>\n      <td>2022-01-04 08:39:53</td>\n      <td>Windows</td>\n      <td>Chrome</td>\n      <td>Ribeirão Preto, Sao Paulo</td>\n      <td>BR</td>\n      <td>RIBEIRÃO PRETO</td>\n      <td>SAO PAULO</td>\n      <td>7</td>\n      <td>NaN</td>\n      <td>Tipo 4</td>\n      <td>Muito curto</td>\n      <td>Perfeitos</td>\n      <td>Todos acima</td>\n      <td>Há mais de 1 mês</td>\n      <td>Nenhuma restrição</td>\n      <td>Nunca</td>\n      <td>Nunca</td>\n      <td>Característica 6</td>\n      <td>55 a 64</td>\n      <td>Efeito 1</td>\n      <td>Eucalipto</td>\n      <td>5fea1872ca5ffa2</td>\n      <td>2022-04-10 13:43:05.000000</td>\n      <td>Cancelado</td>\n      <td>PIX</td>\n      <td>282.22</td>\n      <td>0.0</td>\n      <td>False</td>\n      <td>Jundiaí</td>\n      <td>SP</td>\n      <td>BR</td>\n      <td>NaN</td>\n      <td>1.0</td>\n    </tr>\n    <tr>\n      <th>3</th>\n      <td>d101fc0075dac29db1168cfc61ad44</td>\n      <td>c3344fad450ee424700d</td>\n      <td>2022-01-04 19:34:05</td>\n      <td>Android</td>\n      <td>Chrome</td>\n      <td>São Paulo, Sao Paulo</td>\n      <td>BR</td>\n      <td>SÃO PAULO</td>\n      <td>SAO PAULO</td>\n      <td>2</td>\n      <td>NaN</td>\n      <td>Tipo 1</td>\n      <td>Extra longo</td>\n      <td>Rebeldes</td>\n      <td>Todos acima</td>\n      <td>Há mais de 1 mês</td>\n      <td>Nenhuma restrição</td>\n      <td>Raramente</td>\n      <td>Regularmente</td>\n      <td>Característica 7</td>\n      <td>2 a 10</td>\n      <td>Efeito 7</td>\n      <td>Rosas</td>\n      <td>NaN</td>\n      <td>NaN</td>\n      <td>NaN</td>\n      <td>NaN</td>\n      <td>NaN</td>\n      <td>NaN</td>\n      <td>NaN</td>\n      <td>NaN</td>\n      <td>NaN</td>\n      <td>NaN</td>\n      <td>NaN</td>\n      <td>NaN</td>\n    </tr>\n    <tr>\n      <th>4</th>\n      <td>0957fb9d7be36b4d079b6582bb6785</td>\n      <td>8105e34124e90300d8b5</td>\n      <td>2022-01-05 18:29:41</td>\n      <td>Android</td>\n      <td>Chrome</td>\n      <td>Manchester, England</td>\n      <td>BR</td>\n      <td>MANCHESTER</td>\n      <td>ENGLAND</td>\n      <td>5</td>\n      <td>NaN</td>\n      <td>Tipo 1</td>\n      <td>Extra longo</td>\n      <td>Rebeldes</td>\n      <td>Todos acima</td>\n      <td>Há mais de 1 mês</td>\n      <td>Celíaca</td>\n      <td>Raramente</td>\n      <td>Regularmente</td>\n      <td>Característica 7</td>\n      <td>25 a 34</td>\n      <td>Efeito 7</td>\n      <td>Rosas</td>\n      <td>NaN</td>\n      <td>NaN</td>\n      <td>NaN</td>\n      <td>NaN</td>\n      <td>NaN</td>\n      <td>NaN</td>\n      <td>NaN</td>\n      <td>NaN</td>\n      <td>NaN</td>\n      <td>NaN</td>\n      <td>NaN</td>\n      <td>NaN</td>\n    </tr>\n    <tr>\n      <th>...</th>\n      <td>...</td>\n      <td>...</td>\n      <td>...</td>\n      <td>...</td>\n      <td>...</td>\n      <td>...</td>\n      <td>...</td>\n      <td>...</td>\n      <td>...</td>\n      <td>...</td>\n      <td>...</td>\n      <td>...</td>\n      <td>...</td>\n      <td>...</td>\n      <td>...</td>\n      <td>...</td>\n      <td>...</td>\n      <td>...</td>\n      <td>...</td>\n      <td>...</td>\n      <td>...</td>\n      <td>...</td>\n      <td>...</td>\n      <td>...</td>\n      <td>...</td>\n      <td>...</td>\n      <td>...</td>\n      <td>...</td>\n      <td>...</td>\n      <td>...</td>\n      <td>...</td>\n      <td>...</td>\n      <td>...</td>\n      <td>...</td>\n      <td>...</td>\n    </tr>\n    <tr>\n      <th>195</th>\n      <td>23e96a22f9b0e126e0659b82fad00b</td>\n      <td>2ac468e731bc09f372d8</td>\n      <td>2022-01-11 20:57:52</td>\n      <td>Android</td>\n      <td>Chrome</td>\n      <td>Alpinopolis, Minas Gerais</td>\n      <td>BR</td>\n      <td>ALPINOPOLIS</td>\n      <td>MINAS GERAIS</td>\n      <td>2</td>\n      <td>influencer</td>\n      <td>Tipo 4</td>\n      <td>Muito curto</td>\n      <td>Rebeldes</td>\n      <td>Todos acima</td>\n      <td>Há mais de 1 mês</td>\n      <td>Celíaca</td>\n      <td>Raramente</td>\n      <td>Nunca</td>\n      <td>Característica 8</td>\n      <td>11 a 17</td>\n      <td>Efeito 6, Efeito 1</td>\n      <td>Rosas</td>\n      <td>NaN</td>\n      <td>NaN</td>\n      <td>NaN</td>\n      <td>NaN</td>\n      <td>NaN</td>\n      <td>NaN</td>\n      <td>NaN</td>\n      <td>NaN</td>\n      <td>NaN</td>\n      <td>NaN</td>\n      <td>NaN</td>\n      <td>NaN</td>\n    </tr>\n    <tr>\n      <th>196</th>\n      <td>1d144c4a87e2fcdef8efe3aa185e7d</td>\n      <td>d825ce465d0e15cc004b</td>\n      <td>2022-01-12 09:55:05</td>\n      <td>iOS</td>\n      <td>NaN</td>\n      <td>Fortaleza, Ceara</td>\n      <td>BR</td>\n      <td>FORTALEZA</td>\n      <td>CEARA</td>\n      <td>1</td>\n      <td>IGShopping</td>\n      <td>Tipo 2</td>\n      <td>Muito curto</td>\n      <td>Pontas duplas</td>\n      <td>Tintura</td>\n      <td>Há 2 semanas</td>\n      <td>Celíaca</td>\n      <td>Raramente</td>\n      <td>Nunca</td>\n      <td>Característica 7</td>\n      <td>25 a 34</td>\n      <td>Efeito 7</td>\n      <td>Rosas</td>\n      <td>492f20ddc8e1f92</td>\n      <td>2022-01-12 10:10:10.000000</td>\n      <td>Entregue</td>\n      <td>CARTÃO</td>\n      <td>134.00</td>\n      <td>0.0</td>\n      <td>False</td>\n      <td>Fortaleza</td>\n      <td>CE</td>\n      <td>BR</td>\n      <td>IGShopping</td>\n      <td>1.0</td>\n    </tr>\n    <tr>\n      <th>197</th>\n      <td>f7dd3f5c42a72ce1e1012ba312074f</td>\n      <td>6a39ba2d2ffcfa55e564</td>\n      <td>2022-01-11 21:06:03</td>\n      <td>Android</td>\n      <td>Chrome</td>\n      <td>Cambe, Parana</td>\n      <td>BR</td>\n      <td>CAMBE</td>\n      <td>PARANA</td>\n      <td>1</td>\n      <td>facebook</td>\n      <td>Tipo 2</td>\n      <td>Raíz exposta</td>\n      <td>Rebeldes</td>\n      <td>Tintura</td>\n      <td>Há 1 semana</td>\n      <td>Nenhuma restrição</td>\n      <td>Raramente</td>\n      <td>Nunca</td>\n      <td>Característica 3</td>\n      <td>25 a 34</td>\n      <td>Efeito 7</td>\n      <td>Rosas</td>\n      <td>NaN</td>\n      <td>NaN</td>\n      <td>NaN</td>\n      <td>NaN</td>\n      <td>NaN</td>\n      <td>NaN</td>\n      <td>NaN</td>\n      <td>NaN</td>\n      <td>NaN</td>\n      <td>NaN</td>\n      <td>NaN</td>\n      <td>NaN</td>\n    </tr>\n    <tr>\n      <th>198</th>\n      <td>d25e3f36c368f5b81137f2249e6d16</td>\n      <td>76eb4b6728894ee12aa5</td>\n      <td>2022-01-11 22:08:12</td>\n      <td>iOS</td>\n      <td>Safari</td>\n      <td>Iguai, Bahia</td>\n      <td>BR</td>\n      <td>IGUAI</td>\n      <td>BAHIA</td>\n      <td>4</td>\n      <td>NaN</td>\n      <td>Tipo 2</td>\n      <td>Raíz exposta</td>\n      <td>Pontas duplas</td>\n      <td>Tintura</td>\n      <td>Há 2 semanas</td>\n      <td>Nenhuma restrição</td>\n      <td>Sempre</td>\n      <td>Nunca</td>\n      <td>Característica 9, Característica 3</td>\n      <td>45 a 54</td>\n      <td>Efeito 7, Efeito 8, Efeito 1, Efeito 3</td>\n      <td>Flores do campo</td>\n      <td>NaN</td>\n      <td>NaN</td>\n      <td>NaN</td>\n      <td>NaN</td>\n      <td>NaN</td>\n      <td>NaN</td>\n      <td>NaN</td>\n      <td>NaN</td>\n      <td>NaN</td>\n      <td>NaN</td>\n      <td>NaN</td>\n      <td>NaN</td>\n    </tr>\n    <tr>\n      <th>199</th>\n      <td>412e9bb3b33ce89eea0fbcc7d85b08</td>\n      <td>e21aa48c94197a340425</td>\n      <td>2022-01-11 22:25:18</td>\n      <td>iOS</td>\n      <td>NaN</td>\n      <td>Salvador, Bahia</td>\n      <td>BR</td>\n      <td>SALVADOR</td>\n      <td>BAHIA</td>\n      <td>1</td>\n      <td>influencer</td>\n      <td>Tipo 4</td>\n      <td>Muito curto</td>\n      <td>Rebeldes</td>\n      <td>Corte agressivo</td>\n      <td>Há mais de 1 mês</td>\n      <td>Nenhuma restrição</td>\n      <td>Nunca</td>\n      <td>Uma vez por mês</td>\n      <td>Característica 5</td>\n      <td>25 a 34</td>\n      <td>Efeito 7</td>\n      <td>Eucalipto</td>\n      <td>NaN</td>\n      <td>NaN</td>\n      <td>NaN</td>\n      <td>NaN</td>\n      <td>NaN</td>\n      <td>NaN</td>\n      <td>NaN</td>\n      <td>NaN</td>\n      <td>NaN</td>\n      <td>NaN</td>\n      <td>NaN</td>\n      <td>NaN</td>\n    </tr>\n  </tbody>\n</table>\n<p>200 rows × 35 columns</p>\n</div>"
     },
     "execution_count": 4,
     "metadata": {},
     "output_type": "execute_result"
    }
   ],
   "source": [
    "#load dataset\n",
    "df = pd.read_csv('../output/saida.csv')\n",
    "\n",
    "# rows and columns\n",
    "print(df.shape)\n",
    "\n",
    "#visualise the data\n",
    "df.head(200)"
   ],
   "metadata": {
    "collapsed": false,
    "pycharm": {
     "name": "#%%\n"
    }
   }
  },
  {
   "cell_type": "code",
   "execution_count": 5,
   "outputs": [
    {
     "data": {
      "text/plain": "(484381, 24)"
     },
     "execution_count": 5,
     "metadata": {},
     "output_type": "execute_result"
    }
   ],
   "source": [
    "#drop columns, they are not useful for the analysis\n",
    "df.drop(['id_form','status_pagamento', 'tipo_pagamento', 'valor_total',\n",
    "       'valor_desconto', 'frete_gratis', 'cidade_y', 'estado_y', 'locale_y',\n",
    "       'utm_source_y','id_pedido'], inplace = True, axis=1)\n",
    "\n",
    "df.shape"
   ],
   "metadata": {
    "collapsed": false,
    "pycharm": {
     "name": "#%%\n"
    }
   }
  },
  {
   "cell_type": "markdown",
   "source": [
    "### Analysis\n",
    "We will analyse the following:\n",
    "\n",
    "1.The target variable\n",
    "2.Variable types (categorical and numerical)\n",
    "3.Missing data\n",
    "4.Numerical variables\n",
    "\n",
    " - Discrete\n",
    " - Continuous\n",
    " - Distributions\n",
    " - Transformations\n",
    " - Categorical variables\n",
    "\n",
    "5.Cardinality\n",
    " - Rare Labels\n",
    " - Special mappings\n",
    "\n",
    "6.Additional Reading Resources"
   ],
   "metadata": {
    "collapsed": false,
    "pycharm": {
     "name": "#%% md\n"
    }
   }
  },
  {
   "cell_type": "markdown",
   "source": [
    "## 1.The target variable"
   ],
   "metadata": {
    "collapsed": false,
    "pycharm": {
     "name": "#%% md\n"
    }
   }
  },
  {
   "cell_type": "code",
   "execution_count": 6,
   "outputs": [
    {
     "data": {
      "text/plain": "1.0    154933\nName: target, dtype: int64"
     },
     "execution_count": 6,
     "metadata": {},
     "output_type": "execute_result"
    }
   ],
   "source": [
    "df.target.value_counts()\n"
   ],
   "metadata": {
    "collapsed": false,
    "pycharm": {
     "name": "#%%\n"
    }
   }
  },
  {
   "cell_type": "code",
   "execution_count": 7,
   "outputs": [
    {
     "data": {
      "text/plain": "329448"
     },
     "execution_count": 7,
     "metadata": {},
     "output_type": "execute_result"
    }
   ],
   "source": [
    "df.target.isna().sum()"
   ],
   "metadata": {
    "collapsed": false,
    "pycharm": {
     "name": "#%%\n"
    }
   }
  },
  {
   "cell_type": "code",
   "execution_count": 8,
   "outputs": [],
   "source": [
    "df.target.fillna(0, inplace=True)"
   ],
   "metadata": {
    "collapsed": false,
    "pycharm": {
     "name": "#%%\n"
    }
   }
  },
  {
   "cell_type": "code",
   "execution_count": 9,
   "outputs": [
    {
     "data": {
      "text/plain": "0.0    329448\n1.0    154933\nName: target, dtype: int64"
     },
     "execution_count": 9,
     "metadata": {},
     "output_type": "execute_result"
    }
   ],
   "source": [
    "df.target.value_counts()"
   ],
   "metadata": {
    "collapsed": false,
    "pycharm": {
     "name": "#%%\n"
    }
   }
  },
  {
   "cell_type": "code",
   "execution_count": 10,
   "outputs": [
    {
     "data": {
      "text/plain": "<Figure size 432x288 with 1 Axes>",
      "image/png": "[encoded data removed]"
     },
     "metadata": {
      "needs_background": "light"
     },
     "output_type": "display_data"
    }
   ],
   "source": [
    "#bar plot of the target variable\n",
    "sns.countplot(x='target', data=df)\n",
    "plt.xlabel('target')\n",
    "plt.ylabel('count')\n",
    "plt.show()"
   ],
   "metadata": {
    "collapsed": false,
    "pycharm": {
     "name": "#%%\n"
    }
   }
  },
  {
   "cell_type": "markdown",
   "source": [
    "## 2.Variable types (categorical and numerical)"
   ],
   "metadata": {
    "collapsed": false,
    "pycharm": {
     "name": "#%% md\n"
    }
   }
  },
  {
   "cell_type": "code",
   "execution_count": 11,
   "outputs": [
    {
     "data": {
      "text/plain": "             id_cliente                 data sistema_operacional navegador  \\\n0  d2620a3e6f00a6dc6e88  2022-01-03 15:42:22                 iOS    Safari   \n1  9a48802d8290d19471f3  2022-01-04 08:39:53             Windows    Chrome   \n2  9a48802d8290d19471f3  2022-01-04 08:39:53             Windows    Chrome   \n3  c3344fad450ee424700d  2022-01-04 19:34:05             Android    Chrome   \n4  8105e34124e90300d8b5  2022-01-05 18:29:41             Android    Chrome   \n\n                 localizacao locale_x        cidade_x    estado_x  \\\n0       São Paulo, Sao Paulo       BR       SÃO PAULO   SAO PAULO   \n1  Ribeirão Preto, Sao Paulo       BR  RIBEIRÃO PRETO   SAO PAULO   \n2  Ribeirão Preto, Sao Paulo       BR  RIBEIRÃO PRETO   SAO PAULO   \n3       São Paulo, Sao Paulo       BR       SÃO PAULO   SAO PAULO   \n4        Manchester, England       BR      MANCHESTER     ENGLAND   \n\n   qtde_lavagem_semana utm_source_x tipo_cabelo   comprimento      tipo_fios  \\\n0                    4          NaN      Tipo 2  Raíz exposta  Pontas duplas   \n1                    7          NaN      Tipo 4   Muito curto      Perfeitos   \n2                    7          NaN      Tipo 4   Muito curto      Perfeitos   \n3                    2          NaN      Tipo 1   Extra longo       Rebeldes   \n4                    5          NaN      Tipo 1   Extra longo       Rebeldes   \n\n  procedimentos tempo_procedimento              dieta atividade_fisica  \\\n0        Nenhum       Há 2 semanas            Celíaca        Frequente   \n1   Todos acima   Há mais de 1 mês  Nenhuma restrição            Nunca   \n2   Todos acima   Há mais de 1 mês  Nenhuma restrição            Nunca   \n3   Todos acima   Há mais de 1 mês  Nenhuma restrição        Raramente   \n4   Todos acima   Há mais de 1 mês            Celíaca        Raramente   \n\n  frequencia_estresse    caracteristica faixa_etaria efeitos_desejados  \\\n0               Nunca  Característica 1      25 a 34          Efeito 7   \n1               Nunca  Característica 6      55 a 64          Efeito 1   \n2               Nunca  Característica 6      55 a 64          Efeito 1   \n3        Regularmente  Característica 7       2 a 10          Efeito 7   \n4        Regularmente  Característica 7      25 a 34          Efeito 7   \n\n   fragancia                 data_pedido  target  \n0      Rosas  2022-01-03 15:47:35.000000     1.0  \n1  Eucalipto  2022-04-10 13:37:33.000000     1.0  \n2  Eucalipto  2022-04-10 13:43:05.000000     1.0  \n3      Rosas                         NaN     0.0  \n4      Rosas                         NaN     0.0  ",
      "text/html": "<div>\n<style scoped>\n    .dataframe tbody tr th:only-of-type {\n        vertical-align: middle;\n    }\n\n    .dataframe tbody tr th {\n        vertical-align: top;\n    }\n\n    .dataframe thead th {\n        text-align: right;\n    }\n</style>\n<table border=\"1\" class=\"dataframe\">\n  <thead>\n    <tr style=\"text-align: right;\">\n      <th></th>\n      <th>id_cliente</th>\n      <th>data</th>\n      <th>sistema_operacional</th>\n      <th>navegador</th>\n      <th>localizacao</th>\n      <th>locale_x</th>\n      <th>cidade_x</th>\n      <th>estado_x</th>\n      <th>qtde_lavagem_semana</th>\n      <th>utm_source_x</th>\n      <th>tipo_cabelo</th>\n      <th>comprimento</th>\n      <th>tipo_fios</th>\n      <th>procedimentos</th>\n      <th>tempo_procedimento</th>\n      <th>dieta</th>\n      <th>atividade_fisica</th>\n      <th>frequencia_estresse</th>\n      <th>caracteristica</th>\n      <th>faixa_etaria</th>\n      <th>efeitos_desejados</th>\n      <th>fragancia</th>\n      <th>data_pedido</th>\n      <th>target</th>\n    </tr>\n  </thead>\n  <tbody>\n    <tr>\n      <th>0</th>\n      <td>d2620a3e6f00a6dc6e88</td>\n      <td>2022-01-03 15:42:22</td>\n      <td>iOS</td>\n      <td>Safari</td>\n      <td>São Paulo, Sao Paulo</td>\n      <td>BR</td>\n      <td>SÃO PAULO</td>\n      <td>SAO PAULO</td>\n      <td>4</td>\n      <td>NaN</td>\n      <td>Tipo 2</td>\n      <td>Raíz exposta</td>\n      <td>Pontas duplas</td>\n      <td>Nenhum</td>\n      <td>Há 2 semanas</td>\n      <td>Celíaca</td>\n      <td>Frequente</td>\n      <td>Nunca</td>\n      <td>Característica 1</td>\n      <td>25 a 34</td>\n      <td>Efeito 7</td>\n      <td>Rosas</td>\n      <td>2022-01-03 15:47:35.000000</td>\n      <td>1.0</td>\n    </tr>\n    <tr>\n      <th>1</th>\n      <td>9a48802d8290d19471f3</td>\n      <td>2022-01-04 08:39:53</td>\n      <td>Windows</td>\n      <td>Chrome</td>\n      <td>Ribeirão Preto, Sao Paulo</td>\n      <td>BR</td>\n      <td>RIBEIRÃO PRETO</td>\n      <td>SAO PAULO</td>\n      <td>7</td>\n      <td>NaN</td>\n      <td>Tipo 4</td>\n      <td>Muito curto</td>\n      <td>Perfeitos</td>\n      <td>Todos acima</td>\n      <td>Há mais de 1 mês</td>\n      <td>Nenhuma restrição</td>\n      <td>Nunca</td>\n      <td>Nunca</td>\n      <td>Característica 6</td>\n      <td>55 a 64</td>\n      <td>Efeito 1</td>\n      <td>Eucalipto</td>\n      <td>2022-04-10 13:37:33.000000</td>\n      <td>1.0</td>\n    </tr>\n    <tr>\n      <th>2</th>\n      <td>9a48802d8290d19471f3</td>\n      <td>2022-01-04 08:39:53</td>\n      <td>Windows</td>\n      <td>Chrome</td>\n      <td>Ribeirão Preto, Sao Paulo</td>\n      <td>BR</td>\n      <td>RIBEIRÃO PRETO</td>\n      <td>SAO PAULO</td>\n      <td>7</td>\n      <td>NaN</td>\n      <td>Tipo 4</td>\n      <td>Muito curto</td>\n      <td>Perfeitos</td>\n      <td>Todos acima</td>\n      <td>Há mais de 1 mês</td>\n      <td>Nenhuma restrição</td>\n      <td>Nunca</td>\n      <td>Nunca</td>\n      <td>Característica 6</td>\n      <td>55 a 64</td>\n      <td>Efeito 1</td>\n      <td>Eucalipto</td>\n      <td>2022-04-10 13:43:05.000000</td>\n      <td>1.0</td>\n    </tr>\n    <tr>\n      <th>3</th>\n      <td>c3344fad450ee424700d</td>\n      <td>2022-01-04 19:34:05</td>\n      <td>Android</td>\n      <td>Chrome</td>\n      <td>São Paulo, Sao Paulo</td>\n      <td>BR</td>\n      <td>SÃO PAULO</td>\n      <td>SAO PAULO</td>\n      <td>2</td>\n      <td>NaN</td>\n      <td>Tipo 1</td>\n      <td>Extra longo</td>\n      <td>Rebeldes</td>\n      <td>Todos acima</td>\n      <td>Há mais de 1 mês</td>\n      <td>Nenhuma restrição</td>\n      <td>Raramente</td>\n      <td>Regularmente</td>\n      <td>Característica 7</td>\n      <td>2 a 10</td>\n      <td>Efeito 7</td>\n      <td>Rosas</td>\n      <td>NaN</td>\n      <td>0.0</td>\n    </tr>\n    <tr>\n      <th>4</th>\n      <td>8105e34124e90300d8b5</td>\n      <td>2022-01-05 18:29:41</td>\n      <td>Android</td>\n      <td>Chrome</td>\n      <td>Manchester, England</td>\n      <td>BR</td>\n      <td>MANCHESTER</td>\n      <td>ENGLAND</td>\n      <td>5</td>\n      <td>NaN</td>\n      <td>Tipo 1</td>\n      <td>Extra longo</td>\n      <td>Rebeldes</td>\n      <td>Todos acima</td>\n      <td>Há mais de 1 mês</td>\n      <td>Celíaca</td>\n      <td>Raramente</td>\n      <td>Regularmente</td>\n      <td>Característica 7</td>\n      <td>25 a 34</td>\n      <td>Efeito 7</td>\n      <td>Rosas</td>\n      <td>NaN</td>\n      <td>0.0</td>\n    </tr>\n  </tbody>\n</table>\n</div>"
     },
     "execution_count": 11,
     "metadata": {},
     "output_type": "execute_result"
    }
   ],
   "source": [
    "df.head()"
   ],
   "metadata": {
    "collapsed": false,
    "pycharm": {
     "name": "#%%\n"
    }
   }
  },
  {
   "cell_type": "code",
   "execution_count": 12,
   "outputs": [
    {
     "data": {
      "text/plain": "20"
     },
     "execution_count": 12,
     "metadata": {},
     "output_type": "execute_result"
    }
   ],
   "source": [
    "# creating list of temporal variables\n",
    "temporal_variables = ['data', 'data_pedido']\n",
    "\n",
    "# creating list of categorical variables\n",
    "cat_vars = [var for var in df.columns if df[var].dtype == 'O'and var not in temporal_variables]\n",
    "\n",
    "# size of the categorical variables\n",
    "len(cat_vars)"
   ],
   "metadata": {
    "collapsed": false,
    "pycharm": {
     "name": "#%%\n"
    }
   }
  },
  {
   "cell_type": "code",
   "execution_count": 13,
   "outputs": [
    {
     "data": {
      "text/plain": "1"
     },
     "execution_count": 13,
     "metadata": {},
     "output_type": "execute_result"
    }
   ],
   "source": [
    "# creating list of numerical variables\n",
    "num_vars = [var for var in df.columns if var not in cat_vars and var not in temporal_variables and var != 'target']\n",
    "\n",
    "#size of the numerical variables\n",
    "len(num_vars)"
   ],
   "metadata": {
    "collapsed": false,
    "pycharm": {
     "name": "#%%\n"
    }
   }
  },
  {
   "cell_type": "code",
   "execution_count": 14,
   "outputs": [
    {
     "data": {
      "text/plain": "['qtde_lavagem_semana']"
     },
     "execution_count": 14,
     "metadata": {},
     "output_type": "execute_result"
    }
   ],
   "source": [
    "num_vars"
   ],
   "metadata": {
    "collapsed": false,
    "pycharm": {
     "name": "#%%\n"
    }
   }
  },
  {
   "cell_type": "markdown",
   "source": [
    "## 3.Missing data"
   ],
   "metadata": {
    "collapsed": false,
    "pycharm": {
     "name": "#%% md\n"
    }
   }
  },
  {
   "cell_type": "code",
   "execution_count": 15,
   "outputs": [
    {
     "data": {
      "text/plain": "             id_cliente                 data sistema_operacional navegador  \\\n0  d2620a3e6f00a6dc6e88  2022-01-03 15:42:22                 iOS    Safari   \n1  9a48802d8290d19471f3  2022-01-04 08:39:53             Windows    Chrome   \n2  9a48802d8290d19471f3  2022-01-04 08:39:53             Windows    Chrome   \n3  c3344fad450ee424700d  2022-01-04 19:34:05             Android    Chrome   \n4  8105e34124e90300d8b5  2022-01-05 18:29:41             Android    Chrome   \n\n                 localizacao locale_x        cidade_x    estado_x  \\\n0       São Paulo, Sao Paulo       BR       SÃO PAULO   SAO PAULO   \n1  Ribeirão Preto, Sao Paulo       BR  RIBEIRÃO PRETO   SAO PAULO   \n2  Ribeirão Preto, Sao Paulo       BR  RIBEIRÃO PRETO   SAO PAULO   \n3       São Paulo, Sao Paulo       BR       SÃO PAULO   SAO PAULO   \n4        Manchester, England       BR      MANCHESTER     ENGLAND   \n\n   qtde_lavagem_semana utm_source_x tipo_cabelo   comprimento      tipo_fios  \\\n0                    4          NaN      Tipo 2  Raíz exposta  Pontas duplas   \n1                    7          NaN      Tipo 4   Muito curto      Perfeitos   \n2                    7          NaN      Tipo 4   Muito curto      Perfeitos   \n3                    2          NaN      Tipo 1   Extra longo       Rebeldes   \n4                    5          NaN      Tipo 1   Extra longo       Rebeldes   \n\n  procedimentos tempo_procedimento              dieta atividade_fisica  \\\n0        Nenhum       Há 2 semanas            Celíaca        Frequente   \n1   Todos acima   Há mais de 1 mês  Nenhuma restrição            Nunca   \n2   Todos acima   Há mais de 1 mês  Nenhuma restrição            Nunca   \n3   Todos acima   Há mais de 1 mês  Nenhuma restrição        Raramente   \n4   Todos acima   Há mais de 1 mês            Celíaca        Raramente   \n\n  frequencia_estresse    caracteristica faixa_etaria efeitos_desejados  \\\n0               Nunca  Característica 1      25 a 34          Efeito 7   \n1               Nunca  Característica 6      55 a 64          Efeito 1   \n2               Nunca  Característica 6      55 a 64          Efeito 1   \n3        Regularmente  Característica 7       2 a 10          Efeito 7   \n4        Regularmente  Característica 7      25 a 34          Efeito 7   \n\n   fragancia                 data_pedido  target  \n0      Rosas  2022-01-03 15:47:35.000000     1.0  \n1  Eucalipto  2022-04-10 13:37:33.000000     1.0  \n2  Eucalipto  2022-04-10 13:43:05.000000     1.0  \n3      Rosas                         NaN     0.0  \n4      Rosas                         NaN     0.0  ",
      "text/html": "<div>\n<style scoped>\n    .dataframe tbody tr th:only-of-type {\n        vertical-align: middle;\n    }\n\n    .dataframe tbody tr th {\n        vertical-align: top;\n    }\n\n    .dataframe thead th {\n        text-align: right;\n    }\n</style>\n<table border=\"1\" class=\"dataframe\">\n  <thead>\n    <tr style=\"text-align: right;\">\n      <th></th>\n      <th>id_cliente</th>\n      <th>data</th>\n      <th>sistema_operacional</th>\n      <th>navegador</th>\n      <th>localizacao</th>\n      <th>locale_x</th>\n      <th>cidade_x</th>\n      <th>estado_x</th>\n      <th>qtde_lavagem_semana</th>\n      <th>utm_source_x</th>\n      <th>tipo_cabelo</th>\n      <th>comprimento</th>\n      <th>tipo_fios</th>\n      <th>procedimentos</th>\n      <th>tempo_procedimento</th>\n      <th>dieta</th>\n      <th>atividade_fisica</th>\n      <th>frequencia_estresse</th>\n      <th>caracteristica</th>\n      <th>faixa_etaria</th>\n      <th>efeitos_desejados</th>\n      <th>fragancia</th>\n      <th>data_pedido</th>\n      <th>target</th>\n    </tr>\n  </thead>\n  <tbody>\n    <tr>\n      <th>0</th>\n      <td>d2620a3e6f00a6dc6e88</td>\n      <td>2022-01-03 15:42:22</td>\n      <td>iOS</td>\n      <td>Safari</td>\n      <td>São Paulo, Sao Paulo</td>\n      <td>BR</td>\n      <td>SÃO PAULO</td>\n      <td>SAO PAULO</td>\n      <td>4</td>\n      <td>NaN</td>\n      <td>Tipo 2</td>\n      <td>Raíz exposta</td>\n      <td>Pontas duplas</td>\n      <td>Nenhum</td>\n      <td>Há 2 semanas</td>\n      <td>Celíaca</td>\n      <td>Frequente</td>\n      <td>Nunca</td>\n      <td>Característica 1</td>\n      <td>25 a 34</td>\n      <td>Efeito 7</td>\n      <td>Rosas</td>\n      <td>2022-01-03 15:47:35.000000</td>\n      <td>1.0</td>\n    </tr>\n    <tr>\n      <th>1</th>\n      <td>9a48802d8290d19471f3</td>\n      <td>2022-01-04 08:39:53</td>\n      <td>Windows</td>\n      <td>Chrome</td>\n      <td>Ribeirão Preto, Sao Paulo</td>\n      <td>BR</td>\n      <td>RIBEIRÃO PRETO</td>\n      <td>SAO PAULO</td>\n      <td>7</td>\n      <td>NaN</td>\n      <td>Tipo 4</td>\n      <td>Muito curto</td>\n      <td>Perfeitos</td>\n      <td>Todos acima</td>\n      <td>Há mais de 1 mês</td>\n      <td>Nenhuma restrição</td>\n      <td>Nunca</td>\n      <td>Nunca</td>\n      <td>Característica 6</td>\n      <td>55 a 64</td>\n      <td>Efeito 1</td>\n      <td>Eucalipto</td>\n      <td>2022-04-10 13:37:33.000000</td>\n      <td>1.0</td>\n    </tr>\n    <tr>\n      <th>2</th>\n      <td>9a48802d8290d19471f3</td>\n      <td>2022-01-04 08:39:53</td>\n      <td>Windows</td>\n      <td>Chrome</td>\n      <td>Ribeirão Preto, Sao Paulo</td>\n      <td>BR</td>\n      <td>RIBEIRÃO PRETO</td>\n      <td>SAO PAULO</td>\n      <td>7</td>\n      <td>NaN</td>\n      <td>Tipo 4</td>\n      <td>Muito curto</td>\n      <td>Perfeitos</td>\n      <td>Todos acima</td>\n      <td>Há mais de 1 mês</td>\n      <td>Nenhuma restrição</td>\n      <td>Nunca</td>\n      <td>Nunca</td>\n      <td>Característica 6</td>\n      <td>55 a 64</td>\n      <td>Efeito 1</td>\n      <td>Eucalipto</td>\n      <td>2022-04-10 13:43:05.000000</td>\n      <td>1.0</td>\n    </tr>\n    <tr>\n      <th>3</th>\n      <td>c3344fad450ee424700d</td>\n      <td>2022-01-04 19:34:05</td>\n      <td>Android</td>\n      <td>Chrome</td>\n      <td>São Paulo, Sao Paulo</td>\n      <td>BR</td>\n      <td>SÃO PAULO</td>\n      <td>SAO PAULO</td>\n      <td>2</td>\n      <td>NaN</td>\n      <td>Tipo 1</td>\n      <td>Extra longo</td>\n      <td>Rebeldes</td>\n      <td>Todos acima</td>\n      <td>Há mais de 1 mês</td>\n      <td>Nenhuma restrição</td>\n      <td>Raramente</td>\n      <td>Regularmente</td>\n      <td>Característica 7</td>\n      <td>2 a 10</td>\n      <td>Efeito 7</td>\n      <td>Rosas</td>\n      <td>NaN</td>\n      <td>0.0</td>\n    </tr>\n    <tr>\n      <th>4</th>\n      <td>8105e34124e90300d8b5</td>\n      <td>2022-01-05 18:29:41</td>\n      <td>Android</td>\n      <td>Chrome</td>\n      <td>Manchester, England</td>\n      <td>BR</td>\n      <td>MANCHESTER</td>\n      <td>ENGLAND</td>\n      <td>5</td>\n      <td>NaN</td>\n      <td>Tipo 1</td>\n      <td>Extra longo</td>\n      <td>Rebeldes</td>\n      <td>Todos acima</td>\n      <td>Há mais de 1 mês</td>\n      <td>Celíaca</td>\n      <td>Raramente</td>\n      <td>Regularmente</td>\n      <td>Característica 7</td>\n      <td>25 a 34</td>\n      <td>Efeito 7</td>\n      <td>Rosas</td>\n      <td>NaN</td>\n      <td>0.0</td>\n    </tr>\n  </tbody>\n</table>\n</div>"
     },
     "execution_count": 15,
     "metadata": {},
     "output_type": "execute_result"
    }
   ],
   "source": [
    "df.head()"
   ],
   "metadata": {
    "collapsed": false,
    "pycharm": {
     "name": "#%%\n"
    }
   }
  },
  {
   "cell_type": "code",
   "execution_count": 16,
   "outputs": [
    {
     "data": {
      "text/plain": "data_pedido          0.680142\nnavegador            0.200846\nutm_source_x         0.183864\ncidade_x             0.032960\nefeitos_desejados    0.003485\nestado_x             0.000431\ndtype: float64"
     },
     "execution_count": 16,
     "metadata": {},
     "output_type": "execute_result"
    }
   ],
   "source": [
    "# making a list of the variables that contain missing values\n",
    "vars_with_na = [var for var in df.columns if df[var].isnull().sum() > 0]\n",
    "\n",
    "df[vars_with_na].isnull().mean().sort_values(ascending=False)"
   ],
   "metadata": {
    "collapsed": false,
    "pycharm": {
     "name": "#%%\n"
    }
   }
  },
  {
   "cell_type": "code",
   "execution_count": 17,
   "outputs": [
    {
     "data": {
      "text/plain": "<Figure size 720x288 with 1 Axes>",
      "image/png": "[encoded data removed]"
     },
     "metadata": {
      "needs_background": "light"
     },
     "output_type": "display_data"
    }
   ],
   "source": [
    "df[vars_with_na].isnull().mean().sort_values(\n",
    "    ascending=False).plot.bar(figsize=(10, 4))\n",
    "plt.ylabel('Percentage of missing data')\n",
    "plt.axhline(y=0.80, color='r', linestyle='-')\n",
    "plt.axhline(y=0.60, color='g', linestyle='-')\n",
    "\n",
    "plt.show()"
   ],
   "metadata": {
    "collapsed": false,
    "pycharm": {
     "name": "#%%\n"
    }
   }
  },
  {
   "cell_type": "code",
   "execution_count": 18,
   "outputs": [
    {
     "name": "stdout",
     "output_type": "stream",
     "text": [
      "Number of categorical variables with na:  5\n",
      "Number of numerical variables with na:  0\n"
     ]
    }
   ],
   "source": [
    "# now we can determine which variables, from those with missing data,\n",
    "\n",
    "cat_na = [var for var in cat_vars if var in vars_with_na]\n",
    "num_na = [var for var in num_vars if var in vars_with_na]\n",
    "\n",
    "print('Number of categorical variables with na: ', len(cat_na))\n",
    "print('Number of numerical variables with na: ', len(num_na))"
   ],
   "metadata": {
    "collapsed": false,
    "pycharm": {
     "name": "#%%\n"
    }
   }
  },
  {
   "cell_type": "code",
   "execution_count": 19,
   "outputs": [
    {
     "data": {
      "text/plain": "[]"
     },
     "execution_count": 19,
     "metadata": {},
     "output_type": "execute_result"
    }
   ],
   "source": [
    "num_na"
   ],
   "metadata": {
    "collapsed": false,
    "pycharm": {
     "name": "#%%\n"
    }
   }
  },
  {
   "cell_type": "code",
   "execution_count": 20,
   "outputs": [
    {
     "data": {
      "text/plain": "['navegador', 'cidade_x', 'estado_x', 'utm_source_x', 'efeitos_desejados']"
     },
     "execution_count": 20,
     "metadata": {},
     "output_type": "execute_result"
    }
   ],
   "source": [
    "cat_na"
   ],
   "metadata": {
    "collapsed": false,
    "pycharm": {
     "name": "#%%\n"
    }
   }
  },
  {
   "cell_type": "code",
   "execution_count": 21,
   "outputs": [],
   "source": [
    "def analyse_na_value(df, var):\n",
    "\n",
    "    # copy of the dataframe, so that we do not override the original data\n",
    "    df = df.copy()\n",
    "\n",
    "    # let's make an interim variable that indicates 1 if the\n",
    "    # observation was missing or 0 otherwise\n",
    "    df[var] = np.where(df[var].isnull(), 1, 0)\n",
    "\n",
    "    tmp = df.groupby(var)['target'].agg(['count'])\n",
    "\n",
    "    # plot into a bar graph\n",
    "    tmp.plot(kind=\"barh\", y=\"count\", legend=False,\n",
    "              title=\"Target\", color='gray')\n",
    "\n",
    "    plt.show()"
   ],
   "metadata": {
    "collapsed": false,
    "pycharm": {
     "name": "#%%\n"
    }
   }
  },
  {
   "cell_type": "code",
   "execution_count": 22,
   "outputs": [
    {
     "data": {
      "text/plain": "<Figure size 432x288 with 1 Axes>",
      "image/png": "[encoded data removed]"
     },
     "metadata": {
      "needs_background": "light"
     },
     "output_type": "display_data"
    },
    {
     "data": {
      "text/plain": "<Figure size 432x288 with 1 Axes>",
      "image/png": "[encoded data removed]"
     },
     "metadata": {
      "needs_background": "light"
     },
     "output_type": "display_data"
    },
    {
     "data": {
      "text/plain": "<Figure size 432x288 with 1 Axes>",
      "image/png": "[encoded data removed]"
     },
     "metadata": {
      "needs_background": "light"
     },
     "output_type": "display_data"
    },
    {
     "data": {
      "text/plain": "<Figure size 432x288 with 1 Axes>",
      "image/png": "[encoded data removed]"
     },
     "metadata": {
      "needs_background": "light"
     },
     "output_type": "display_data"
    },
    {
     "data": {
      "text/plain": "<Figure size 432x288 with 1 Axes>",
      "image/png": "[encoded data removed]"
     },
     "metadata": {
      "needs_background": "light"
     },
     "output_type": "display_data"
    },
    {
     "data": {
      "text/plain": "<Figure size 432x288 with 1 Axes>",
      "image/png": "[encoded data removed]"
     },
     "metadata": {
      "needs_background": "light"
     },
     "output_type": "display_data"
    }
   ],
   "source": [
    "for var in vars_with_na:\n",
    "    analyse_na_value(df, var)"
   ],
   "metadata": {
    "collapsed": false,
    "pycharm": {
     "name": "#%%\n"
    }
   }
  },
  {
   "cell_type": "markdown",
   "source": [
    "Algumas dessas variáveis apresentaram essa grande quantidade de dados faltantes devido ao modelo de dados, iremos remover essas variáveis, porém iremos fazer uma análise mais detalhada para encontrar oportunidades de feature engineering.\n"
   ],
   "metadata": {
    "collapsed": false,
    "pycharm": {
     "name": "#%% md\n"
    }
   }
  },
  {
   "cell_type": "markdown",
   "source": [
    "### 4.Numerical variables"
   ],
   "metadata": {
    "collapsed": false,
    "pycharm": {
     "name": "#%% md\n"
    }
   }
  },
  {
   "cell_type": "code",
   "execution_count": 23,
   "outputs": [
    {
     "name": "stdout",
     "output_type": "stream",
     "text": [
      "Number of numerical variables:  1\n"
     ]
    },
    {
     "data": {
      "text/plain": "   qtde_lavagem_semana\n0                    4\n1                    7\n2                    7\n3                    2\n4                    5",
      "text/html": "<div>\n<style scoped>\n    .dataframe tbody tr th:only-of-type {\n        vertical-align: middle;\n    }\n\n    .dataframe tbody tr th {\n        vertical-align: top;\n    }\n\n    .dataframe thead th {\n        text-align: right;\n    }\n</style>\n<table border=\"1\" class=\"dataframe\">\n  <thead>\n    <tr style=\"text-align: right;\">\n      <th></th>\n      <th>qtde_lavagem_semana</th>\n    </tr>\n  </thead>\n  <tbody>\n    <tr>\n      <th>0</th>\n      <td>4</td>\n    </tr>\n    <tr>\n      <th>1</th>\n      <td>7</td>\n    </tr>\n    <tr>\n      <th>2</th>\n      <td>7</td>\n    </tr>\n    <tr>\n      <th>3</th>\n      <td>2</td>\n    </tr>\n    <tr>\n      <th>4</th>\n      <td>5</td>\n    </tr>\n  </tbody>\n</table>\n</div>"
     },
     "execution_count": 23,
     "metadata": {},
     "output_type": "execute_result"
    }
   ],
   "source": [
    "print('Number of numerical variables: ', len(num_vars))\n",
    "\n",
    "# visualise the numerical variables\n",
    "df[num_vars].head()"
   ],
   "metadata": {
    "collapsed": false,
    "pycharm": {
     "name": "#%%\n"
    }
   }
  },
  {
   "cell_type": "markdown",
   "source": [
    "### Temporal variables"
   ],
   "metadata": {
    "collapsed": false,
    "pycharm": {
     "name": "#%% md\n"
    }
   }
  },
  {
   "cell_type": "code",
   "execution_count": 24,
   "outputs": [
    {
     "name": "stdout",
     "output_type": "stream",
     "text": [
      "Number of temporal variables:  2\n"
     ]
    }
   ],
   "source": [
    "print('Number of temporal variables: ', len(temporal_variables))"
   ],
   "metadata": {
    "collapsed": false,
    "pycharm": {
     "name": "#%%\n"
    }
   }
  },
  {
   "cell_type": "code",
   "execution_count": 25,
   "outputs": [
    {
     "data": {
      "text/plain": "['data', 'data_pedido']"
     },
     "execution_count": 25,
     "metadata": {},
     "output_type": "execute_result"
    }
   ],
   "source": [
    "temporal_variables"
   ],
   "metadata": {
    "collapsed": false,
    "pycharm": {
     "name": "#%%\n"
    }
   }
  },
  {
   "cell_type": "code",
   "execution_count": 26,
   "outputs": [],
   "source": [
    "# Para as pessoas que realizaram a compra, qual a diferença de dias entre o formulário e a data de pedido? #status_pagamento = Entregue,Em transporte, Pagamento aprovado"
   ],
   "metadata": {
    "collapsed": false,
    "pycharm": {
     "name": "#%%\n"
    }
   }
  },
  {
   "cell_type": "code",
   "execution_count": 27,
   "outputs": [],
   "source": [
    "#transform datetime\n",
    "df['data_pedido'] = pd.to_datetime(df['data_pedido'])\n",
    "df['data'] = pd.to_datetime(df['data'])\n",
    "df['diferenca_dias'] = df['data_pedido'] - df['data']\n",
    "\n",
    "#transform to days\n",
    "df['diferenca_dias'] = df['diferenca_dias'].dt.days"
   ],
   "metadata": {
    "collapsed": false,
    "pycharm": {
     "name": "#%%\n"
    }
   }
  },
  {
   "cell_type": "code",
   "execution_count": 28,
   "outputs": [
    {
     "data": {
      "text/plain": "<AxesSubplot:>"
     },
     "execution_count": 28,
     "metadata": {},
     "output_type": "execute_result"
    },
    {
     "data": {
      "text/plain": "<Figure size 720x288 with 1 Axes>",
      "image/png": "[encoded data removed]"
     },
     "metadata": {
      "needs_background": "light"
     },
     "output_type": "display_data"
    }
   ],
   "source": [
    "df[df.diferenca_dias >  0].diferenca_dias.plot(kind='box', figsize=(10, 4))"
   ],
   "metadata": {
    "collapsed": false,
    "pycharm": {
     "name": "#%%\n"
    }
   }
  },
  {
   "cell_type": "code",
   "execution_count": 29,
   "outputs": [
    {
     "name": "stdout",
     "output_type": "stream",
     "text": [
      "count    49462.000000\n",
      "mean        47.000303\n",
      "std         41.511386\n",
      "min          1.000000\n",
      "25%         10.000000\n",
      "50%         36.000000\n",
      "75%         76.000000\n",
      "max        179.000000\n",
      "Name: diferenca_dias, dtype: float64\n"
     ]
    }
   ],
   "source": [
    "print(df[df.diferenca_dias >  0].diferenca_dias.describe())"
   ],
   "metadata": {
    "collapsed": false,
    "pycharm": {
     "name": "#%%\n"
    }
   }
  },
  {
   "cell_type": "code",
   "execution_count": 30,
   "outputs": [
    {
     "data": {
      "text/plain": "             id_cliente                data sistema_operacional navegador  \\\n0  d2620a3e6f00a6dc6e88 2022-01-03 15:42:22                 iOS    Safari   \n1  9a48802d8290d19471f3 2022-01-04 08:39:53             Windows    Chrome   \n2  9a48802d8290d19471f3 2022-01-04 08:39:53             Windows    Chrome   \n3  c3344fad450ee424700d 2022-01-04 19:34:05             Android    Chrome   \n4  8105e34124e90300d8b5 2022-01-05 18:29:41             Android    Chrome   \n\n                 localizacao locale_x        cidade_x    estado_x  \\\n0       São Paulo, Sao Paulo       BR       SÃO PAULO   SAO PAULO   \n1  Ribeirão Preto, Sao Paulo       BR  RIBEIRÃO PRETO   SAO PAULO   \n2  Ribeirão Preto, Sao Paulo       BR  RIBEIRÃO PRETO   SAO PAULO   \n3       São Paulo, Sao Paulo       BR       SÃO PAULO   SAO PAULO   \n4        Manchester, England       BR      MANCHESTER     ENGLAND   \n\n   qtde_lavagem_semana utm_source_x tipo_cabelo   comprimento      tipo_fios  \\\n0                    4          NaN      Tipo 2  Raíz exposta  Pontas duplas   \n1                    7          NaN      Tipo 4   Muito curto      Perfeitos   \n2                    7          NaN      Tipo 4   Muito curto      Perfeitos   \n3                    2          NaN      Tipo 1   Extra longo       Rebeldes   \n4                    5          NaN      Tipo 1   Extra longo       Rebeldes   \n\n  procedimentos tempo_procedimento              dieta atividade_fisica  \\\n0        Nenhum       Há 2 semanas            Celíaca        Frequente   \n1   Todos acima   Há mais de 1 mês  Nenhuma restrição            Nunca   \n2   Todos acima   Há mais de 1 mês  Nenhuma restrição            Nunca   \n3   Todos acima   Há mais de 1 mês  Nenhuma restrição        Raramente   \n4   Todos acima   Há mais de 1 mês            Celíaca        Raramente   \n\n  frequencia_estresse    caracteristica faixa_etaria efeitos_desejados  \\\n0               Nunca  Característica 1      25 a 34          Efeito 7   \n1               Nunca  Característica 6      55 a 64          Efeito 1   \n2               Nunca  Característica 6      55 a 64          Efeito 1   \n3        Regularmente  Característica 7       2 a 10          Efeito 7   \n4        Regularmente  Característica 7      25 a 34          Efeito 7   \n\n   fragancia         data_pedido  target  diferenca_dias  \n0      Rosas 2022-01-03 15:47:35     1.0             0.0  \n1  Eucalipto 2022-04-10 13:37:33     1.0            96.0  \n2  Eucalipto 2022-04-10 13:43:05     1.0            96.0  \n3      Rosas                 NaT     0.0             NaN  \n4      Rosas                 NaT     0.0             NaN  ",
      "text/html": "<div>\n<style scoped>\n    .dataframe tbody tr th:only-of-type {\n        vertical-align: middle;\n    }\n\n    .dataframe tbody tr th {\n        vertical-align: top;\n    }\n\n    .dataframe thead th {\n        text-align: right;\n    }\n</style>\n<table border=\"1\" class=\"dataframe\">\n  <thead>\n    <tr style=\"text-align: right;\">\n      <th></th>\n      <th>id_cliente</th>\n      <th>data</th>\n      <th>sistema_operacional</th>\n      <th>navegador</th>\n      <th>localizacao</th>\n      <th>locale_x</th>\n      <th>cidade_x</th>\n      <th>estado_x</th>\n      <th>qtde_lavagem_semana</th>\n      <th>utm_source_x</th>\n      <th>tipo_cabelo</th>\n      <th>comprimento</th>\n      <th>tipo_fios</th>\n      <th>procedimentos</th>\n      <th>tempo_procedimento</th>\n      <th>dieta</th>\n      <th>atividade_fisica</th>\n      <th>frequencia_estresse</th>\n      <th>caracteristica</th>\n      <th>faixa_etaria</th>\n      <th>efeitos_desejados</th>\n      <th>fragancia</th>\n      <th>data_pedido</th>\n      <th>target</th>\n      <th>diferenca_dias</th>\n    </tr>\n  </thead>\n  <tbody>\n    <tr>\n      <th>0</th>\n      <td>d2620a3e6f00a6dc6e88</td>\n      <td>2022-01-03 15:42:22</td>\n      <td>iOS</td>\n      <td>Safari</td>\n      <td>São Paulo, Sao Paulo</td>\n      <td>BR</td>\n      <td>SÃO PAULO</td>\n      <td>SAO PAULO</td>\n      <td>4</td>\n      <td>NaN</td>\n      <td>Tipo 2</td>\n      <td>Raíz exposta</td>\n      <td>Pontas duplas</td>\n      <td>Nenhum</td>\n      <td>Há 2 semanas</td>\n      <td>Celíaca</td>\n      <td>Frequente</td>\n      <td>Nunca</td>\n      <td>Característica 1</td>\n      <td>25 a 34</td>\n      <td>Efeito 7</td>\n      <td>Rosas</td>\n      <td>2022-01-03 15:47:35</td>\n      <td>1.0</td>\n      <td>0.0</td>\n    </tr>\n    <tr>\n      <th>1</th>\n      <td>9a48802d8290d19471f3</td>\n      <td>2022-01-04 08:39:53</td>\n      <td>Windows</td>\n      <td>Chrome</td>\n      <td>Ribeirão Preto, Sao Paulo</td>\n      <td>BR</td>\n      <td>RIBEIRÃO PRETO</td>\n      <td>SAO PAULO</td>\n      <td>7</td>\n      <td>NaN</td>\n      <td>Tipo 4</td>\n      <td>Muito curto</td>\n      <td>Perfeitos</td>\n      <td>Todos acima</td>\n      <td>Há mais de 1 mês</td>\n      <td>Nenhuma restrição</td>\n      <td>Nunca</td>\n      <td>Nunca</td>\n      <td>Característica 6</td>\n      <td>55 a 64</td>\n      <td>Efeito 1</td>\n      <td>Eucalipto</td>\n      <td>2022-04-10 13:37:33</td>\n      <td>1.0</td>\n      <td>96.0</td>\n    </tr>\n    <tr>\n      <th>2</th>\n      <td>9a48802d8290d19471f3</td>\n      <td>2022-01-04 08:39:53</td>\n      <td>Windows</td>\n      <td>Chrome</td>\n      <td>Ribeirão Preto, Sao Paulo</td>\n      <td>BR</td>\n      <td>RIBEIRÃO PRETO</td>\n      <td>SAO PAULO</td>\n      <td>7</td>\n      <td>NaN</td>\n      <td>Tipo 4</td>\n      <td>Muito curto</td>\n      <td>Perfeitos</td>\n      <td>Todos acima</td>\n      <td>Há mais de 1 mês</td>\n      <td>Nenhuma restrição</td>\n      <td>Nunca</td>\n      <td>Nunca</td>\n      <td>Característica 6</td>\n      <td>55 a 64</td>\n      <td>Efeito 1</td>\n      <td>Eucalipto</td>\n      <td>2022-04-10 13:43:05</td>\n      <td>1.0</td>\n      <td>96.0</td>\n    </tr>\n    <tr>\n      <th>3</th>\n      <td>c3344fad450ee424700d</td>\n      <td>2022-01-04 19:34:05</td>\n      <td>Android</td>\n      <td>Chrome</td>\n      <td>São Paulo, Sao Paulo</td>\n      <td>BR</td>\n      <td>SÃO PAULO</td>\n      <td>SAO PAULO</td>\n      <td>2</td>\n      <td>NaN</td>\n      <td>Tipo 1</td>\n      <td>Extra longo</td>\n      <td>Rebeldes</td>\n      <td>Todos acima</td>\n      <td>Há mais de 1 mês</td>\n      <td>Nenhuma restrição</td>\n      <td>Raramente</td>\n      <td>Regularmente</td>\n      <td>Característica 7</td>\n      <td>2 a 10</td>\n      <td>Efeito 7</td>\n      <td>Rosas</td>\n      <td>NaT</td>\n      <td>0.0</td>\n      <td>NaN</td>\n    </tr>\n    <tr>\n      <th>4</th>\n      <td>8105e34124e90300d8b5</td>\n      <td>2022-01-05 18:29:41</td>\n      <td>Android</td>\n      <td>Chrome</td>\n      <td>Manchester, England</td>\n      <td>BR</td>\n      <td>MANCHESTER</td>\n      <td>ENGLAND</td>\n      <td>5</td>\n      <td>NaN</td>\n      <td>Tipo 1</td>\n      <td>Extra longo</td>\n      <td>Rebeldes</td>\n      <td>Todos acima</td>\n      <td>Há mais de 1 mês</td>\n      <td>Celíaca</td>\n      <td>Raramente</td>\n      <td>Regularmente</td>\n      <td>Característica 7</td>\n      <td>25 a 34</td>\n      <td>Efeito 7</td>\n      <td>Rosas</td>\n      <td>NaT</td>\n      <td>0.0</td>\n      <td>NaN</td>\n    </tr>\n  </tbody>\n</table>\n</div>"
     },
     "execution_count": 30,
     "metadata": {},
     "output_type": "execute_result"
    }
   ],
   "source": [
    "df.head()"
   ],
   "metadata": {
    "collapsed": false,
    "pycharm": {
     "name": "#%%\n"
    }
   }
  },
  {
   "cell_type": "markdown",
   "source": [],
   "metadata": {
    "collapsed": false,
    "pycharm": {
     "name": "#%% md\n"
    }
   }
  },
  {
   "cell_type": "code",
   "execution_count": 31,
   "outputs": [
    {
     "data": {
      "text/plain": "<Figure size 720x288 with 1 Axes>",
      "image/png": "[encoded data removed]"
     },
     "metadata": {
      "needs_background": "light"
     },
     "output_type": "display_data"
    }
   ],
   "source": [
    "df[num_vars[0]].plot(kind='hist', figsize=(10, 4), bins=50)\n",
    "plt.xlabel('Numerical Variables')\n",
    "plt.ylabel('Count')\n",
    "plt.show()"
   ],
   "metadata": {
    "collapsed": false,
    "pycharm": {
     "name": "#%%\n"
    }
   }
  },
  {
   "cell_type": "code",
   "execution_count": 31,
   "outputs": [],
   "source": [],
   "metadata": {
    "collapsed": false,
    "pycharm": {
     "name": "#%%\n"
    }
   }
  },
  {
   "cell_type": "code",
   "execution_count": 31,
   "outputs": [],
   "source": [],
   "metadata": {
    "collapsed": false,
    "pycharm": {
     "name": "#%%\n"
    }
   }
  },
  {
   "cell_type": "code",
   "execution_count": 31,
   "outputs": [],
   "source": [],
   "metadata": {
    "collapsed": false,
    "pycharm": {
     "name": "#%%\n"
    }
   }
  },
  {
   "cell_type": "markdown",
   "source": [
    "# Number of labels: Cardinality"
   ],
   "metadata": {
    "collapsed": false,
    "pycharm": {
     "name": "#%% md\n"
    }
   }
  },
  {
   "cell_type": "code",
   "execution_count": 32,
   "outputs": [
    {
     "data": {
      "text/plain": "<AxesSubplot:>"
     },
     "execution_count": 32,
     "metadata": {},
     "output_type": "execute_result"
    },
    {
     "data": {
      "text/plain": "<Figure size 864x360 with 1 Axes>",
      "image/png": "[encoded data removed]"
     },
     "metadata": {
      "needs_background": "light"
     },
     "output_type": "display_data"
    }
   ],
   "source": [
    "# we count unique categories with pandas unique()\n",
    "# and then plot them in descending order\n",
    "\n",
    "df[cat_vars].nunique().sort_values(ascending=False).plot.bar(figsize=(12,5))"
   ],
   "metadata": {
    "collapsed": false,
    "pycharm": {
     "name": "#%%\n"
    }
   }
  },
  {
   "cell_type": "code",
   "execution_count": 33,
   "outputs": [
    {
     "data": {
      "text/plain": "                                 columns  cardinality           dtype    null\nid_cliente                    id_cliente       305457          object       0\ndata                                data       416261  datetime64[ns]       0\nsistema_operacional  sistema_operacional            6          object       0\nnavegador                      navegador            8          object   97286\nlocalizacao                  localizacao         5679          object       0\nlocale_x                        locale_x            1          object       0\ncidade_x                        cidade_x         5314          object   15965\nestado_x                        estado_x          327          object     209\nqtde_lavagem_semana  qtde_lavagem_semana            7           int64       0\nutm_source_x                utm_source_x           38          object   89060\ntipo_cabelo                  tipo_cabelo            4          object       0\ncomprimento                  comprimento            4          object       0\ntipo_fios                      tipo_fios            4          object       0\nprocedimentos              procedimentos           66          object       0\ntempo_procedimento    tempo_procedimento            5          object       0\ndieta                              dieta            4          object       0\natividade_fisica        atividade_fisica            5          object       0\nfrequencia_estresse  frequencia_estresse            4          object       0\ncaracteristica            caracteristica         1955          object       0\nfaixa_etaria                faixa_etaria            8          object       0\nefeitos_desejados      efeitos_desejados        11835          object    1688\nfragancia                      fragancia            3          object       0\ndata_pedido                  data_pedido        53147  datetime64[ns]  329448\ntarget                            target            2         float64       0\ndiferenca_dias            diferenca_dias          356         float64  329448",
      "text/html": "<div>\n<style scoped>\n    .dataframe tbody tr th:only-of-type {\n        vertical-align: middle;\n    }\n\n    .dataframe tbody tr th {\n        vertical-align: top;\n    }\n\n    .dataframe thead th {\n        text-align: right;\n    }\n</style>\n<table border=\"1\" class=\"dataframe\">\n  <thead>\n    <tr style=\"text-align: right;\">\n      <th></th>\n      <th>columns</th>\n      <th>cardinality</th>\n      <th>dtype</th>\n      <th>null</th>\n    </tr>\n  </thead>\n  <tbody>\n    <tr>\n      <th>id_cliente</th>\n      <td>id_cliente</td>\n      <td>305457</td>\n      <td>object</td>\n      <td>0</td>\n    </tr>\n    <tr>\n      <th>data</th>\n      <td>data</td>\n      <td>416261</td>\n      <td>datetime64[ns]</td>\n      <td>0</td>\n    </tr>\n    <tr>\n      <th>sistema_operacional</th>\n      <td>sistema_operacional</td>\n      <td>6</td>\n      <td>object</td>\n      <td>0</td>\n    </tr>\n    <tr>\n      <th>navegador</th>\n      <td>navegador</td>\n      <td>8</td>\n      <td>object</td>\n      <td>97286</td>\n    </tr>\n    <tr>\n      <th>localizacao</th>\n      <td>localizacao</td>\n      <td>5679</td>\n      <td>object</td>\n      <td>0</td>\n    </tr>\n    <tr>\n      <th>locale_x</th>\n      <td>locale_x</td>\n      <td>1</td>\n      <td>object</td>\n      <td>0</td>\n    </tr>\n    <tr>\n      <th>cidade_x</th>\n      <td>cidade_x</td>\n      <td>5314</td>\n      <td>object</td>\n      <td>15965</td>\n    </tr>\n    <tr>\n      <th>estado_x</th>\n      <td>estado_x</td>\n      <td>327</td>\n      <td>object</td>\n      <td>209</td>\n    </tr>\n    <tr>\n      <th>qtde_lavagem_semana</th>\n      <td>qtde_lavagem_semana</td>\n      <td>7</td>\n      <td>int64</td>\n      <td>0</td>\n    </tr>\n    <tr>\n      <th>utm_source_x</th>\n      <td>utm_source_x</td>\n      <td>38</td>\n      <td>object</td>\n      <td>89060</td>\n    </tr>\n    <tr>\n      <th>tipo_cabelo</th>\n      <td>tipo_cabelo</td>\n      <td>4</td>\n      <td>object</td>\n      <td>0</td>\n    </tr>\n    <tr>\n      <th>comprimento</th>\n      <td>comprimento</td>\n      <td>4</td>\n      <td>object</td>\n      <td>0</td>\n    </tr>\n    <tr>\n      <th>tipo_fios</th>\n      <td>tipo_fios</td>\n      <td>4</td>\n      <td>object</td>\n      <td>0</td>\n    </tr>\n    <tr>\n      <th>procedimentos</th>\n      <td>procedimentos</td>\n      <td>66</td>\n      <td>object</td>\n      <td>0</td>\n    </tr>\n    <tr>\n      <th>tempo_procedimento</th>\n      <td>tempo_procedimento</td>\n      <td>5</td>\n      <td>object</td>\n      <td>0</td>\n    </tr>\n    <tr>\n      <th>dieta</th>\n      <td>dieta</td>\n      <td>4</td>\n      <td>object</td>\n      <td>0</td>\n    </tr>\n    <tr>\n      <th>atividade_fisica</th>\n      <td>atividade_fisica</td>\n      <td>5</td>\n      <td>object</td>\n      <td>0</td>\n    </tr>\n    <tr>\n      <th>frequencia_estresse</th>\n      <td>frequencia_estresse</td>\n      <td>4</td>\n      <td>object</td>\n      <td>0</td>\n    </tr>\n    <tr>\n      <th>caracteristica</th>\n      <td>caracteristica</td>\n      <td>1955</td>\n      <td>object</td>\n      <td>0</td>\n    </tr>\n    <tr>\n      <th>faixa_etaria</th>\n      <td>faixa_etaria</td>\n      <td>8</td>\n      <td>object</td>\n      <td>0</td>\n    </tr>\n    <tr>\n      <th>efeitos_desejados</th>\n      <td>efeitos_desejados</td>\n      <td>11835</td>\n      <td>object</td>\n      <td>1688</td>\n    </tr>\n    <tr>\n      <th>fragancia</th>\n      <td>fragancia</td>\n      <td>3</td>\n      <td>object</td>\n      <td>0</td>\n    </tr>\n    <tr>\n      <th>data_pedido</th>\n      <td>data_pedido</td>\n      <td>53147</td>\n      <td>datetime64[ns]</td>\n      <td>329448</td>\n    </tr>\n    <tr>\n      <th>target</th>\n      <td>target</td>\n      <td>2</td>\n      <td>float64</td>\n      <td>0</td>\n    </tr>\n    <tr>\n      <th>diferenca_dias</th>\n      <td>diferenca_dias</td>\n      <td>356</td>\n      <td>float64</td>\n      <td>329448</td>\n    </tr>\n  </tbody>\n</table>\n</div>"
     },
     "execution_count": 33,
     "metadata": {},
     "output_type": "execute_result"
    }
   ],
   "source": [
    "pd.DataFrame(\n",
    "    {\n",
    "        'columns': df.columns,\n",
    "        'cardinality': df.nunique(),\n",
    "        'dtype': df.dtypes,\n",
    "        'null': df.isnull().sum()\n",
    "\n",
    "    }\n",
    ")"
   ],
   "metadata": {
    "collapsed": false,
    "pycharm": {
     "name": "#%%\n"
    }
   }
  },
  {
   "cell_type": "markdown",
   "source": [
    "## Rare Labels"
   ],
   "metadata": {
    "collapsed": false,
    "pycharm": {
     "name": "#%% md\n"
    }
   }
  },
  {
   "cell_type": "code",
   "execution_count": 34,
   "outputs": [
    {
     "name": "stdout",
     "output_type": "stream",
     "text": [
      "id_cliente\n",
      "00000936326ac7177c62    0.000002\n",
      "0000ef7fad80c2359144    0.000004\n",
      "00011b3dda83acdf0d58    0.000004\n",
      "00011c0bb9ed0eaf36c5    0.000002\n",
      "00014b5928af30319cd9    0.000002\n",
      "                          ...   \n",
      "fffefa706df06fff92bc    0.000002\n",
      "fffefcb200532b47df34    0.000002\n",
      "ffffc7d0e15676698136    0.000002\n",
      "ffffdc3c7b3343facdbf    0.000004\n",
      "ffffe99b9a52fe4e1b33    0.000002\n",
      "Name: target, Length: 305455, dtype: float64\n",
      "\n",
      "sistema_operacional\n",
      " ChromeOS    0.000378\n",
      "Mac OS       0.004393\n",
      "Name: target, dtype: float64\n",
      "\n",
      "navegador\n",
      "ChromeiOS         0.005419\n",
      "ChromiumEdge      0.003683\n",
      "Firefox           0.003113\n",
      "MSEdge            0.000006\n",
      "Opera             0.001402\n",
      "Yandex.Browser    0.000010\n",
      "Name: target, dtype: float64\n",
      "\n",
      "localizacao\n",
      "A dos Ruivos, Leiria               0.000004\n",
      "Abadia de Goias, Goias             0.000039\n",
      "Abadiania, Goias                   0.000041\n",
      "Abaete dos Mendes, Minas Gerais    0.000010\n",
      "Abaete, Minas Gerais               0.000097\n",
      "                                     ...   \n",
      "Águeda Municipality, Aveiro        0.000002\n",
      "Épalinges, Vaud                    0.000002\n",
      "Évreux, Normandy                   0.000002\n",
      "Óbidos, Leiria                     0.000004\n",
      "Ōtsu, Shiga                        0.000002\n",
      "Name: target, Length: 5667, dtype: float64\n",
      "\n",
      "Series([], Name: target, dtype: float64)\n",
      "\n",
      "cidade_x\n",
      "A DOS RUIVOS           0.000004\n",
      "ABADIA DE GOIAS        0.000039\n",
      "ABADIANIA              0.000041\n",
      "ABAETE                 0.000097\n",
      "ABAETE DOS MENDES      0.000010\n",
      "                         ...   \n",
      "ÁGUEDA MUNICIPALITY    0.000002\n",
      "ÉPALINGES              0.000002\n",
      "ÉVREUX                 0.000002\n",
      "ÓBIDOS                 0.000004\n",
      "ŌTSU                   0.000002\n",
      "Name: target, Length: 5303, dtype: float64\n",
      "\n",
      "estado_x\n",
      " AARGAU           0.000004\n",
      " ABRUZZO          0.000002\n",
      " ABU DHABI        0.000006\n",
      " ACRE             0.001701\n",
      " AICHI            0.000045\n",
      "                    ...   \n",
      " ZURICH           0.000031\n",
      " ÉVORA            0.000014\n",
      " ÎLE-DE-FRANCE    0.000076\n",
      " ÑUBLE            0.000002\n",
      " ŌSAKA            0.000017\n",
      "Name: target, Length: 307, dtype: float64\n",
      "\n",
      "utm_source_x\n",
      "Facebook ads       0.000002\n",
      "IGShopping         0.006902\n",
      "adwords            0.001602\n",
      "all                0.000002\n",
      "blog               0.002991\n",
      "copy_link          0.000002\n",
      "cpc                0.000008\n",
      "email              0.000002\n",
      "email_sf           0.003970\n",
      "facebook           0.000006\n",
      "incicacao          0.000159\n",
      "meliuz             0.000124\n",
      "microinfluencer    0.002079\n",
      "popup              0.000004\n",
      "rakuten            0.007092\n",
      "salesforce         0.000107\n",
      "santander          0.000002\n",
      "sendinblue         0.000039\n",
      "sf_                0.000002\n",
      "sf_camp_email      0.000004\n",
      "sf_email_flux      0.000774\n",
      "sf_sms_camp        0.000021\n",
      "sf_wpp_flu         0.000008\n",
      "site               0.001458\n",
      "sms                0.000008\n",
      "telegram           0.000050\n",
      "teste_source       0.000163\n",
      "tiktok             0.002062\n",
      "uaubox             0.000004\n",
      "whatsapp           0.000064\n",
      "Name: target, dtype: float64\n",
      "\n",
      "Series([], Name: target, dtype: float64)\n",
      "\n",
      "Series([], Name: target, dtype: float64)\n",
      "\n",
      "Series([], Name: target, dtype: float64)\n",
      "\n",
      "procedimentos\n",
      "Corte agressivo, Exposição ao sol, Nenhum             0.004360\n",
      "Corte agressivo, Exposição ao sol, Nenhum, Tintura    0.001047\n",
      "Corte agressivo, Exposição ao sol, Tintura            0.004179\n",
      "Corte agressivo, Exposição ao sol, Tintura, Nenhum    0.000320\n",
      "Corte agressivo, Nenhum, Exposição ao sol, Tintura    0.001676\n",
      "Corte agressivo, Nenhum, Tintura                      0.003064\n",
      "Corte agressivo, Nenhum, Tintura, Exposição ao sol    0.000595\n",
      "Corte agressivo, Tintura, Exposição ao sol            0.004980\n",
      "Corte agressivo, Tintura, Exposição ao sol, Nenhum    0.000694\n",
      "Corte agressivo, Tintura, Nenhum                      0.003216\n",
      "Corte agressivo, Tintura, Nenhum, Exposição ao sol    0.001994\n",
      "Exposição ao sol, Corte agressivo, Nenhum             0.001218\n",
      "Exposição ao sol, Corte agressivo, Nenhum, Tintura    0.000258\n",
      "Exposição ao sol, Corte agressivo, Tintura            0.003805\n",
      "Exposição ao sol, Corte agressivo, Tintura, Nenhum    0.000514\n",
      "Exposição ao sol, Nenhum                              0.007213\n",
      "Exposição ao sol, Nenhum, Corte agressivo             0.002036\n",
      "Exposição ao sol, Nenhum, Corte agressivo, Tintura    0.000772\n",
      "Exposição ao sol, Nenhum, Tintura                     0.000495\n",
      "Exposição ao sol, Nenhum, Tintura, Corte agressivo    0.000603\n",
      "Exposição ao sol, Tintura                             0.004936\n",
      "Exposição ao sol, Tintura, Corte agressivo            0.002688\n",
      "Exposição ao sol, Tintura, Corte agressivo, Nenhum    0.000429\n",
      "Exposição ao sol, Tintura, Nenhum                     0.000299\n",
      "Exposição ao sol, Tintura, Nenhum, Corte agressivo    0.000188\n",
      "N/C                                                   0.000006\n",
      "Nenhum, Corte agressivo, Exposição ao sol             0.002797\n",
      "Nenhum, Corte agressivo, Exposição ao sol, Tintura    0.000419\n",
      "Nenhum, Corte agressivo, Tintura                      0.003396\n",
      "Nenhum, Corte agressivo, Tintura, Exposição ao sol    0.000663\n",
      "Nenhum, Exposição ao sol, Corte agressivo             0.005006\n",
      "Nenhum, Exposição ao sol, Corte agressivo, Tintura    0.001356\n",
      "Nenhum, Exposição ao sol, Tintura                     0.000780\n",
      "Nenhum, Exposição ao sol, Tintura, Corte agressivo    0.000739\n",
      "Nenhum, Tintura                                       0.004426\n",
      "Nenhum, Tintura, Corte agressivo                      0.003266\n",
      "Nenhum, Tintura, Corte agressivo, Exposição ao sol    0.001026\n",
      "Nenhum, Tintura, Exposição ao sol                     0.000429\n",
      "Nenhum, Tintura, Exposição ao sol, Corte agressivo    0.000303\n",
      "Tintura, Corte agressivo, Exposição ao sol, Nenhum    0.004053\n",
      "Tintura, Exposição ao sol, Corte agressivo            0.006699\n",
      "Tintura, Exposição ao sol, Corte agressivo, Nenhum    0.000683\n",
      "Tintura, Exposição ao sol, Nenhum                     0.000979\n",
      "Tintura, Exposição ao sol, Nenhum, Corte agressivo    0.000879\n",
      "Tintura, Nenhum                                       0.007948\n",
      "Tintura, Nenhum, Corte agressivo                      0.005382\n",
      "Tintura, Nenhum, Corte agressivo, Exposição ao sol    0.001701\n",
      "Tintura, Nenhum, Exposição ao sol                     0.002446\n",
      "Tintura, Nenhum, Exposição ao sol, Corte agressivo    0.002294\n",
      "Name: target, dtype: float64\n",
      "\n",
      "Series([], Name: target, dtype: float64)\n",
      "\n",
      "Series([], Name: target, dtype: float64)\n",
      "\n",
      "Series([], Name: target, dtype: float64)\n",
      "\n",
      "frequencia_estresse\n",
      "Quase sempre    0.006716\n",
      "Name: target, dtype: float64\n",
      "\n",
      "caracteristica\n",
      "Característica 1, Característica 10                                                                                                                                  0.001610\n",
      "Característica 1, Característica 10, Característica 2                                                                                                                0.000006\n",
      "Característica 1, Característica 10, Característica 2, Característica 3, Característica 9                                                                            0.000002\n",
      "Característica 1, Característica 10, Característica 2, Característica 9                                                                                              0.000004\n",
      "Característica 1, Característica 10, Característica 2, Característica 9, Característica 3, Característica 8                                                          0.000002\n",
      "                                                                                                                                                                       ...   \n",
      "Característica 9, Característica 8, Característica 6                                                                                                                 0.000004\n",
      "Característica 9, Característica 8, Característica 6, Característica 1                                                                                               0.000002\n",
      "Característica 9, Característica 8, Característica 6, Característica 2, Característica 5, Característica 1, Característica 10, Característica 4, Característica 3    0.000002\n",
      "Característica 9, Característica 8, Característica 6, Característica 3, Característica 10                                                                            0.000002\n",
      "N/C                                                                                                                                                                  0.000006\n",
      "Name: target, Length: 1938, dtype: float64\n",
      "\n",
      "faixa_etaria\n",
      "2 a 10    0.008832\n",
      "65+       0.008056\n",
      "Name: target, dtype: float64\n",
      "\n",
      "efeitos_desejados\n",
      "Efeito 1, Efeito 10                                  0.000017\n",
      "Efeito 1, Efeito 10, Efeito 2                        0.000004\n",
      "Efeito 1, Efeito 10, Efeito 2, Efeito 3              0.000017\n",
      "Efeito 1, Efeito 10, Efeito 2, Efeito 3, Efeito 4    0.000002\n",
      "Efeito 1, Efeito 10, Efeito 2, Efeito 3, Efeito 7    0.000004\n",
      "                                                       ...   \n",
      "Efeito 8, Efeito 7, Efeito 6, Efeito 5               0.000029\n",
      "Efeito 8, Efeito 7, Efeito 6, Efeito 5, Efeito 1     0.000002\n",
      "Efeito 8, Efeito 7, Efeito 6, Efeito 5, Efeito 3     0.000004\n",
      "Efeito 8, Efeito 7, Efeito 6, Efeito 5, Efeito 4     0.000002\n",
      "N/C                                                  0.000002\n",
      "Name: target, Length: 11830, dtype: float64\n",
      "\n",
      "Series([], Name: target, dtype: float64)\n",
      "\n"
     ]
    }
   ],
   "source": [
    "def analyse_rare_labels(df, var, rare_perc):\n",
    "    df = df.copy()\n",
    "\n",
    "    # determine the % of observations per category\n",
    "    tmp = df.groupby(var)['target'].count() / len(df)\n",
    "\n",
    "    # return categories that are rare\n",
    "    return tmp[tmp < rare_perc]\n",
    "\n",
    "# print categories that are present in less than\n",
    "# 1 % of the observations\n",
    "\n",
    "for var in cat_vars:\n",
    "    print(analyse_rare_labels(df, var, 0.01))\n",
    "    print()"
   ],
   "metadata": {
    "collapsed": false,
    "pycharm": {
     "name": "#%%\n"
    }
   }
  },
  {
   "cell_type": "code",
   "execution_count": 34,
   "outputs": [],
   "source": [],
   "metadata": {
    "collapsed": false,
    "pycharm": {
     "name": "#%%\n"
    }
   }
  },
  {
   "cell_type": "code",
   "execution_count": 34,
   "outputs": [],
   "source": [],
   "metadata": {
    "collapsed": false,
    "pycharm": {
     "name": "#%%\n"
    }
   }
  },
  {
   "cell_type": "code",
   "execution_count": 35,
   "outputs": [],
   "source": [
    "df.procedimentos.replace('N/C','N_C', inplace=True)\n",
    "df['procedimentos'] = df['procedimentos'].apply(lambda x: x.split(','))"
   ],
   "metadata": {
    "collapsed": false,
    "pycharm": {
     "name": "#%%\n"
    }
   }
  },
  {
   "cell_type": "code",
   "execution_count": 36,
   "outputs": [],
   "source": [
    "from sklearn.preprocessing import MultiLabelBinarizer\n",
    "\n",
    "mlb = MultiLabelBinarizer(sparse_output=True)\n",
    "\n",
    "df = df.join(\n",
    "            pd.DataFrame.sparse.from_spmatrix(\n",
    "                mlb.fit_transform(df.pop('procedimentos')),\n",
    "                index=df.index,\n",
    "                columns=mlb.classes_))\n"
   ],
   "metadata": {
    "collapsed": false,
    "pycharm": {
     "name": "#%%\n"
    }
   }
  },
  {
   "cell_type": "code",
   "execution_count": 37,
   "outputs": [
    {
     "data": {
      "text/plain": "             id_cliente                data sistema_operacional navegador  \\\n0  d2620a3e6f00a6dc6e88 2022-01-03 15:42:22                 iOS    Safari   \n1  9a48802d8290d19471f3 2022-01-04 08:39:53             Windows    Chrome   \n2  9a48802d8290d19471f3 2022-01-04 08:39:53             Windows    Chrome   \n3  c3344fad450ee424700d 2022-01-04 19:34:05             Android    Chrome   \n4  8105e34124e90300d8b5 2022-01-05 18:29:41             Android    Chrome   \n\n                 localizacao locale_x        cidade_x    estado_x  \\\n0       São Paulo, Sao Paulo       BR       SÃO PAULO   SAO PAULO   \n1  Ribeirão Preto, Sao Paulo       BR  RIBEIRÃO PRETO   SAO PAULO   \n2  Ribeirão Preto, Sao Paulo       BR  RIBEIRÃO PRETO   SAO PAULO   \n3       São Paulo, Sao Paulo       BR       SÃO PAULO   SAO PAULO   \n4        Manchester, England       BR      MANCHESTER     ENGLAND   \n\n   qtde_lavagem_semana utm_source_x tipo_cabelo   comprimento      tipo_fios  \\\n0                    4          NaN      Tipo 2  Raíz exposta  Pontas duplas   \n1                    7          NaN      Tipo 4   Muito curto      Perfeitos   \n2                    7          NaN      Tipo 4   Muito curto      Perfeitos   \n3                    2          NaN      Tipo 1   Extra longo       Rebeldes   \n4                    5          NaN      Tipo 1   Extra longo       Rebeldes   \n\n  tempo_procedimento              dieta atividade_fisica frequencia_estresse  \\\n0       Há 2 semanas            Celíaca        Frequente               Nunca   \n1   Há mais de 1 mês  Nenhuma restrição            Nunca               Nunca   \n2   Há mais de 1 mês  Nenhuma restrição            Nunca               Nunca   \n3   Há mais de 1 mês  Nenhuma restrição        Raramente        Regularmente   \n4   Há mais de 1 mês            Celíaca        Raramente        Regularmente   \n\n     caracteristica faixa_etaria efeitos_desejados  fragancia  \\\n0  Característica 1      25 a 34          Efeito 7      Rosas   \n1  Característica 6      55 a 64          Efeito 1  Eucalipto   \n2  Característica 6      55 a 64          Efeito 1  Eucalipto   \n3  Característica 7       2 a 10          Efeito 7      Rosas   \n4  Característica 7      25 a 34          Efeito 7      Rosas   \n\n          data_pedido  target  diferenca_dias   Corte agressivo  \\\n0 2022-01-03 15:47:35     1.0             0.0                 0   \n1 2022-04-10 13:37:33     1.0            96.0                 0   \n2 2022-04-10 13:43:05     1.0            96.0                 0   \n3                 NaT     0.0             NaN                 0   \n4                 NaT     0.0             NaN                 0   \n\n    Exposição ao sol   Nenhum   Tintura  Corte agressivo  Exposição ao sol  \\\n0                  0        0         0                0                 0   \n1                  0        0         0                0                 0   \n2                  0        0         0                0                 0   \n3                  0        0         0                0                 0   \n4                  0        0         0                0                 0   \n\n   N_C  Nenhum  Tintura  Todos acima  \n0    0       1        0            0  \n1    0       0        0            1  \n2    0       0        0            1  \n3    0       0        0            1  \n4    0       0        0            1  ",
      "text/html": "<div>\n<style scoped>\n    .dataframe tbody tr th:only-of-type {\n        vertical-align: middle;\n    }\n\n    .dataframe tbody tr th {\n        vertical-align: top;\n    }\n\n    .dataframe thead th {\n        text-align: right;\n    }\n</style>\n<table border=\"1\" class=\"dataframe\">\n  <thead>\n    <tr style=\"text-align: right;\">\n      <th></th>\n      <th>id_cliente</th>\n      <th>data</th>\n      <th>sistema_operacional</th>\n      <th>navegador</th>\n      <th>localizacao</th>\n      <th>locale_x</th>\n      <th>cidade_x</th>\n      <th>estado_x</th>\n      <th>qtde_lavagem_semana</th>\n      <th>utm_source_x</th>\n      <th>tipo_cabelo</th>\n      <th>comprimento</th>\n      <th>tipo_fios</th>\n      <th>tempo_procedimento</th>\n      <th>dieta</th>\n      <th>atividade_fisica</th>\n      <th>frequencia_estresse</th>\n      <th>caracteristica</th>\n      <th>faixa_etaria</th>\n      <th>efeitos_desejados</th>\n      <th>fragancia</th>\n      <th>data_pedido</th>\n      <th>target</th>\n      <th>diferenca_dias</th>\n      <th>Corte agressivo</th>\n      <th>Exposição ao sol</th>\n      <th>Nenhum</th>\n      <th>Tintura</th>\n      <th>Corte agressivo</th>\n      <th>Exposição ao sol</th>\n      <th>N_C</th>\n      <th>Nenhum</th>\n      <th>Tintura</th>\n      <th>Todos acima</th>\n    </tr>\n  </thead>\n  <tbody>\n    <tr>\n      <th>0</th>\n      <td>d2620a3e6f00a6dc6e88</td>\n      <td>2022-01-03 15:42:22</td>\n      <td>iOS</td>\n      <td>Safari</td>\n      <td>São Paulo, Sao Paulo</td>\n      <td>BR</td>\n      <td>SÃO PAULO</td>\n      <td>SAO PAULO</td>\n      <td>4</td>\n      <td>NaN</td>\n      <td>Tipo 2</td>\n      <td>Raíz exposta</td>\n      <td>Pontas duplas</td>\n      <td>Há 2 semanas</td>\n      <td>Celíaca</td>\n      <td>Frequente</td>\n      <td>Nunca</td>\n      <td>Característica 1</td>\n      <td>25 a 34</td>\n      <td>Efeito 7</td>\n      <td>Rosas</td>\n      <td>2022-01-03 15:47:35</td>\n      <td>1.0</td>\n      <td>0.0</td>\n      <td>0</td>\n      <td>0</td>\n      <td>0</td>\n      <td>0</td>\n      <td>0</td>\n      <td>0</td>\n      <td>0</td>\n      <td>1</td>\n      <td>0</td>\n      <td>0</td>\n    </tr>\n    <tr>\n      <th>1</th>\n      <td>9a48802d8290d19471f3</td>\n      <td>2022-01-04 08:39:53</td>\n      <td>Windows</td>\n      <td>Chrome</td>\n      <td>Ribeirão Preto, Sao Paulo</td>\n      <td>BR</td>\n      <td>RIBEIRÃO PRETO</td>\n      <td>SAO PAULO</td>\n      <td>7</td>\n      <td>NaN</td>\n      <td>Tipo 4</td>\n      <td>Muito curto</td>\n      <td>Perfeitos</td>\n      <td>Há mais de 1 mês</td>\n      <td>Nenhuma restrição</td>\n      <td>Nunca</td>\n      <td>Nunca</td>\n      <td>Característica 6</td>\n      <td>55 a 64</td>\n      <td>Efeito 1</td>\n      <td>Eucalipto</td>\n      <td>2022-04-10 13:37:33</td>\n      <td>1.0</td>\n      <td>96.0</td>\n      <td>0</td>\n      <td>0</td>\n      <td>0</td>\n      <td>0</td>\n      <td>0</td>\n      <td>0</td>\n      <td>0</td>\n      <td>0</td>\n      <td>0</td>\n      <td>1</td>\n    </tr>\n    <tr>\n      <th>2</th>\n      <td>9a48802d8290d19471f3</td>\n      <td>2022-01-04 08:39:53</td>\n      <td>Windows</td>\n      <td>Chrome</td>\n      <td>Ribeirão Preto, Sao Paulo</td>\n      <td>BR</td>\n      <td>RIBEIRÃO PRETO</td>\n      <td>SAO PAULO</td>\n      <td>7</td>\n      <td>NaN</td>\n      <td>Tipo 4</td>\n      <td>Muito curto</td>\n      <td>Perfeitos</td>\n      <td>Há mais de 1 mês</td>\n      <td>Nenhuma restrição</td>\n      <td>Nunca</td>\n      <td>Nunca</td>\n      <td>Característica 6</td>\n      <td>55 a 64</td>\n      <td>Efeito 1</td>\n      <td>Eucalipto</td>\n      <td>2022-04-10 13:43:05</td>\n      <td>1.0</td>\n      <td>96.0</td>\n      <td>0</td>\n      <td>0</td>\n      <td>0</td>\n      <td>0</td>\n      <td>0</td>\n      <td>0</td>\n      <td>0</td>\n      <td>0</td>\n      <td>0</td>\n      <td>1</td>\n    </tr>\n    <tr>\n      <th>3</th>\n      <td>c3344fad450ee424700d</td>\n      <td>2022-01-04 19:34:05</td>\n      <td>Android</td>\n      <td>Chrome</td>\n      <td>São Paulo, Sao Paulo</td>\n      <td>BR</td>\n      <td>SÃO PAULO</td>\n      <td>SAO PAULO</td>\n      <td>2</td>\n      <td>NaN</td>\n      <td>Tipo 1</td>\n      <td>Extra longo</td>\n      <td>Rebeldes</td>\n      <td>Há mais de 1 mês</td>\n      <td>Nenhuma restrição</td>\n      <td>Raramente</td>\n      <td>Regularmente</td>\n      <td>Característica 7</td>\n      <td>2 a 10</td>\n      <td>Efeito 7</td>\n      <td>Rosas</td>\n      <td>NaT</td>\n      <td>0.0</td>\n      <td>NaN</td>\n      <td>0</td>\n      <td>0</td>\n      <td>0</td>\n      <td>0</td>\n      <td>0</td>\n      <td>0</td>\n      <td>0</td>\n      <td>0</td>\n      <td>0</td>\n      <td>1</td>\n    </tr>\n    <tr>\n      <th>4</th>\n      <td>8105e34124e90300d8b5</td>\n      <td>2022-01-05 18:29:41</td>\n      <td>Android</td>\n      <td>Chrome</td>\n      <td>Manchester, England</td>\n      <td>BR</td>\n      <td>MANCHESTER</td>\n      <td>ENGLAND</td>\n      <td>5</td>\n      <td>NaN</td>\n      <td>Tipo 1</td>\n      <td>Extra longo</td>\n      <td>Rebeldes</td>\n      <td>Há mais de 1 mês</td>\n      <td>Celíaca</td>\n      <td>Raramente</td>\n      <td>Regularmente</td>\n      <td>Característica 7</td>\n      <td>25 a 34</td>\n      <td>Efeito 7</td>\n      <td>Rosas</td>\n      <td>NaT</td>\n      <td>0.0</td>\n      <td>NaN</td>\n      <td>0</td>\n      <td>0</td>\n      <td>0</td>\n      <td>0</td>\n      <td>0</td>\n      <td>0</td>\n      <td>0</td>\n      <td>0</td>\n      <td>0</td>\n      <td>1</td>\n    </tr>\n  </tbody>\n</table>\n</div>"
     },
     "execution_count": 37,
     "metadata": {},
     "output_type": "execute_result"
    }
   ],
   "source": [
    "df.head()"
   ],
   "metadata": {
    "collapsed": false,
    "pycharm": {
     "name": "#%%\n"
    }
   }
  },
  {
   "cell_type": "code",
   "execution_count": 38,
   "outputs": [],
   "source": [
    "df.efeitos_desejados.fillna('Sem_efeito', inplace=True)\n",
    "df.efeitos_desejados.replace('N/C','N_C_efeito', inplace=True)\n",
    "df['efeitos_desejados'] = df['efeitos_desejados'].apply(lambda x: x.split(','))"
   ],
   "metadata": {
    "collapsed": false,
    "pycharm": {
     "name": "#%%\n"
    }
   }
  },
  {
   "cell_type": "code",
   "execution_count": 39,
   "outputs": [],
   "source": [
    "\n",
    "from sklearn.preprocessing import MultiLabelBinarizer\n",
    "\n",
    "mlb = MultiLabelBinarizer(sparse_output=True)\n",
    "\n",
    "df = df.join(\n",
    "            pd.DataFrame.sparse.from_spmatrix(\n",
    "                mlb.fit_transform(df.pop('efeitos_desejados')),\n",
    "                index=df.index,\n",
    "                columns=mlb.classes_))"
   ],
   "metadata": {
    "collapsed": false,
    "pycharm": {
     "name": "#%%\n"
    }
   }
  },
  {
   "cell_type": "markdown",
   "source": [
    "### Drop columns"
   ],
   "metadata": {
    "collapsed": false,
    "pycharm": {
     "name": "#%% md\n"
    }
   }
  },
  {
   "cell_type": "code",
   "execution_count": 40,
   "outputs": [
    {
     "data": {
      "text/plain": "             id_cliente                data sistema_operacional navegador  \\\n0  d2620a3e6f00a6dc6e88 2022-01-03 15:42:22                 iOS    Safari   \n1  9a48802d8290d19471f3 2022-01-04 08:39:53             Windows    Chrome   \n2  9a48802d8290d19471f3 2022-01-04 08:39:53             Windows    Chrome   \n3  c3344fad450ee424700d 2022-01-04 19:34:05             Android    Chrome   \n4  8105e34124e90300d8b5 2022-01-05 18:29:41             Android    Chrome   \n\n                 localizacao locale_x        cidade_x    estado_x  \\\n0       São Paulo, Sao Paulo       BR       SÃO PAULO   SAO PAULO   \n1  Ribeirão Preto, Sao Paulo       BR  RIBEIRÃO PRETO   SAO PAULO   \n2  Ribeirão Preto, Sao Paulo       BR  RIBEIRÃO PRETO   SAO PAULO   \n3       São Paulo, Sao Paulo       BR       SÃO PAULO   SAO PAULO   \n4        Manchester, England       BR      MANCHESTER     ENGLAND   \n\n   qtde_lavagem_semana utm_source_x tipo_cabelo   comprimento      tipo_fios  \\\n0                    4          NaN      Tipo 2  Raíz exposta  Pontas duplas   \n1                    7          NaN      Tipo 4   Muito curto      Perfeitos   \n2                    7          NaN      Tipo 4   Muito curto      Perfeitos   \n3                    2          NaN      Tipo 1   Extra longo       Rebeldes   \n4                    5          NaN      Tipo 1   Extra longo       Rebeldes   \n\n  tempo_procedimento              dieta atividade_fisica frequencia_estresse  \\\n0       Há 2 semanas            Celíaca        Frequente               Nunca   \n1   Há mais de 1 mês  Nenhuma restrição            Nunca               Nunca   \n2   Há mais de 1 mês  Nenhuma restrição            Nunca               Nunca   \n3   Há mais de 1 mês  Nenhuma restrição        Raramente        Regularmente   \n4   Há mais de 1 mês            Celíaca        Raramente        Regularmente   \n\n     caracteristica faixa_etaria  fragancia         data_pedido  target  \\\n0  Característica 1      25 a 34      Rosas 2022-01-03 15:47:35     1.0   \n1  Característica 6      55 a 64  Eucalipto 2022-04-10 13:37:33     1.0   \n2  Característica 6      55 a 64  Eucalipto 2022-04-10 13:43:05     1.0   \n3  Característica 7       2 a 10      Rosas                 NaT     0.0   \n4  Característica 7      25 a 34      Rosas                 NaT     0.0   \n\n   diferenca_dias   Corte agressivo   Exposição ao sol   Nenhum   Tintura  \\\n0             0.0                 0                  0        0         0   \n1            96.0                 0                  0        0         0   \n2            96.0                 0                  0        0         0   \n3             NaN                 0                  0        0         0   \n4             NaN                 0                  0        0         0   \n\n   Corte agressivo  Exposição ao sol  N_C  Nenhum  Tintura  Todos acima  \\\n0                0                 0    0       1        0            0   \n1                0                 0    0       0        0            1   \n2                0                 0    0       0        0            1   \n3                0                 0    0       0        0            1   \n4                0                 0    0       0        0            1   \n\n    Efeito 1   Efeito 10   Efeito 2   Efeito 3   Efeito 4   Efeito 5  \\\n0          0           0          0          0          0          0   \n1          0           0          0          0          0          0   \n2          0           0          0          0          0          0   \n3          0           0          0          0          0          0   \n4          0           0          0          0          0          0   \n\n    Efeito 6   Efeito 7   Efeito 8  Efeito 1  Efeito 10  Efeito 2  Efeito 3  \\\n0          0          0          0         0          0         0         0   \n1          0          0          0         1          0         0         0   \n2          0          0          0         1          0         0         0   \n3          0          0          0         0          0         0         0   \n4          0          0          0         0          0         0         0   \n\n   Efeito 4  Efeito 5  Efeito 6  Efeito 7  Efeito 8  N_C_efeito  Sem_efeito  \n0         0         0         0         1         0           0           0  \n1         0         0         0         0         0           0           0  \n2         0         0         0         0         0           0           0  \n3         0         0         0         1         0           0           0  \n4         0         0         0         1         0           0           0  ",
      "text/html": "<div>\n<style scoped>\n    .dataframe tbody tr th:only-of-type {\n        vertical-align: middle;\n    }\n\n    .dataframe tbody tr th {\n        vertical-align: top;\n    }\n\n    .dataframe thead th {\n        text-align: right;\n    }\n</style>\n<table border=\"1\" class=\"dataframe\">\n  <thead>\n    <tr style=\"text-align: right;\">\n      <th></th>\n      <th>id_cliente</th>\n      <th>data</th>\n      <th>sistema_operacional</th>\n      <th>navegador</th>\n      <th>localizacao</th>\n      <th>locale_x</th>\n      <th>cidade_x</th>\n      <th>estado_x</th>\n      <th>qtde_lavagem_semana</th>\n      <th>utm_source_x</th>\n      <th>tipo_cabelo</th>\n      <th>comprimento</th>\n      <th>tipo_fios</th>\n      <th>tempo_procedimento</th>\n      <th>dieta</th>\n      <th>atividade_fisica</th>\n      <th>frequencia_estresse</th>\n      <th>caracteristica</th>\n      <th>faixa_etaria</th>\n      <th>fragancia</th>\n      <th>data_pedido</th>\n      <th>target</th>\n      <th>diferenca_dias</th>\n      <th>Corte agressivo</th>\n      <th>Exposição ao sol</th>\n      <th>Nenhum</th>\n      <th>Tintura</th>\n      <th>Corte agressivo</th>\n      <th>Exposição ao sol</th>\n      <th>N_C</th>\n      <th>Nenhum</th>\n      <th>Tintura</th>\n      <th>Todos acima</th>\n      <th>Efeito 1</th>\n      <th>Efeito 10</th>\n      <th>Efeito 2</th>\n      <th>Efeito 3</th>\n      <th>Efeito 4</th>\n      <th>Efeito 5</th>\n      <th>Efeito 6</th>\n      <th>Efeito 7</th>\n      <th>Efeito 8</th>\n      <th>Efeito 1</th>\n      <th>Efeito 10</th>\n      <th>Efeito 2</th>\n      <th>Efeito 3</th>\n      <th>Efeito 4</th>\n      <th>Efeito 5</th>\n      <th>Efeito 6</th>\n      <th>Efeito 7</th>\n      <th>Efeito 8</th>\n      <th>N_C_efeito</th>\n      <th>Sem_efeito</th>\n    </tr>\n  </thead>\n  <tbody>\n    <tr>\n      <th>0</th>\n      <td>d2620a3e6f00a6dc6e88</td>\n      <td>2022-01-03 15:42:22</td>\n      <td>iOS</td>\n      <td>Safari</td>\n      <td>São Paulo, Sao Paulo</td>\n      <td>BR</td>\n      <td>SÃO PAULO</td>\n      <td>SAO PAULO</td>\n      <td>4</td>\n      <td>NaN</td>\n      <td>Tipo 2</td>\n      <td>Raíz exposta</td>\n      <td>Pontas duplas</td>\n      <td>Há 2 semanas</td>\n      <td>Celíaca</td>\n      <td>Frequente</td>\n      <td>Nunca</td>\n      <td>Característica 1</td>\n      <td>25 a 34</td>\n      <td>Rosas</td>\n      <td>2022-01-03 15:47:35</td>\n      <td>1.0</td>\n      <td>0.0</td>\n      <td>0</td>\n      <td>0</td>\n      <td>0</td>\n      <td>0</td>\n      <td>0</td>\n      <td>0</td>\n      <td>0</td>\n      <td>1</td>\n      <td>0</td>\n      <td>0</td>\n      <td>0</td>\n      <td>0</td>\n      <td>0</td>\n      <td>0</td>\n      <td>0</td>\n      <td>0</td>\n      <td>0</td>\n      <td>0</td>\n      <td>0</td>\n      <td>0</td>\n      <td>0</td>\n      <td>0</td>\n      <td>0</td>\n      <td>0</td>\n      <td>0</td>\n      <td>0</td>\n      <td>1</td>\n      <td>0</td>\n      <td>0</td>\n      <td>0</td>\n    </tr>\n    <tr>\n      <th>1</th>\n      <td>9a48802d8290d19471f3</td>\n      <td>2022-01-04 08:39:53</td>\n      <td>Windows</td>\n      <td>Chrome</td>\n      <td>Ribeirão Preto, Sao Paulo</td>\n      <td>BR</td>\n      <td>RIBEIRÃO PRETO</td>\n      <td>SAO PAULO</td>\n      <td>7</td>\n      <td>NaN</td>\n      <td>Tipo 4</td>\n      <td>Muito curto</td>\n      <td>Perfeitos</td>\n      <td>Há mais de 1 mês</td>\n      <td>Nenhuma restrição</td>\n      <td>Nunca</td>\n      <td>Nunca</td>\n      <td>Característica 6</td>\n      <td>55 a 64</td>\n      <td>Eucalipto</td>\n      <td>2022-04-10 13:37:33</td>\n      <td>1.0</td>\n      <td>96.0</td>\n      <td>0</td>\n      <td>0</td>\n      <td>0</td>\n      <td>0</td>\n      <td>0</td>\n      <td>0</td>\n      <td>0</td>\n      <td>0</td>\n      <td>0</td>\n      <td>1</td>\n      <td>0</td>\n      <td>0</td>\n      <td>0</td>\n      <td>0</td>\n      <td>0</td>\n      <td>0</td>\n      <td>0</td>\n      <td>0</td>\n      <td>0</td>\n      <td>1</td>\n      <td>0</td>\n      <td>0</td>\n      <td>0</td>\n      <td>0</td>\n      <td>0</td>\n      <td>0</td>\n      <td>0</td>\n      <td>0</td>\n      <td>0</td>\n      <td>0</td>\n    </tr>\n    <tr>\n      <th>2</th>\n      <td>9a48802d8290d19471f3</td>\n      <td>2022-01-04 08:39:53</td>\n      <td>Windows</td>\n      <td>Chrome</td>\n      <td>Ribeirão Preto, Sao Paulo</td>\n      <td>BR</td>\n      <td>RIBEIRÃO PRETO</td>\n      <td>SAO PAULO</td>\n      <td>7</td>\n      <td>NaN</td>\n      <td>Tipo 4</td>\n      <td>Muito curto</td>\n      <td>Perfeitos</td>\n      <td>Há mais de 1 mês</td>\n      <td>Nenhuma restrição</td>\n      <td>Nunca</td>\n      <td>Nunca</td>\n      <td>Característica 6</td>\n      <td>55 a 64</td>\n      <td>Eucalipto</td>\n      <td>2022-04-10 13:43:05</td>\n      <td>1.0</td>\n      <td>96.0</td>\n      <td>0</td>\n      <td>0</td>\n      <td>0</td>\n      <td>0</td>\n      <td>0</td>\n      <td>0</td>\n      <td>0</td>\n      <td>0</td>\n      <td>0</td>\n      <td>1</td>\n      <td>0</td>\n      <td>0</td>\n      <td>0</td>\n      <td>0</td>\n      <td>0</td>\n      <td>0</td>\n      <td>0</td>\n      <td>0</td>\n      <td>0</td>\n      <td>1</td>\n      <td>0</td>\n      <td>0</td>\n      <td>0</td>\n      <td>0</td>\n      <td>0</td>\n      <td>0</td>\n      <td>0</td>\n      <td>0</td>\n      <td>0</td>\n      <td>0</td>\n    </tr>\n    <tr>\n      <th>3</th>\n      <td>c3344fad450ee424700d</td>\n      <td>2022-01-04 19:34:05</td>\n      <td>Android</td>\n      <td>Chrome</td>\n      <td>São Paulo, Sao Paulo</td>\n      <td>BR</td>\n      <td>SÃO PAULO</td>\n      <td>SAO PAULO</td>\n      <td>2</td>\n      <td>NaN</td>\n      <td>Tipo 1</td>\n      <td>Extra longo</td>\n      <td>Rebeldes</td>\n      <td>Há mais de 1 mês</td>\n      <td>Nenhuma restrição</td>\n      <td>Raramente</td>\n      <td>Regularmente</td>\n      <td>Característica 7</td>\n      <td>2 a 10</td>\n      <td>Rosas</td>\n      <td>NaT</td>\n      <td>0.0</td>\n      <td>NaN</td>\n      <td>0</td>\n      <td>0</td>\n      <td>0</td>\n      <td>0</td>\n      <td>0</td>\n      <td>0</td>\n      <td>0</td>\n      <td>0</td>\n      <td>0</td>\n      <td>1</td>\n      <td>0</td>\n      <td>0</td>\n      <td>0</td>\n      <td>0</td>\n      <td>0</td>\n      <td>0</td>\n      <td>0</td>\n      <td>0</td>\n      <td>0</td>\n      <td>0</td>\n      <td>0</td>\n      <td>0</td>\n      <td>0</td>\n      <td>0</td>\n      <td>0</td>\n      <td>0</td>\n      <td>1</td>\n      <td>0</td>\n      <td>0</td>\n      <td>0</td>\n    </tr>\n    <tr>\n      <th>4</th>\n      <td>8105e34124e90300d8b5</td>\n      <td>2022-01-05 18:29:41</td>\n      <td>Android</td>\n      <td>Chrome</td>\n      <td>Manchester, England</td>\n      <td>BR</td>\n      <td>MANCHESTER</td>\n      <td>ENGLAND</td>\n      <td>5</td>\n      <td>NaN</td>\n      <td>Tipo 1</td>\n      <td>Extra longo</td>\n      <td>Rebeldes</td>\n      <td>Há mais de 1 mês</td>\n      <td>Celíaca</td>\n      <td>Raramente</td>\n      <td>Regularmente</td>\n      <td>Característica 7</td>\n      <td>25 a 34</td>\n      <td>Rosas</td>\n      <td>NaT</td>\n      <td>0.0</td>\n      <td>NaN</td>\n      <td>0</td>\n      <td>0</td>\n      <td>0</td>\n      <td>0</td>\n      <td>0</td>\n      <td>0</td>\n      <td>0</td>\n      <td>0</td>\n      <td>0</td>\n      <td>1</td>\n      <td>0</td>\n      <td>0</td>\n      <td>0</td>\n      <td>0</td>\n      <td>0</td>\n      <td>0</td>\n      <td>0</td>\n      <td>0</td>\n      <td>0</td>\n      <td>0</td>\n      <td>0</td>\n      <td>0</td>\n      <td>0</td>\n      <td>0</td>\n      <td>0</td>\n      <td>0</td>\n      <td>1</td>\n      <td>0</td>\n      <td>0</td>\n      <td>0</td>\n    </tr>\n  </tbody>\n</table>\n</div>"
     },
     "execution_count": 40,
     "metadata": {},
     "output_type": "execute_result"
    }
   ],
   "source": [
    "df.head()"
   ],
   "metadata": {
    "collapsed": false,
    "pycharm": {
     "name": "#%%\n"
    }
   }
  },
  {
   "cell_type": "code",
   "execution_count": 41,
   "outputs": [
    {
     "data": {
      "text/plain": "array(['Nunca', 'Regularmente', 'Quase sempre', 'Uma vez por mês'],\n      dtype=object)"
     },
     "execution_count": 41,
     "metadata": {},
     "output_type": "execute_result"
    }
   ],
   "source": [
    "df.frequencia_estresse.unique()"
   ],
   "metadata": {
    "collapsed": false,
    "pycharm": {
     "name": "#%%\n"
    }
   }
  },
  {
   "cell_type": "code",
   "execution_count": 42,
   "outputs": [
    {
     "data": {
      "text/plain": "array(['Pontas duplas', 'Perfeitos', 'Rebeldes', 'Secos'], dtype=object)"
     },
     "execution_count": 42,
     "metadata": {},
     "output_type": "execute_result"
    }
   ],
   "source": [
    "df.tipo_fios.unique()"
   ],
   "metadata": {
    "collapsed": false,
    "pycharm": {
     "name": "#%%\n"
    }
   }
  },
  {
   "cell_type": "code",
   "execution_count": 43,
   "outputs": [
    {
     "data": {
      "text/plain": "array(['Há 2 semanas', 'Há mais de 1 mês', 'Há 1 semana',\n       'Não houve procedimentos', 'Há 1 mês'], dtype=object)"
     },
     "execution_count": 43,
     "metadata": {},
     "output_type": "execute_result"
    }
   ],
   "source": [
    "df.tempo_procedimento.unique()"
   ],
   "metadata": {
    "collapsed": false,
    "pycharm": {
     "name": "#%%\n"
    }
   }
  },
  {
   "cell_type": "code",
   "execution_count": 44,
   "outputs": [
    {
     "data": {
      "text/plain": "array(['Celíaca', 'Nenhuma restrição', 'Intolerante a lactose', 'Leve'],\n      dtype=object)"
     },
     "execution_count": 44,
     "metadata": {},
     "output_type": "execute_result"
    }
   ],
   "source": [
    "df.dieta.unique()"
   ],
   "metadata": {
    "collapsed": false,
    "pycharm": {
     "name": "#%%\n"
    }
   }
  },
  {
   "cell_type": "code",
   "execution_count": 45,
   "outputs": [
    {
     "data": {
      "text/plain": "Index(['id_cliente', 'data', 'sistema_operacional', 'navegador', 'localizacao',\n       'locale_x', 'cidade_x', 'estado_x', 'qtde_lavagem_semana',\n       'utm_source_x', 'tipo_cabelo', 'comprimento', 'tipo_fios',\n       'tempo_procedimento', 'dieta', 'atividade_fisica',\n       'frequencia_estresse', 'caracteristica', 'faixa_etaria', 'fragancia',\n       'data_pedido', 'target', 'diferenca_dias', ' Corte agressivo',\n       ' Exposição ao sol', ' Nenhum', ' Tintura', 'Corte agressivo',\n       'Exposição ao sol', 'N_C', 'Nenhum', 'Tintura', 'Todos acima',\n       ' Efeito 1', ' Efeito 10', ' Efeito 2', ' Efeito 3', ' Efeito 4',\n       ' Efeito 5', ' Efeito 6', ' Efeito 7', ' Efeito 8', 'Efeito 1',\n       'Efeito 10', 'Efeito 2', 'Efeito 3', 'Efeito 4', 'Efeito 5', 'Efeito 6',\n       'Efeito 7', 'Efeito 8', 'N_C_efeito', 'Sem_efeito'],\n      dtype='object')"
     },
     "execution_count": 45,
     "metadata": {},
     "output_type": "execute_result"
    }
   ],
   "source": [
    "df.columns"
   ],
   "metadata": {
    "collapsed": false,
    "pycharm": {
     "name": "#%%\n"
    }
   }
  },
  {
   "cell_type": "code",
   "execution_count": 45,
   "outputs": [],
   "source": [],
   "metadata": {
    "collapsed": false,
    "pycharm": {
     "name": "#%%\n"
    }
   }
  }
 ],
 "metadata": {
  "kernelspec": {
   "display_name": "Python 3",
   "language": "python",
   "name": "python3"
  },
  "language_info": {
   "codemirror_mode": {
    "name": "ipython",
    "version": 2
   },
   "file_extension": ".py",
   "mimetype": "text/x-python",
   "name": "python",
   "nbconvert_exporter": "python",
   "pygments_lexer": "ipython2",
   "version": "2.7.6"
  }
 },
 "nbformat": 4,
 "nbformat_minor": 0
}