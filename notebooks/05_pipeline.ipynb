{
 "cells": [
  {
   "cell_type": "code",
   "execution_count": 137,
   "metadata": {
    "collapsed": true,
    "pycharm": {
     "name": "#%%\n"
    }
   },
   "outputs": [],
   "source": [
    "# data manipulation and plotting\n",
    "import pandas as pd\n",
    "import numpy as np\n",
    "import matplotlib.pyplot as plt\n",
    "\n",
    "# for saving the pipeline\n",
    "import joblib\n",
    "\n",
    "# from Scikit-learn\n",
    "from sklearn.linear_model import Lasso\n",
    "from sklearn.metrics import mean_squared_error, r2_score\n",
    "from sklearn.model_selection import train_test_split\n",
    "from sklearn.pipeline import Pipeline\n",
    "from sklearn.preprocessing import MinMaxScaler, Binarizer\n",
    "\n",
    "# from feature-engine\n",
    "from feature_engine.imputation import (\n",
    "    AddMissingIndicator,\n",
    "    MeanMedianImputer,\n",
    "    CategoricalImputer,\n",
    ")\n",
    "\n",
    "from feature_engine.encoding import (\n",
    "    RareLabelEncoder,\n",
    "    OrdinalEncoder,\n",
    ")\n",
    "\n",
    "from feature_engine.transformation import LogTransformer\n",
    "\n",
    "from feature_engine.selection import DropFeatures\n",
    "from feature_engine.wrappers import SklearnTransformerWrapper\n",
    "from sklearn.preprocessing import MultiLabelBinarizer\n",
    "\n",
    "# import preprocessor as pp\n",
    "\n",
    "\n",
    "from sklearn.linear_model import LogisticRegression\n",
    "from imblearn.under_sampling import RandomUnderSampler\n",
    "\n",
    "#XGboost classifier\n",
    "from xgboost import XGBClassifier\n",
    "\n",
    "\n",
    "#import PCA\n",
    "from sklearn.decomposition import PCA\n",
    "\n",
    "#one hot encoding\n",
    "from sklearn.preprocessing import OneHotEncoder"
   ]
  },
  {
   "cell_type": "code",
   "execution_count": 138,
   "outputs": [
    {
     "name": "stdout",
     "output_type": "stream",
     "text": [
      "(484381, 35)\n"
     ]
    },
    {
     "data": {
      "text/plain": "                          id_form            id_cliente                 data  \\\n0  c7d453c9c01223a42968d9fe136047  d2620a3e6f00a6dc6e88  2022-01-03 15:42:22   \n1  72830da153824af486be15cd48b3f3  9a48802d8290d19471f3  2022-01-04 08:39:53   \n2  72830da153824af486be15cd48b3f3  9a48802d8290d19471f3  2022-01-04 08:39:53   \n3  d101fc0075dac29db1168cfc61ad44  c3344fad450ee424700d  2022-01-04 19:34:05   \n4  0957fb9d7be36b4d079b6582bb6785  8105e34124e90300d8b5  2022-01-05 18:29:41   \n\n  sistema_operacional navegador                localizacao locale_x  \\\n0                 iOS    Safari       São Paulo, Sao Paulo       BR   \n1             Windows    Chrome  Ribeirão Preto, Sao Paulo       BR   \n2             Windows    Chrome  Ribeirão Preto, Sao Paulo       BR   \n3             Android    Chrome       São Paulo, Sao Paulo       BR   \n4             Android    Chrome        Manchester, England       BR   \n\n         cidade_x    estado_x  qtde_lavagem_semana  ... status_pagamento  \\\n0       SÃO PAULO   SAO PAULO                    4  ...         Entregue   \n1  RIBEIRÃO PRETO   SAO PAULO                    7  ...        Cancelado   \n2  RIBEIRÃO PRETO   SAO PAULO                    7  ...        Cancelado   \n3       SÃO PAULO   SAO PAULO                    2  ...              NaN   \n4      MANCHESTER     ENGLAND                    5  ...              NaN   \n\n  tipo_pagamento valor_total valor_desconto frete_gratis   cidade_y estado_y  \\\n0         CARTÃO      124.03            0.0        False  São Paulo       SP   \n1            PIX      282.22            0.0        False    Jundiaí       SP   \n2            PIX      282.22            0.0        False    Jundiaí       SP   \n3            NaN         NaN            NaN          NaN        NaN      NaN   \n4            NaN         NaN            NaN          NaN        NaN      NaN   \n\n  locale_y utm_source_y target  \n0       BR          NaN    1.0  \n1       BR          NaN    1.0  \n2       BR          NaN    1.0  \n3      NaN          NaN    NaN  \n4      NaN          NaN    NaN  \n\n[5 rows x 35 columns]",
      "text/html": "<div>\n<style scoped>\n    .dataframe tbody tr th:only-of-type {\n        vertical-align: middle;\n    }\n\n    .dataframe tbody tr th {\n        vertical-align: top;\n    }\n\n    .dataframe thead th {\n        text-align: right;\n    }\n</style>\n<table border=\"1\" class=\"dataframe\">\n  <thead>\n    <tr style=\"text-align: right;\">\n      <th></th>\n      <th>id_form</th>\n      <th>id_cliente</th>\n      <th>data</th>\n      <th>sistema_operacional</th>\n      <th>navegador</th>\n      <th>localizacao</th>\n      <th>locale_x</th>\n      <th>cidade_x</th>\n      <th>estado_x</th>\n      <th>qtde_lavagem_semana</th>\n      <th>...</th>\n      <th>status_pagamento</th>\n      <th>tipo_pagamento</th>\n      <th>valor_total</th>\n      <th>valor_desconto</th>\n      <th>frete_gratis</th>\n      <th>cidade_y</th>\n      <th>estado_y</th>\n      <th>locale_y</th>\n      <th>utm_source_y</th>\n      <th>target</th>\n    </tr>\n  </thead>\n  <tbody>\n    <tr>\n      <th>0</th>\n      <td>c7d453c9c01223a42968d9fe136047</td>\n      <td>d2620a3e6f00a6dc6e88</td>\n      <td>2022-01-03 15:42:22</td>\n      <td>iOS</td>\n      <td>Safari</td>\n      <td>São Paulo, Sao Paulo</td>\n      <td>BR</td>\n      <td>SÃO PAULO</td>\n      <td>SAO PAULO</td>\n      <td>4</td>\n      <td>...</td>\n      <td>Entregue</td>\n      <td>CARTÃO</td>\n      <td>124.03</td>\n      <td>0.0</td>\n      <td>False</td>\n      <td>São Paulo</td>\n      <td>SP</td>\n      <td>BR</td>\n      <td>NaN</td>\n      <td>1.0</td>\n    </tr>\n    <tr>\n      <th>1</th>\n      <td>72830da153824af486be15cd48b3f3</td>\n      <td>9a48802d8290d19471f3</td>\n      <td>2022-01-04 08:39:53</td>\n      <td>Windows</td>\n      <td>Chrome</td>\n      <td>Ribeirão Preto, Sao Paulo</td>\n      <td>BR</td>\n      <td>RIBEIRÃO PRETO</td>\n      <td>SAO PAULO</td>\n      <td>7</td>\n      <td>...</td>\n      <td>Cancelado</td>\n      <td>PIX</td>\n      <td>282.22</td>\n      <td>0.0</td>\n      <td>False</td>\n      <td>Jundiaí</td>\n      <td>SP</td>\n      <td>BR</td>\n      <td>NaN</td>\n      <td>1.0</td>\n    </tr>\n    <tr>\n      <th>2</th>\n      <td>72830da153824af486be15cd48b3f3</td>\n      <td>9a48802d8290d19471f3</td>\n      <td>2022-01-04 08:39:53</td>\n      <td>Windows</td>\n      <td>Chrome</td>\n      <td>Ribeirão Preto, Sao Paulo</td>\n      <td>BR</td>\n      <td>RIBEIRÃO PRETO</td>\n      <td>SAO PAULO</td>\n      <td>7</td>\n      <td>...</td>\n      <td>Cancelado</td>\n      <td>PIX</td>\n      <td>282.22</td>\n      <td>0.0</td>\n      <td>False</td>\n      <td>Jundiaí</td>\n      <td>SP</td>\n      <td>BR</td>\n      <td>NaN</td>\n      <td>1.0</td>\n    </tr>\n    <tr>\n      <th>3</th>\n      <td>d101fc0075dac29db1168cfc61ad44</td>\n      <td>c3344fad450ee424700d</td>\n      <td>2022-01-04 19:34:05</td>\n      <td>Android</td>\n      <td>Chrome</td>\n      <td>São Paulo, Sao Paulo</td>\n      <td>BR</td>\n      <td>SÃO PAULO</td>\n      <td>SAO PAULO</td>\n      <td>2</td>\n      <td>...</td>\n      <td>NaN</td>\n      <td>NaN</td>\n      <td>NaN</td>\n      <td>NaN</td>\n      <td>NaN</td>\n      <td>NaN</td>\n      <td>NaN</td>\n      <td>NaN</td>\n      <td>NaN</td>\n      <td>NaN</td>\n    </tr>\n    <tr>\n      <th>4</th>\n      <td>0957fb9d7be36b4d079b6582bb6785</td>\n      <td>8105e34124e90300d8b5</td>\n      <td>2022-01-05 18:29:41</td>\n      <td>Android</td>\n      <td>Chrome</td>\n      <td>Manchester, England</td>\n      <td>BR</td>\n      <td>MANCHESTER</td>\n      <td>ENGLAND</td>\n      <td>5</td>\n      <td>...</td>\n      <td>NaN</td>\n      <td>NaN</td>\n      <td>NaN</td>\n      <td>NaN</td>\n      <td>NaN</td>\n      <td>NaN</td>\n      <td>NaN</td>\n      <td>NaN</td>\n      <td>NaN</td>\n      <td>NaN</td>\n    </tr>\n  </tbody>\n</table>\n<p>5 rows × 35 columns</p>\n</div>"
     },
     "execution_count": 138,
     "metadata": {},
     "output_type": "execute_result"
    }
   ],
   "source": [
    "# load dataset\n",
    "df = pd.read_csv('../output/saida.csv')\n",
    "\n",
    "# rows and columns of the data\n",
    "print(df.shape)\n",
    "\n",
    "# visualise the dataset\n",
    "df.head()"
   ],
   "metadata": {
    "collapsed": false,
    "pycharm": {
     "name": "#%%\n"
    }
   }
  },
  {
   "cell_type": "code",
   "execution_count": 139,
   "outputs": [],
   "source": [
    "#convert columns caracteristic and procedimentos to list\n",
    "df['caracteristica'] = df['caracteristica'].apply(lambda x: x.replace(' ',''))\n",
    "df['caracteristica'] = df['caracteristica'].apply(lambda x: x.split(','))\n",
    "df.procedimentos.replace('N/C','N_C', inplace=True)\n",
    "df['procedimentos'] = df['procedimentos'].apply(lambda x: x.split(','))\n",
    "\n",
    "df.efeitos_desejados.replace('N/C','efeitos_desejados_N_C', inplace=True)\n",
    "df.efeitos_desejados.fillna('Missing_efeitos_desejados', inplace=True)\n",
    "df['efeitos_desejados'] = df['efeitos_desejados'].apply(lambda x: x.replace(' ',''))\n",
    "df['efeitos_desejados'] = df['efeitos_desejados'].apply(lambda x: x.split(','))\n"
   ],
   "metadata": {
    "collapsed": false,
    "pycharm": {
     "name": "#%%\n"
    }
   }
  },
  {
   "cell_type": "code",
   "execution_count": 139,
   "outputs": [],
   "source": [],
   "metadata": {
    "collapsed": false,
    "pycharm": {
     "name": "#%%\n"
    }
   }
  },
  {
   "cell_type": "code",
   "execution_count": 140,
   "outputs": [],
   "source": [
    "from sklearn.preprocessing import MultiLabelBinarizer\n",
    "\n",
    "\n",
    "mlb = MultiLabelBinarizer(sparse_output=True)\n",
    "\n",
    "df = df.join(\n",
    "            pd.DataFrame.sparse.from_spmatrix(\n",
    "                mlb.fit_transform(df.pop('caracteristica')),\n",
    "                index=df.index,\n",
    "                columns=mlb.classes_))"
   ],
   "metadata": {
    "collapsed": false,
    "pycharm": {
     "name": "#%%\n"
    }
   }
  },
  {
   "cell_type": "code",
   "execution_count": 141,
   "outputs": [],
   "source": [
    "mlb = MultiLabelBinarizer(sparse_output=True)\n",
    "\n",
    "df = df.join(\n",
    "            pd.DataFrame.sparse.from_spmatrix(\n",
    "                mlb.fit_transform(df.pop('efeitos_desejados')),\n",
    "                index=df.index,\n",
    "                columns=mlb.classes_))\n",
    "\n",
    "mlb = MultiLabelBinarizer(sparse_output=True)\n",
    "\n",
    "df = df.join(\n",
    "            pd.DataFrame.sparse.from_spmatrix(\n",
    "                mlb.fit_transform(df.pop('procedimentos')),\n",
    "                index=df.index,\n",
    "                columns=mlb.classes_))"
   ],
   "metadata": {
    "collapsed": false,
    "pycharm": {
     "name": "#%%\n"
    }
   }
  },
  {
   "cell_type": "code",
   "execution_count": 142,
   "outputs": [
    {
     "data": {
      "text/plain": "((387504, 63), (96877, 63))"
     },
     "execution_count": 142,
     "metadata": {},
     "output_type": "execute_result"
    }
   ],
   "source": [
    "# Let's separate into train and test set\n",
    "# Remember to set the seed (random_state for this sklearn function)\n",
    "\n",
    "X_train, X_test, y_train, y_test = train_test_split(\n",
    "    df.drop(['target'], axis=1), # predictive variables\n",
    "    df['target'], # target\n",
    "    test_size=0.2, # portion of dataset to allocate to test set\n",
    "    random_state=0, # we are setting the seed here\n",
    ")\n",
    "\n",
    "X_train.shape, X_test.shape"
   ],
   "metadata": {
    "collapsed": false,
    "pycharm": {
     "name": "#%%\n"
    }
   }
  },
  {
   "cell_type": "code",
   "execution_count": 143,
   "outputs": [],
   "source": [
    "y_train.fillna(0, inplace=True)\n",
    "y_test.fillna(0, inplace=True)"
   ],
   "metadata": {
    "collapsed": false,
    "pycharm": {
     "name": "#%%\n"
    }
   }
  },
  {
   "cell_type": "code",
   "execution_count": 144,
   "outputs": [],
   "source": [
    "# categorical variables with NA in train set\n",
    "CATEGORICAL_VARS_WITH_NA_MISSING = [\n",
    " 'estado_x',\n",
    "]\n",
    "\n",
    "# categorical variables with NA in train set\n",
    "CATEGORICAL_VARS_WITH_NA_FREQUENT = [\n",
    " 'navegador',\n",
    " 'utm_source_x','cidade_x'\n",
    "]\n",
    "\n",
    "# numerical variables\n",
    "NUMERICAL_VARS = ['qtde_lavagem_semana']\n",
    "\n",
    "\n",
    "\n",
    "# this variable is to calculate the temporal variable,\n",
    "# can be dropped afterwards\n",
    "DROP_FEATURES = ['cidade_y',\n",
    " 'Característica5',\n",
    " 'Efeito4',\n",
    " 'locale_y',\n",
    " 'Característica8',\n",
    " 'id_cliente',\n",
    " 'N_C',\n",
    " 'Corte agressivo',\n",
    " 'Efeito5',\n",
    " 'N/C',\n",
    " ' Exposição ao sol',\n",
    " 'frete_gratis',\n",
    " 'Tintura',\n",
    " 'Efeito6',\n",
    " ' Corte agressivo',\n",
    " 'Efeito1',\n",
    " 'tipo_pagamento',\n",
    " ' Nenhum',\n",
    " 'status_pagamento',\n",
    " 'Missing_efeitos_desejados',\n",
    " 'utm_source_y',\n",
    " 'Efeito2',\n",
    " 'Característica9',\n",
    " 'estado_y',\n",
    " 'localizacao',\n",
    " 'valor_total',\n",
    " 'Característica3',\n",
    " 'Característica6',\n",
    " ' Tintura',\n",
    " 'Efeito3',\n",
    " 'id_form',\n",
    " 'Característica7',\n",
    " 'Característica4',\n",
    " 'Efeito7',\n",
    " 'Característica10',\n",
    " 'efeitos_desejados_N_C',\n",
    " 'data_pedido',\n",
    " 'Efeito8',\n",
    " 'valor_desconto',\n",
    " 'Efeito10',\n",
    " 'Característica2',\n",
    " 'Exposição ao sol',\n",
    " 'data',\n",
    " 'Nenhum',\n",
    " 'id_pedido',\n",
    " 'Todos acima',\n",
    " 'Característica1']\n",
    "\n",
    "\n",
    "\n",
    "\n",
    "# categorical variables to encode\n",
    "CATEGORICAL_VARS = [\n",
    "                     'sistema_operacional',\n",
    "                     'navegador',\n",
    "                     'locale_x',\n",
    "                     'cidade_x',\n",
    "                     'estado_x',\n",
    "                     'utm_source_x',\n",
    "                     'tipo_cabelo',\n",
    "                     'comprimento',\n",
    "                     'tipo_fios',\n",
    "                     'tempo_procedimento',\n",
    "                     'dieta',\n",
    "                     'atividade_fisica',\n",
    "                     'frequencia_estresse',\n",
    "                     'faixa_etaria',\n",
    "                     'fragancia',\n",
    "\n",
    "]\n",
    "\n",
    "#RESULT = set(df.columns.tolist()) - set(FEATURES)\n",
    "FEATURES = ['faixa_etaria','utm_source_x','atividade_fisica','estado_x','qtde_lavagem_semana','dieta','frequencia_estresse','tipo_cabelo','navegador','tempo_procedimento','tipo_fios','comprimento','sistema_operacional','locale_x', 'cidade_x', 'fragancia']\n",
    "\n"
   ],
   "metadata": {
    "collapsed": false,
    "pycharm": {
     "name": "#%%\n"
    }
   }
  },
  {
   "cell_type": "code",
   "execution_count": 145,
   "outputs": [
    {
     "name": "stderr",
     "output_type": "stream",
     "text": [
      "C:\\Users\\cassio.reis_saudeid\\Desktop\\CASSIO\\leads_classification\\venv\\lib\\site-packages\\sklearn\\utils\\validation.py:758: UserWarning: pandas.DataFrame with sparse columns found.It will be converted to a dense numpy array.\n",
      "  warnings.warn(\n",
      "C:\\Users\\cassio.reis_saudeid\\Desktop\\CASSIO\\leads_classification\\venv\\lib\\site-packages\\sklearn\\utils\\validation.py:758: UserWarning: pandas.DataFrame with sparse columns found.It will be converted to a dense numpy array.\n",
      "  warnings.warn(\n"
     ]
    }
   ],
   "source": [
    "under = RandomUnderSampler(sampling_strategy='majority')\n",
    "X_train, y_train = under.fit_resample(X_train, y_train)\n",
    "X_test, y_test = under.fit_resample(X_test, y_test)"
   ],
   "metadata": {
    "collapsed": false,
    "pycharm": {
     "name": "#%%\n"
    }
   }
  },
  {
   "cell_type": "code",
   "execution_count": 146,
   "outputs": [],
   "source": [
    "class_pipe = Pipeline([\n",
    "\n",
    "    #drop features\n",
    "    ('drop_features', DropFeatures(features_to_drop=DROP_FEATURES)),\n",
    "\n",
    "    # ===== IMPUTATION =====\n",
    "    # impute categorical variables with string missing\n",
    "    ('missing_imputation', CategoricalImputer(\n",
    "        imputation_method='missing', variables=CATEGORICAL_VARS_WITH_NA_MISSING)),\n",
    "\n",
    "    #TODO: Entender como iremos fazer isso\n",
    "    ('frequent_imputation', CategoricalImputer(\n",
    "        imputation_method='frequent', variables=CATEGORICAL_VARS_WITH_NA_FREQUENT)),\n",
    "\n",
    "     # == CATEGORICAL ENCODING\n",
    "    ('rare_label_encoder', RareLabelEncoder(\n",
    "        tol=0.01, n_categories=1, variables=CATEGORICAL_VARS\n",
    "    )),\n",
    "\n",
    "    # encode categorical and discrete variables using the target mean\n",
    "    ('categorical_encoder', OrdinalEncoder(\n",
    "        encoding_method='ordered', variables=CATEGORICAL_VARS)),\n",
    "\n",
    "    #MODEL Xgboost\n",
    "    ('xgboost', XGBClassifier(\n",
    "        learning_rate= 0.5,\n",
    "        max_depth= 7,\n",
    "        n_estimators= 200,\n",
    "        verbose=True\n",
    "    )),\n",
    "\n",
    "\n",
    "])\n",
    "\n"
   ],
   "metadata": {
    "collapsed": false,
    "pycharm": {
     "name": "#%%\n"
    }
   }
  },
  {
   "cell_type": "code",
   "execution_count": 147,
   "outputs": [
    {
     "name": "stderr",
     "output_type": "stream",
     "text": [
      "C:\\Users\\cassio.reis_saudeid\\Desktop\\CASSIO\\leads_classification\\venv\\lib\\site-packages\\feature_engine\\encoding\\rare_label.py:178: UserWarning: The number of unique categories for variable locale_x is less than that indicated in n_categories. Thus, all categories will be considered frequent\n",
      "  warnings.warn(\n"
     ]
    },
    {
     "name": "stdout",
     "output_type": "stream",
     "text": [
      "[23:10:05] WARNING: C:/Users/Administrator/workspace/xgboost-win64_release_1.6.0/src/learner.cc:627: \n",
      "Parameters: { \"verbose\" } might not be used.\n",
      "\n",
      "  This could be a false alarm, with some parameters getting used by language bindings but\n",
      "  then being mistakenly passed down to XGBoost core, or some parameter actually being used\n",
      "  but getting flagged wrongly here. Please open an issue if you find any such cases.\n",
      "\n",
      "\n"
     ]
    },
    {
     "data": {
      "text/plain": "Pipeline(steps=[('drop_features',\n                 DropFeatures(features_to_drop=['cidade_y', 'Característica5',\n                                                'Efeito4', 'locale_y',\n                                                'Característica8', 'id_cliente',\n                                                'N_C', 'Corte agressivo',\n                                                'Efeito5', 'N/C',\n                                                ' Exposição ao sol',\n                                                'frete_gratis', 'Tintura',\n                                                'Efeito6', ' Corte agressivo',\n                                                'Efeito1', 'tipo_pagamento',\n                                                ' Nenhum', 'status_pagamento',\n                                                'Missing_efeitos_desejados',\n                                                'utm_source_y'...\n                               enable_categorical=False, eval_metric=None,\n                               gamma=0, gpu_id=-1, grow_policy='depthwise',\n                               importance_type=None, interaction_constraints='',\n                               learning_rate=0.5, max_bin=256,\n                               max_cat_to_onehot=4, max_delta_step=0,\n                               max_depth=7, max_leaves=0, min_child_weight=1,\n                               missing=nan, monotone_constraints='()',\n                               n_estimators=200, n_jobs=0, num_parallel_tree=1,\n                               predictor='auto', random_state=0, reg_alpha=0,\n                               reg_lambda=1, ...))])",
      "text/html": "<style>#sk-container-id-2 {color: black;background-color: white;}#sk-container-id-2 pre{padding: 0;}#sk-container-id-2 div.sk-toggleable {background-color: white;}#sk-container-id-2 label.sk-toggleable__label {cursor: pointer;display: block;width: 100%;margin-bottom: 0;padding: 0.3em;box-sizing: border-box;text-align: center;}#sk-container-id-2 label.sk-toggleable__label-arrow:before {content: \"▸\";float: left;margin-right: 0.25em;color: #696969;}#sk-container-id-2 label.sk-toggleable__label-arrow:hover:before {color: black;}#sk-container-id-2 div.sk-estimator:hover label.sk-toggleable__label-arrow:before {color: black;}#sk-container-id-2 div.sk-toggleable__content {max-height: 0;max-width: 0;overflow: hidden;text-align: left;background-color: #f0f8ff;}#sk-container-id-2 div.sk-toggleable__content pre {margin: 0.2em;color: black;border-radius: 0.25em;background-color: #f0f8ff;}#sk-container-id-2 input.sk-toggleable__control:checked~div.sk-toggleable__content {max-height: 200px;max-width: 100%;overflow: auto;}#sk-container-id-2 input.sk-toggleable__control:checked~label.sk-toggleable__label-arrow:before {content: \"▾\";}#sk-container-id-2 div.sk-estimator input.sk-toggleable__control:checked~label.sk-toggleable__label {background-color: #d4ebff;}#sk-container-id-2 div.sk-label input.sk-toggleable__control:checked~label.sk-toggleable__label {background-color: #d4ebff;}#sk-container-id-2 input.sk-hidden--visually {border: 0;clip: rect(1px 1px 1px 1px);clip: rect(1px, 1px, 1px, 1px);height: 1px;margin: -1px;overflow: hidden;padding: 0;position: absolute;width: 1px;}#sk-container-id-2 div.sk-estimator {font-family: monospace;background-color: #f0f8ff;border: 1px dotted black;border-radius: 0.25em;box-sizing: border-box;margin-bottom: 0.5em;}#sk-container-id-2 div.sk-estimator:hover {background-color: #d4ebff;}#sk-container-id-2 div.sk-parallel-item::after {content: \"\";width: 100%;border-bottom: 1px solid gray;flex-grow: 1;}#sk-container-id-2 div.sk-label:hover label.sk-toggleable__label {background-color: #d4ebff;}#sk-container-id-2 div.sk-serial::before {content: \"\";position: absolute;border-left: 1px solid gray;box-sizing: border-box;top: 0;bottom: 0;left: 50%;z-index: 0;}#sk-container-id-2 div.sk-serial {display: flex;flex-direction: column;align-items: center;background-color: white;padding-right: 0.2em;padding-left: 0.2em;position: relative;}#sk-container-id-2 div.sk-item {position: relative;z-index: 1;}#sk-container-id-2 div.sk-parallel {display: flex;align-items: stretch;justify-content: center;background-color: white;position: relative;}#sk-container-id-2 div.sk-item::before, #sk-container-id-2 div.sk-parallel-item::before {content: \"\";position: absolute;border-left: 1px solid gray;box-sizing: border-box;top: 0;bottom: 0;left: 50%;z-index: -1;}#sk-container-id-2 div.sk-parallel-item {display: flex;flex-direction: column;z-index: 1;position: relative;background-color: white;}#sk-container-id-2 div.sk-parallel-item:first-child::after {align-self: flex-end;width: 50%;}#sk-container-id-2 div.sk-parallel-item:last-child::after {align-self: flex-start;width: 50%;}#sk-container-id-2 div.sk-parallel-item:only-child::after {width: 0;}#sk-container-id-2 div.sk-dashed-wrapped {border: 1px dashed gray;margin: 0 0.4em 0.5em 0.4em;box-sizing: border-box;padding-bottom: 0.4em;background-color: white;}#sk-container-id-2 div.sk-label label {font-family: monospace;font-weight: bold;display: inline-block;line-height: 1.2em;}#sk-container-id-2 div.sk-label-container {text-align: center;}#sk-container-id-2 div.sk-container {/* jupyter's `normalize.less` sets `[hidden] { display: none; }` but bootstrap.min.css set `[hidden] { display: none !important; }` so we also need the `!important` here to be able to override the default hidden behavior on the sphinx rendered scikit-learn.org. See: https://github.com/scikit-learn/scikit-learn/issues/21755 */display: inline-block !important;position: relative;}#sk-container-id-2 div.sk-text-repr-fallback {display: none;}</style><div id=\"sk-container-id-2\" class=\"sk-top-container\"><div class=\"sk-text-repr-fallback\"><pre>Pipeline(steps=[(&#x27;drop_features&#x27;,\n                 DropFeatures(features_to_drop=[&#x27;cidade_y&#x27;, &#x27;Característica5&#x27;,\n                                                &#x27;Efeito4&#x27;, &#x27;locale_y&#x27;,\n                                                &#x27;Característica8&#x27;, &#x27;id_cliente&#x27;,\n                                                &#x27;N_C&#x27;, &#x27;Corte agressivo&#x27;,\n                                                &#x27;Efeito5&#x27;, &#x27;N/C&#x27;,\n                                                &#x27; Exposição ao sol&#x27;,\n                                                &#x27;frete_gratis&#x27;, &#x27;Tintura&#x27;,\n                                                &#x27;Efeito6&#x27;, &#x27; Corte agressivo&#x27;,\n                                                &#x27;Efeito1&#x27;, &#x27;tipo_pagamento&#x27;,\n                                                &#x27; Nenhum&#x27;, &#x27;status_pagamento&#x27;,\n                                                &#x27;Missing_efeitos_desejados&#x27;,\n                                                &#x27;utm_source_y&#x27;...\n                               enable_categorical=False, eval_metric=None,\n                               gamma=0, gpu_id=-1, grow_policy=&#x27;depthwise&#x27;,\n                               importance_type=None, interaction_constraints=&#x27;&#x27;,\n                               learning_rate=0.5, max_bin=256,\n                               max_cat_to_onehot=4, max_delta_step=0,\n                               max_depth=7, max_leaves=0, min_child_weight=1,\n                               missing=nan, monotone_constraints=&#x27;()&#x27;,\n                               n_estimators=200, n_jobs=0, num_parallel_tree=1,\n                               predictor=&#x27;auto&#x27;, random_state=0, reg_alpha=0,\n                               reg_lambda=1, ...))])</pre><b>In a Jupyter environment, please rerun this cell to show the HTML representation or trust the notebook. <br />On GitHub, the HTML representation is unable to render, please try loading this page with nbviewer.org.</b></div><div class=\"sk-container\" hidden><div class=\"sk-item sk-dashed-wrapped\"><div class=\"sk-label-container\"><div class=\"sk-label sk-toggleable\"><input class=\"sk-toggleable__control sk-hidden--visually\" id=\"sk-estimator-id-7\" type=\"checkbox\" ><label for=\"sk-estimator-id-7\" class=\"sk-toggleable__label sk-toggleable__label-arrow\">Pipeline</label><div class=\"sk-toggleable__content\"><pre>Pipeline(steps=[(&#x27;drop_features&#x27;,\n                 DropFeatures(features_to_drop=[&#x27;cidade_y&#x27;, &#x27;Característica5&#x27;,\n                                                &#x27;Efeito4&#x27;, &#x27;locale_y&#x27;,\n                                                &#x27;Característica8&#x27;, &#x27;id_cliente&#x27;,\n                                                &#x27;N_C&#x27;, &#x27;Corte agressivo&#x27;,\n                                                &#x27;Efeito5&#x27;, &#x27;N/C&#x27;,\n                                                &#x27; Exposição ao sol&#x27;,\n                                                &#x27;frete_gratis&#x27;, &#x27;Tintura&#x27;,\n                                                &#x27;Efeito6&#x27;, &#x27; Corte agressivo&#x27;,\n                                                &#x27;Efeito1&#x27;, &#x27;tipo_pagamento&#x27;,\n                                                &#x27; Nenhum&#x27;, &#x27;status_pagamento&#x27;,\n                                                &#x27;Missing_efeitos_desejados&#x27;,\n                                                &#x27;utm_source_y&#x27;...\n                               enable_categorical=False, eval_metric=None,\n                               gamma=0, gpu_id=-1, grow_policy=&#x27;depthwise&#x27;,\n                               importance_type=None, interaction_constraints=&#x27;&#x27;,\n                               learning_rate=0.5, max_bin=256,\n                               max_cat_to_onehot=4, max_delta_step=0,\n                               max_depth=7, max_leaves=0, min_child_weight=1,\n                               missing=nan, monotone_constraints=&#x27;()&#x27;,\n                               n_estimators=200, n_jobs=0, num_parallel_tree=1,\n                               predictor=&#x27;auto&#x27;, random_state=0, reg_alpha=0,\n                               reg_lambda=1, ...))])</pre></div></div></div><div class=\"sk-serial\"><div class=\"sk-item\"><div class=\"sk-estimator sk-toggleable\"><input class=\"sk-toggleable__control sk-hidden--visually\" id=\"sk-estimator-id-8\" type=\"checkbox\" ><label for=\"sk-estimator-id-8\" class=\"sk-toggleable__label sk-toggleable__label-arrow\">DropFeatures</label><div class=\"sk-toggleable__content\"><pre>DropFeatures(features_to_drop=[&#x27;cidade_y&#x27;, &#x27;Característica5&#x27;, &#x27;Efeito4&#x27;,\n                               &#x27;locale_y&#x27;, &#x27;Característica8&#x27;, &#x27;id_cliente&#x27;,\n                               &#x27;N_C&#x27;, &#x27;Corte agressivo&#x27;, &#x27;Efeito5&#x27;, &#x27;N/C&#x27;,\n                               &#x27; Exposição ao sol&#x27;, &#x27;frete_gratis&#x27;, &#x27;Tintura&#x27;,\n                               &#x27;Efeito6&#x27;, &#x27; Corte agressivo&#x27;, &#x27;Efeito1&#x27;,\n                               &#x27;tipo_pagamento&#x27;, &#x27; Nenhum&#x27;, &#x27;status_pagamento&#x27;,\n                               &#x27;Missing_efeitos_desejados&#x27;, &#x27;utm_source_y&#x27;,\n                               &#x27;Efeito2&#x27;, &#x27;Característica9&#x27;, &#x27;estado_y&#x27;,\n                               &#x27;localizacao&#x27;, &#x27;valor_total&#x27;, &#x27;Característica3&#x27;,\n                               &#x27;Característica6&#x27;, &#x27; Tintura&#x27;, &#x27;Efeito3&#x27;, ...])</pre></div></div></div><div class=\"sk-item\"><div class=\"sk-estimator sk-toggleable\"><input class=\"sk-toggleable__control sk-hidden--visually\" id=\"sk-estimator-id-9\" type=\"checkbox\" ><label for=\"sk-estimator-id-9\" class=\"sk-toggleable__label sk-toggleable__label-arrow\">CategoricalImputer</label><div class=\"sk-toggleable__content\"><pre>CategoricalImputer(variables=[&#x27;estado_x&#x27;])</pre></div></div></div><div class=\"sk-item\"><div class=\"sk-estimator sk-toggleable\"><input class=\"sk-toggleable__control sk-hidden--visually\" id=\"sk-estimator-id-10\" type=\"checkbox\" ><label for=\"sk-estimator-id-10\" class=\"sk-toggleable__label sk-toggleable__label-arrow\">CategoricalImputer</label><div class=\"sk-toggleable__content\"><pre>CategoricalImputer(imputation_method=&#x27;frequent&#x27;,\n                   variables=[&#x27;navegador&#x27;, &#x27;utm_source_x&#x27;, &#x27;cidade_x&#x27;])</pre></div></div></div><div class=\"sk-item\"><div class=\"sk-estimator sk-toggleable\"><input class=\"sk-toggleable__control sk-hidden--visually\" id=\"sk-estimator-id-11\" type=\"checkbox\" ><label for=\"sk-estimator-id-11\" class=\"sk-toggleable__label sk-toggleable__label-arrow\">RareLabelEncoder</label><div class=\"sk-toggleable__content\"><pre>RareLabelEncoder(n_categories=1, tol=0.01,\n                 variables=[&#x27;sistema_operacional&#x27;, &#x27;navegador&#x27;, &#x27;locale_x&#x27;,\n                            &#x27;cidade_x&#x27;, &#x27;estado_x&#x27;, &#x27;utm_source_x&#x27;,\n                            &#x27;tipo_cabelo&#x27;, &#x27;comprimento&#x27;, &#x27;tipo_fios&#x27;,\n                            &#x27;tempo_procedimento&#x27;, &#x27;dieta&#x27;, &#x27;atividade_fisica&#x27;,\n                            &#x27;frequencia_estresse&#x27;, &#x27;faixa_etaria&#x27;,\n                            &#x27;fragancia&#x27;])</pre></div></div></div><div class=\"sk-item\"><div class=\"sk-estimator sk-toggleable\"><input class=\"sk-toggleable__control sk-hidden--visually\" id=\"sk-estimator-id-12\" type=\"checkbox\" ><label for=\"sk-estimator-id-12\" class=\"sk-toggleable__label sk-toggleable__label-arrow\">OrdinalEncoder</label><div class=\"sk-toggleable__content\"><pre>OrdinalEncoder(variables=[&#x27;sistema_operacional&#x27;, &#x27;navegador&#x27;, &#x27;locale_x&#x27;,\n                          &#x27;cidade_x&#x27;, &#x27;estado_x&#x27;, &#x27;utm_source_x&#x27;, &#x27;tipo_cabelo&#x27;,\n                          &#x27;comprimento&#x27;, &#x27;tipo_fios&#x27;, &#x27;tempo_procedimento&#x27;,\n                          &#x27;dieta&#x27;, &#x27;atividade_fisica&#x27;, &#x27;frequencia_estresse&#x27;,\n                          &#x27;faixa_etaria&#x27;, &#x27;fragancia&#x27;])</pre></div></div></div><div class=\"sk-item\"><div class=\"sk-estimator sk-toggleable\"><input class=\"sk-toggleable__control sk-hidden--visually\" id=\"sk-estimator-id-13\" type=\"checkbox\" ><label for=\"sk-estimator-id-13\" class=\"sk-toggleable__label sk-toggleable__label-arrow\">XGBClassifier</label><div class=\"sk-toggleable__content\"><pre>XGBClassifier(base_score=0.5, booster=&#x27;gbtree&#x27;, callbacks=None,\n              colsample_bylevel=1, colsample_bynode=1, colsample_bytree=1,\n              early_stopping_rounds=None, enable_categorical=False,\n              eval_metric=None, gamma=0, gpu_id=-1, grow_policy=&#x27;depthwise&#x27;,\n              importance_type=None, interaction_constraints=&#x27;&#x27;,\n              learning_rate=0.5, max_bin=256, max_cat_to_onehot=4,\n              max_delta_step=0, max_depth=7, max_leaves=0, min_child_weight=1,\n              missing=nan, monotone_constraints=&#x27;()&#x27;, n_estimators=200,\n              n_jobs=0, num_parallel_tree=1, predictor=&#x27;auto&#x27;, random_state=0,\n              reg_alpha=0, reg_lambda=1, ...)</pre></div></div></div></div></div></div></div>"
     },
     "execution_count": 147,
     "metadata": {},
     "output_type": "execute_result"
    }
   ],
   "source": [
    "# train the pipeline\n",
    "class_pipe.fit(X_train, y_train)"
   ],
   "metadata": {
    "collapsed": false,
    "pycharm": {
     "name": "#%%\n"
    }
   }
  },
  {
   "cell_type": "code",
   "execution_count": 148,
   "outputs": [],
   "source": [
    "pred_train = class_pipe.predict(X_train)"
   ],
   "metadata": {
    "collapsed": false,
    "pycharm": {
     "name": "#%%\n"
    }
   }
  },
  {
   "cell_type": "code",
   "execution_count": 149,
   "outputs": [
    {
     "data": {
      "text/plain": "array([[103065,  20881],\n       [ 36085,  87861]], dtype=int64)"
     },
     "execution_count": 149,
     "metadata": {},
     "output_type": "execute_result"
    }
   ],
   "source": [
    "from sklearn.metrics import confusion_matrix\n",
    "confusion_matrix(y_train, pred_train)"
   ],
   "metadata": {
    "collapsed": false,
    "pycharm": {
     "name": "#%%\n"
    }
   }
  },
  {
   "cell_type": "code",
   "execution_count": 150,
   "outputs": [
    {
     "name": "stdout",
     "output_type": "stream",
     "text": [
      "              precision    recall  f1-score   support\n",
      "\n",
      "         0.0       0.74      0.83      0.78    123946\n",
      "         1.0       0.81      0.71      0.76    123946\n",
      "\n",
      "    accuracy                           0.77    247892\n",
      "   macro avg       0.77      0.77      0.77    247892\n",
      "weighted avg       0.77      0.77      0.77    247892\n",
      "\n",
      "ROC: 0.770\n"
     ]
    }
   ],
   "source": [
    "from sklearn.metrics import accuracy_score\n",
    "from sklearn import metrics\n",
    "\n",
    "print(metrics.classification_report(y_train, pred_train))\n",
    "print('ROC: %.3f' % metrics.roc_auc_score(y_train, pred_train, average='micro'))"
   ],
   "metadata": {
    "collapsed": false,
    "pycharm": {
     "name": "#%%\n"
    }
   }
  },
  {
   "cell_type": "code",
   "execution_count": 151,
   "outputs": [],
   "source": [
    "pred_test = class_pipe.predict(X_test)\n"
   ],
   "metadata": {
    "collapsed": false,
    "pycharm": {
     "name": "#%%\n"
    }
   }
  },
  {
   "cell_type": "code",
   "execution_count": 152,
   "outputs": [
    {
     "name": "stdout",
     "output_type": "stream",
     "text": [
      "              precision    recall  f1-score   support\n",
      "\n",
      "         0.0       0.68      0.75      0.71     30987\n",
      "         1.0       0.72      0.64      0.68     30987\n",
      "\n",
      "    accuracy                           0.70     61974\n",
      "   macro avg       0.70      0.70      0.70     61974\n",
      "weighted avg       0.70      0.70      0.70     61974\n",
      "\n"
     ]
    }
   ],
   "source": [
    "from sklearn import metrics\n",
    "\n",
    "print(metrics.classification_report(y_test, pred_test))"
   ],
   "metadata": {
    "collapsed": false,
    "pycharm": {
     "name": "#%%\n"
    }
   }
  },
  {
   "cell_type": "code",
   "execution_count": 153,
   "outputs": [
    {
     "name": "stdout",
     "output_type": "stream",
     "text": [
      "ROC: 0.698\n"
     ]
    }
   ],
   "source": [
    "from sklearn import metrics\n",
    "\n",
    "\n",
    "print('ROC: %.3f' % metrics.roc_auc_score(y_test, pred_test, average='micro'))"
   ],
   "metadata": {
    "collapsed": false,
    "pycharm": {
     "name": "#%%\n"
    }
   }
  },
  {
   "cell_type": "code",
   "execution_count": 154,
   "outputs": [
    {
     "data": {
      "text/plain": "['C:\\\\Users\\\\cassio.reis_saudeid\\\\Desktop\\\\CASSIO\\\\leads_classification\\\\app\\\\models\\\\class_pipe.pkl']"
     },
     "execution_count": 154,
     "metadata": {},
     "output_type": "execute_result"
    }
   ],
   "source": [
    "#save model\n",
    "import joblib\n",
    "\n",
    "joblib.dump(class_pipe, r'C:\\Users\\cassio.reis_saudeid\\Desktop\\CASSIO\\leads_classification\\app\\models\\class_pipe.pkl')"
   ],
   "metadata": {
    "collapsed": false,
    "pycharm": {
     "name": "#%%\n"
    }
   }
  },
  {
   "cell_type": "code",
   "execution_count": 154,
   "outputs": [],
   "source": [],
   "metadata": {
    "collapsed": false,
    "pycharm": {
     "name": "#%%\n"
    }
   }
  },
  {
   "cell_type": "code",
   "execution_count": 155,
   "outputs": [],
   "source": [],
   "metadata": {
    "collapsed": false,
    "pycharm": {
     "name": "#%%\n"
    }
   }
  }
 ],
 "metadata": {
  "kernelspec": {
   "display_name": "Python 3",
   "language": "python",
   "name": "python3"
  },
  "language_info": {
   "codemirror_mode": {
    "name": "ipython",
    "version": 2
   },
   "file_extension": ".py",
   "mimetype": "text/x-python",
   "name": "python",
   "nbconvert_exporter": "python",
   "pygments_lexer": "ipython2",
   "version": "2.7.6"
  }
 },
 "nbformat": 4,
 "nbformat_minor": 0
}