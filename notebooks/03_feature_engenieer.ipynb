{
 "cells": [
  {
   "cell_type": "code",
   "execution_count": 128,
   "outputs": [],
   "source": [
    "import pandas as pd"
   ],
   "metadata": {
    "collapsed": false,
    "pycharm": {
     "name": "#%%\n"
    }
   }
  },
  {
   "cell_type": "code",
   "execution_count": 129,
   "outputs": [],
   "source": [
    "# data manipulation and plotting\n",
    "import pandas as pd\n",
    "import numpy as np\n",
    "import matplotlib.pyplot as plt\n",
    "\n",
    "# for saving the pipeline\n",
    "import joblib\n",
    "\n",
    "# from Scikit-learn\n",
    "from sklearn.linear_model import Lasso\n",
    "from sklearn.metrics import mean_squared_error, r2_score\n",
    "from sklearn.model_selection import train_test_split\n",
    "from sklearn.pipeline import Pipeline\n",
    "from sklearn.preprocessing import MinMaxScaler, Binarizer\n",
    "\n",
    "# from feature-engine\n",
    "from feature_engine.imputation import (\n",
    "    AddMissingIndicator,\n",
    "    MeanMedianImputer,\n",
    "    CategoricalImputer,\n",
    ")\n",
    "\n",
    "from feature_engine.encoding import (\n",
    "    RareLabelEncoder,\n",
    "    OrdinalEncoder,\n",
    ")\n",
    "\n",
    "from feature_engine.transformation import LogTransformer\n",
    "\n",
    "from feature_engine.selection import DropFeatures\n",
    "from feature_engine.wrappers import SklearnTransformerWrapper\n",
    "from sklearn.preprocessing import MultiLabelBinarizer\n",
    "\n",
    "# import preprocessor as pp\n",
    "\n",
    "\n",
    "from sklearn.linear_model import LogisticRegression\n",
    "from imblearn.under_sampling import RandomUnderSampler\n",
    "\n",
    "#XGboost classifier\n",
    "from xgboost import XGBClassifier\n",
    "\n",
    "\n",
    "#import PCA\n",
    "from sklearn.decomposition import PCA\n",
    "\n",
    "#one hot encoding\n",
    "from sklearn.preprocessing import OneHotEncoder"
   ],
   "metadata": {
    "collapsed": false,
    "pycharm": {
     "name": "#%%\n"
    }
   }
  },
  {
   "cell_type": "code",
   "execution_count": 130,
   "outputs": [
    {
     "name": "stdout",
     "output_type": "stream",
     "text": [
      "(484381, 35)\n"
     ]
    },
    {
     "data": {
      "text/plain": "                          id_form            id_cliente                 data  \\\n0  c7d453c9c01223a42968d9fe136047  d2620a3e6f00a6dc6e88  2022-01-03 15:42:22   \n1  72830da153824af486be15cd48b3f3  9a48802d8290d19471f3  2022-01-04 08:39:53   \n2  72830da153824af486be15cd48b3f3  9a48802d8290d19471f3  2022-01-04 08:39:53   \n3  d101fc0075dac29db1168cfc61ad44  c3344fad450ee424700d  2022-01-04 19:34:05   \n4  0957fb9d7be36b4d079b6582bb6785  8105e34124e90300d8b5  2022-01-05 18:29:41   \n\n  sistema_operacional navegador                localizacao locale_x  \\\n0                 iOS    Safari       São Paulo, Sao Paulo       BR   \n1             Windows    Chrome  Ribeirão Preto, Sao Paulo       BR   \n2             Windows    Chrome  Ribeirão Preto, Sao Paulo       BR   \n3             Android    Chrome       São Paulo, Sao Paulo       BR   \n4             Android    Chrome        Manchester, England       BR   \n\n         cidade_x    estado_x  qtde_lavagem_semana  ... status_pagamento  \\\n0       SÃO PAULO   SAO PAULO                    4  ...         Entregue   \n1  RIBEIRÃO PRETO   SAO PAULO                    7  ...        Cancelado   \n2  RIBEIRÃO PRETO   SAO PAULO                    7  ...        Cancelado   \n3       SÃO PAULO   SAO PAULO                    2  ...              NaN   \n4      MANCHESTER     ENGLAND                    5  ...              NaN   \n\n  tipo_pagamento valor_total valor_desconto frete_gratis   cidade_y estado_y  \\\n0         CARTÃO      124.03            0.0        False  São Paulo       SP   \n1            PIX      282.22            0.0        False    Jundiaí       SP   \n2            PIX      282.22            0.0        False    Jundiaí       SP   \n3            NaN         NaN            NaN          NaN        NaN      NaN   \n4            NaN         NaN            NaN          NaN        NaN      NaN   \n\n  locale_y utm_source_y target  \n0       BR          NaN    1.0  \n1       BR          NaN    1.0  \n2       BR          NaN    1.0  \n3      NaN          NaN    NaN  \n4      NaN          NaN    NaN  \n\n[5 rows x 35 columns]",
      "text/html": "<div>\n<style scoped>\n    .dataframe tbody tr th:only-of-type {\n        vertical-align: middle;\n    }\n\n    .dataframe tbody tr th {\n        vertical-align: top;\n    }\n\n    .dataframe thead th {\n        text-align: right;\n    }\n</style>\n<table border=\"1\" class=\"dataframe\">\n  <thead>\n    <tr style=\"text-align: right;\">\n      <th></th>\n      <th>id_form</th>\n      <th>id_cliente</th>\n      <th>data</th>\n      <th>sistema_operacional</th>\n      <th>navegador</th>\n      <th>localizacao</th>\n      <th>locale_x</th>\n      <th>cidade_x</th>\n      <th>estado_x</th>\n      <th>qtde_lavagem_semana</th>\n      <th>...</th>\n      <th>status_pagamento</th>\n      <th>tipo_pagamento</th>\n      <th>valor_total</th>\n      <th>valor_desconto</th>\n      <th>frete_gratis</th>\n      <th>cidade_y</th>\n      <th>estado_y</th>\n      <th>locale_y</th>\n      <th>utm_source_y</th>\n      <th>target</th>\n    </tr>\n  </thead>\n  <tbody>\n    <tr>\n      <th>0</th>\n      <td>c7d453c9c01223a42968d9fe136047</td>\n      <td>d2620a3e6f00a6dc6e88</td>\n      <td>2022-01-03 15:42:22</td>\n      <td>iOS</td>\n      <td>Safari</td>\n      <td>São Paulo, Sao Paulo</td>\n      <td>BR</td>\n      <td>SÃO PAULO</td>\n      <td>SAO PAULO</td>\n      <td>4</td>\n      <td>...</td>\n      <td>Entregue</td>\n      <td>CARTÃO</td>\n      <td>124.03</td>\n      <td>0.0</td>\n      <td>False</td>\n      <td>São Paulo</td>\n      <td>SP</td>\n      <td>BR</td>\n      <td>NaN</td>\n      <td>1.0</td>\n    </tr>\n    <tr>\n      <th>1</th>\n      <td>72830da153824af486be15cd48b3f3</td>\n      <td>9a48802d8290d19471f3</td>\n      <td>2022-01-04 08:39:53</td>\n      <td>Windows</td>\n      <td>Chrome</td>\n      <td>Ribeirão Preto, Sao Paulo</td>\n      <td>BR</td>\n      <td>RIBEIRÃO PRETO</td>\n      <td>SAO PAULO</td>\n      <td>7</td>\n      <td>...</td>\n      <td>Cancelado</td>\n      <td>PIX</td>\n      <td>282.22</td>\n      <td>0.0</td>\n      <td>False</td>\n      <td>Jundiaí</td>\n      <td>SP</td>\n      <td>BR</td>\n      <td>NaN</td>\n      <td>1.0</td>\n    </tr>\n    <tr>\n      <th>2</th>\n      <td>72830da153824af486be15cd48b3f3</td>\n      <td>9a48802d8290d19471f3</td>\n      <td>2022-01-04 08:39:53</td>\n      <td>Windows</td>\n      <td>Chrome</td>\n      <td>Ribeirão Preto, Sao Paulo</td>\n      <td>BR</td>\n      <td>RIBEIRÃO PRETO</td>\n      <td>SAO PAULO</td>\n      <td>7</td>\n      <td>...</td>\n      <td>Cancelado</td>\n      <td>PIX</td>\n      <td>282.22</td>\n      <td>0.0</td>\n      <td>False</td>\n      <td>Jundiaí</td>\n      <td>SP</td>\n      <td>BR</td>\n      <td>NaN</td>\n      <td>1.0</td>\n    </tr>\n    <tr>\n      <th>3</th>\n      <td>d101fc0075dac29db1168cfc61ad44</td>\n      <td>c3344fad450ee424700d</td>\n      <td>2022-01-04 19:34:05</td>\n      <td>Android</td>\n      <td>Chrome</td>\n      <td>São Paulo, Sao Paulo</td>\n      <td>BR</td>\n      <td>SÃO PAULO</td>\n      <td>SAO PAULO</td>\n      <td>2</td>\n      <td>...</td>\n      <td>NaN</td>\n      <td>NaN</td>\n      <td>NaN</td>\n      <td>NaN</td>\n      <td>NaN</td>\n      <td>NaN</td>\n      <td>NaN</td>\n      <td>NaN</td>\n      <td>NaN</td>\n      <td>NaN</td>\n    </tr>\n    <tr>\n      <th>4</th>\n      <td>0957fb9d7be36b4d079b6582bb6785</td>\n      <td>8105e34124e90300d8b5</td>\n      <td>2022-01-05 18:29:41</td>\n      <td>Android</td>\n      <td>Chrome</td>\n      <td>Manchester, England</td>\n      <td>BR</td>\n      <td>MANCHESTER</td>\n      <td>ENGLAND</td>\n      <td>5</td>\n      <td>...</td>\n      <td>NaN</td>\n      <td>NaN</td>\n      <td>NaN</td>\n      <td>NaN</td>\n      <td>NaN</td>\n      <td>NaN</td>\n      <td>NaN</td>\n      <td>NaN</td>\n      <td>NaN</td>\n      <td>NaN</td>\n    </tr>\n  </tbody>\n</table>\n<p>5 rows × 35 columns</p>\n</div>"
     },
     "execution_count": 130,
     "metadata": {},
     "output_type": "execute_result"
    }
   ],
   "source": [
    "# load dataset\n",
    "df = pd.read_csv('../output/saida.csv')\n",
    "\n",
    "# rows and columns of the data\n",
    "print(df.shape)\n",
    "\n",
    "# visualise the dataset\n",
    "df.head()"
   ],
   "metadata": {
    "collapsed": false,
    "pycharm": {
     "name": "#%%\n"
    }
   }
  },
  {
   "cell_type": "code",
   "execution_count": 131,
   "outputs": [],
   "source": [
    "# df.drop(['id_form','status_pagamento', 'tipo_pagamento', 'valor_total',\n",
    "#        'valor_desconto', 'frete_gratis', 'cidade_y', 'estado_y', 'locale_y',\n",
    "#        'utm_source_y','id_pedido','data','data_pedido'], inplace = True, axis=1)"
   ],
   "metadata": {
    "collapsed": false,
    "pycharm": {
     "name": "#%%\n"
    }
   }
  },
  {
   "cell_type": "code",
   "execution_count": 132,
   "outputs": [],
   "source": [
    "#convert columns caracteristic and procedimentos to list\n",
    "df['caracteristica'] = df['caracteristica'].apply(lambda x: x.replace(' ',''))\n",
    "df['caracteristica'] = df['caracteristica'].apply(lambda x: x.split(','))\n"
   ],
   "metadata": {
    "collapsed": false,
    "pycharm": {
     "name": "#%%\n"
    }
   }
  },
  {
   "cell_type": "code",
   "execution_count": 133,
   "outputs": [],
   "source": [
    "from sklearn.preprocessing import MultiLabelBinarizer\n",
    "\n",
    "\n",
    "mlb = MultiLabelBinarizer(sparse_output=True)\n",
    "\n",
    "df = df.join(\n",
    "            pd.DataFrame.sparse.from_spmatrix(\n",
    "                mlb.fit_transform(df.pop('caracteristica')),\n",
    "                index=df.index,\n",
    "                columns=mlb.classes_))"
   ],
   "metadata": {
    "collapsed": false,
    "pycharm": {
     "name": "#%%\n"
    }
   }
  },
  {
   "cell_type": "markdown",
   "source": [
    "# Split the data into train and test set"
   ],
   "metadata": {
    "collapsed": false,
    "pycharm": {
     "name": "#%% md\n"
    }
   }
  },
  {
   "cell_type": "code",
   "execution_count": 134,
   "outputs": [
    {
     "data": {
      "text/plain": "((387504, 44), (96877, 44))"
     },
     "execution_count": 134,
     "metadata": {},
     "output_type": "execute_result"
    }
   ],
   "source": [
    "# Let's separate into train and test set\n",
    "# Remember to set the seed (random_state for this sklearn function)\n",
    "\n",
    "X_train, X_test, y_train, y_test = train_test_split(\n",
    "    df.drop(['target'], axis=1), # predictive variables\n",
    "    df['target'], # target\n",
    "    test_size=0.2, # portion of dataset to allocate to test set\n",
    "    random_state=0, # we are setting the seed here\n",
    ")\n",
    "\n",
    "X_train.shape, X_test.shape"
   ],
   "metadata": {
    "collapsed": false,
    "pycharm": {
     "name": "#%%\n"
    }
   }
  },
  {
   "cell_type": "code",
   "execution_count": 135,
   "outputs": [
    {
     "data": {
      "text/plain": "                               id_form            id_cliente  \\\n17089   269bd07c50220855cc090b16526b8a  fe0ad6d49f61c62575fa   \n80186   136afbe0975e61031a56837282822d  8f0801e571ad985fcee2   \n314764  c5040d9526ddcfcccd944ef6a38a88  2fadcbc671bd4bec8078   \n170584  51229569559d6cb93237e0c42b4ccd  2ca7ba7e35513b5e0890   \n310744  4fab4ed9cfbc3605f79e201dba8bea  1d786782987b9c7037cf   \n212038  64b4d13db5682a5ec4fb0aa65866fd  8d91c6bac7075c96938b   \n211543  db678aa14d194349fef7d80dbf90d8  60d697574b32d09deddd   \n374564  40d78a18f7a519a8e39168bca383d8  abe968728bbe53a38f12   \n448242  b98435a4a17fd45f622738ec6c4ee5  ec925d86b78d4537a8f1   \n86293   bca380b787aca9473e804781babfe0  48c0b8abcc33843ae0e5   \n122579  97cef6978f6732fbc71df7101f34ab  bf3a253ef1872344731d   \n304137  287e5588a0f588b2704e813fa58e6f  a1cbd44c3f00fcc15294   \n359783  131c7db0fac5b9214112ad404ae462  876fe02d71ae78b96a91   \n358083  d8244a9d74e4a503b05fb648273f19  5298ee126867fc4194b2   \n152315  1afd79de5538ff815887ce43cd29ef  00549c99204117307b3a   \n439107  5f43bf6055546a7ca980490fc9ac80  b6c0b82cc271fd1203fc   \n117952  a90606d70892e4682a94599d95d0ff  8abdca30ccd5ed525314   \n435829  478d3630757606c019674b7ef1d244  21aede8c7d23e3891631   \n305711  eda78f1cca55af11f207bf2e3c6f70  130f2ce55bd01550fd8f   \n461484  64230baf2690236cc10b8b42222e1b  9cbf984cc60e51e7ff95   \n\n                       data sistema_operacional navegador  \\\n17089   2022-01-05 19:53:32             Android    Chrome   \n80186   2022-01-24 22:41:27             Android    Chrome   \n314764  2022-04-30 08:18:35                 iOS       NaN   \n170584  2022-02-27 16:14:43             Android    Chrome   \n310744  2022-04-28 15:47:50             Android    Chrome   \n212038  2022-03-22 21:40:57                 iOS       NaN   \n211543  2022-03-22 19:36:01                 iOS    Safari   \n374564  2022-05-22 17:43:31             Android    Chrome   \n448242  2022-06-20 22:59:07             Android    Chrome   \n86293   2022-01-26 23:20:30             Android    Chrome   \n122579  2022-02-07 16:37:05             Android    Chrome   \n304137  2022-04-26 20:01:14             Android    Chrome   \n359783  2022-05-18 12:56:50             Android    Chrome   \n358083  2022-05-17 18:06:24             Android    Chrome   \n152315  2022-02-19 15:24:42                 iOS       NaN   \n439107  2022-06-15 09:13:15             Windows    Chrome   \n117952  2022-02-05 21:31:20                 iOS    Safari   \n435829  2022-06-13 18:09:51             Android    Chrome   \n305711  2022-04-27 03:18:49             Android    Chrome   \n461484  2022-06-27 23:35:47             Android    Chrome   \n\n                            localizacao locale_x       cidade_x  \\\n17089     Itaquirai, Mato Grosso do Sul       BR      ITAQUIRAI   \n80186                Piui, Minas Gerais       BR           PIUI   \n314764       Vila Velha, Espirito Santo       BR     VILA VELHA   \n170584       Rio do Sul, Santa Catarina       BR     RIO DO SUL   \n310744      Nova Iguaçu, Rio de Janeiro       BR    NOVA IGUAÇU   \n212038  Porto Alegre, Rio Grande do Sul       BR   PORTO ALEGRE   \n211543             João Pessoa, Paraíba       BR    JOÃO PESSOA   \n374564  Porto Alegre, Rio Grande do Sul       BR   PORTO ALEGRE   \n448242           Santo André, Sao Paulo       BR    SANTO ANDRÉ   \n86293              São Paulo, Sao Paulo       BR      SÃO PAULO   \n122579    Florianópolis, Santa Catarina       BR  FLORIANÓPOLIS   \n304137         Garopaba, Santa Catarina       BR       GAROPABA   \n359783                  Maringá, Parana       BR        MARINGÁ   \n358083       Natal, Rio Grande do Norte       BR          NATAL   \n152315        Divinópolis, Minas Gerais       BR    DIVINÓPOLIS   \n439107             São Paulo, Sao Paulo       BR      SÃO PAULO   \n117952             João Pessoa, Paraíba       BR    JOÃO PESSOA   \n435829             São Paulo, Sao Paulo       BR      SÃO PAULO   \n305711                 Manaus, Amazonas       BR         MANAUS   \n461484             São Paulo, Sao Paulo       BR      SÃO PAULO   \n\n                    estado_x  qtde_lavagem_semana  ... Característica10  \\\n17089     MATO GROSSO DO SUL                    1  ...                0   \n80186           MINAS GERAIS                    5  ...                0   \n314764        ESPIRITO SANTO                    3  ...                0   \n170584        SANTA CATARINA                    2  ...                0   \n310744        RIO DE JANEIRO                    1  ...                0   \n212038     RIO GRANDE DO SUL                    4  ...                0   \n211543               PARAÍBA                    1  ...                0   \n374564     RIO GRANDE DO SUL                    5  ...                0   \n448242             SAO PAULO                    1  ...                0   \n86293              SAO PAULO                    5  ...                0   \n122579        SANTA CATARINA                    5  ...                0   \n304137        SANTA CATARINA                    1  ...                1   \n359783                PARANA                    2  ...                0   \n358083   RIO GRANDE DO NORTE                    4  ...                0   \n152315          MINAS GERAIS                    6  ...                0   \n439107             SAO PAULO                    7  ...                0   \n117952               PARAÍBA                    4  ...                0   \n435829             SAO PAULO                    6  ...                0   \n305711              AMAZONAS                    4  ...                0   \n461484             SAO PAULO                    1  ...                0   \n\n       Característica2 Característica3 Característica4 Característica5  \\\n17089                0               1               0               0   \n80186                0               0               0               0   \n314764               0               0               0               0   \n170584               0               1               0               0   \n310744               0               1               0               0   \n212038               0               1               0               0   \n211543               1               0               0               0   \n374564               0               0               0               0   \n448242               0               1               1               0   \n86293                0               1               0               0   \n122579               0               0               0               0   \n304137               0               0               0               0   \n359783               0               1               1               0   \n358083               1               0               0               0   \n152315               0               0               0               0   \n439107               0               0               0               0   \n117952               0               1               0               0   \n435829               0               1               0               0   \n305711               0               1               1               0   \n461484               0               1               0               0   \n\n       Característica6 Característica7 Característica8 Característica9 N/C  \n17089                1               0               1               0   0  \n80186                0               0               1               0   0  \n314764               0               0               0               0   0  \n170584               0               0               1               0   0  \n310744               0               0               0               0   0  \n212038               0               0               0               0   0  \n211543               0               0               0               0   0  \n374564               0               0               1               1   0  \n448242               0               0               0               0   0  \n86293                0               0               0               0   0  \n122579               0               0               0               0   0  \n304137               0               0               0               0   0  \n359783               0               0               1               0   0  \n358083               0               0               0               0   0  \n152315               0               0               1               0   0  \n439107               0               0               0               1   0  \n117952               0               0               0               0   0  \n435829               1               0               1               0   0  \n305711               0               0               1               1   0  \n461484               0               0               0               0   0  \n\n[20 rows x 44 columns]",
      "text/html": "<div>\n<style scoped>\n    .dataframe tbody tr th:only-of-type {\n        vertical-align: middle;\n    }\n\n    .dataframe tbody tr th {\n        vertical-align: top;\n    }\n\n    .dataframe thead th {\n        text-align: right;\n    }\n</style>\n<table border=\"1\" class=\"dataframe\">\n  <thead>\n    <tr style=\"text-align: right;\">\n      <th></th>\n      <th>id_form</th>\n      <th>id_cliente</th>\n      <th>data</th>\n      <th>sistema_operacional</th>\n      <th>navegador</th>\n      <th>localizacao</th>\n      <th>locale_x</th>\n      <th>cidade_x</th>\n      <th>estado_x</th>\n      <th>qtde_lavagem_semana</th>\n      <th>...</th>\n      <th>Característica10</th>\n      <th>Característica2</th>\n      <th>Característica3</th>\n      <th>Característica4</th>\n      <th>Característica5</th>\n      <th>Característica6</th>\n      <th>Característica7</th>\n      <th>Característica8</th>\n      <th>Característica9</th>\n      <th>N/C</th>\n    </tr>\n  </thead>\n  <tbody>\n    <tr>\n      <th>17089</th>\n      <td>269bd07c50220855cc090b16526b8a</td>\n      <td>fe0ad6d49f61c62575fa</td>\n      <td>2022-01-05 19:53:32</td>\n      <td>Android</td>\n      <td>Chrome</td>\n      <td>Itaquirai, Mato Grosso do Sul</td>\n      <td>BR</td>\n      <td>ITAQUIRAI</td>\n      <td>MATO GROSSO DO SUL</td>\n      <td>1</td>\n      <td>...</td>\n      <td>0</td>\n      <td>0</td>\n      <td>1</td>\n      <td>0</td>\n      <td>0</td>\n      <td>1</td>\n      <td>0</td>\n      <td>1</td>\n      <td>0</td>\n      <td>0</td>\n    </tr>\n    <tr>\n      <th>80186</th>\n      <td>136afbe0975e61031a56837282822d</td>\n      <td>8f0801e571ad985fcee2</td>\n      <td>2022-01-24 22:41:27</td>\n      <td>Android</td>\n      <td>Chrome</td>\n      <td>Piui, Minas Gerais</td>\n      <td>BR</td>\n      <td>PIUI</td>\n      <td>MINAS GERAIS</td>\n      <td>5</td>\n      <td>...</td>\n      <td>0</td>\n      <td>0</td>\n      <td>0</td>\n      <td>0</td>\n      <td>0</td>\n      <td>0</td>\n      <td>0</td>\n      <td>1</td>\n      <td>0</td>\n      <td>0</td>\n    </tr>\n    <tr>\n      <th>314764</th>\n      <td>c5040d9526ddcfcccd944ef6a38a88</td>\n      <td>2fadcbc671bd4bec8078</td>\n      <td>2022-04-30 08:18:35</td>\n      <td>iOS</td>\n      <td>NaN</td>\n      <td>Vila Velha, Espirito Santo</td>\n      <td>BR</td>\n      <td>VILA VELHA</td>\n      <td>ESPIRITO SANTO</td>\n      <td>3</td>\n      <td>...</td>\n      <td>0</td>\n      <td>0</td>\n      <td>0</td>\n      <td>0</td>\n      <td>0</td>\n      <td>0</td>\n      <td>0</td>\n      <td>0</td>\n      <td>0</td>\n      <td>0</td>\n    </tr>\n    <tr>\n      <th>170584</th>\n      <td>51229569559d6cb93237e0c42b4ccd</td>\n      <td>2ca7ba7e35513b5e0890</td>\n      <td>2022-02-27 16:14:43</td>\n      <td>Android</td>\n      <td>Chrome</td>\n      <td>Rio do Sul, Santa Catarina</td>\n      <td>BR</td>\n      <td>RIO DO SUL</td>\n      <td>SANTA CATARINA</td>\n      <td>2</td>\n      <td>...</td>\n      <td>0</td>\n      <td>0</td>\n      <td>1</td>\n      <td>0</td>\n      <td>0</td>\n      <td>0</td>\n      <td>0</td>\n      <td>1</td>\n      <td>0</td>\n      <td>0</td>\n    </tr>\n    <tr>\n      <th>310744</th>\n      <td>4fab4ed9cfbc3605f79e201dba8bea</td>\n      <td>1d786782987b9c7037cf</td>\n      <td>2022-04-28 15:47:50</td>\n      <td>Android</td>\n      <td>Chrome</td>\n      <td>Nova Iguaçu, Rio de Janeiro</td>\n      <td>BR</td>\n      <td>NOVA IGUAÇU</td>\n      <td>RIO DE JANEIRO</td>\n      <td>1</td>\n      <td>...</td>\n      <td>0</td>\n      <td>0</td>\n      <td>1</td>\n      <td>0</td>\n      <td>0</td>\n      <td>0</td>\n      <td>0</td>\n      <td>0</td>\n      <td>0</td>\n      <td>0</td>\n    </tr>\n    <tr>\n      <th>212038</th>\n      <td>64b4d13db5682a5ec4fb0aa65866fd</td>\n      <td>8d91c6bac7075c96938b</td>\n      <td>2022-03-22 21:40:57</td>\n      <td>iOS</td>\n      <td>NaN</td>\n      <td>Porto Alegre, Rio Grande do Sul</td>\n      <td>BR</td>\n      <td>PORTO ALEGRE</td>\n      <td>RIO GRANDE DO SUL</td>\n      <td>4</td>\n      <td>...</td>\n      <td>0</td>\n      <td>0</td>\n      <td>1</td>\n      <td>0</td>\n      <td>0</td>\n      <td>0</td>\n      <td>0</td>\n      <td>0</td>\n      <td>0</td>\n      <td>0</td>\n    </tr>\n    <tr>\n      <th>211543</th>\n      <td>db678aa14d194349fef7d80dbf90d8</td>\n      <td>60d697574b32d09deddd</td>\n      <td>2022-03-22 19:36:01</td>\n      <td>iOS</td>\n      <td>Safari</td>\n      <td>João Pessoa, Paraíba</td>\n      <td>BR</td>\n      <td>JOÃO PESSOA</td>\n      <td>PARAÍBA</td>\n      <td>1</td>\n      <td>...</td>\n      <td>0</td>\n      <td>1</td>\n      <td>0</td>\n      <td>0</td>\n      <td>0</td>\n      <td>0</td>\n      <td>0</td>\n      <td>0</td>\n      <td>0</td>\n      <td>0</td>\n    </tr>\n    <tr>\n      <th>374564</th>\n      <td>40d78a18f7a519a8e39168bca383d8</td>\n      <td>abe968728bbe53a38f12</td>\n      <td>2022-05-22 17:43:31</td>\n      <td>Android</td>\n      <td>Chrome</td>\n      <td>Porto Alegre, Rio Grande do Sul</td>\n      <td>BR</td>\n      <td>PORTO ALEGRE</td>\n      <td>RIO GRANDE DO SUL</td>\n      <td>5</td>\n      <td>...</td>\n      <td>0</td>\n      <td>0</td>\n      <td>0</td>\n      <td>0</td>\n      <td>0</td>\n      <td>0</td>\n      <td>0</td>\n      <td>1</td>\n      <td>1</td>\n      <td>0</td>\n    </tr>\n    <tr>\n      <th>448242</th>\n      <td>b98435a4a17fd45f622738ec6c4ee5</td>\n      <td>ec925d86b78d4537a8f1</td>\n      <td>2022-06-20 22:59:07</td>\n      <td>Android</td>\n      <td>Chrome</td>\n      <td>Santo André, Sao Paulo</td>\n      <td>BR</td>\n      <td>SANTO ANDRÉ</td>\n      <td>SAO PAULO</td>\n      <td>1</td>\n      <td>...</td>\n      <td>0</td>\n      <td>0</td>\n      <td>1</td>\n      <td>1</td>\n      <td>0</td>\n      <td>0</td>\n      <td>0</td>\n      <td>0</td>\n      <td>0</td>\n      <td>0</td>\n    </tr>\n    <tr>\n      <th>86293</th>\n      <td>bca380b787aca9473e804781babfe0</td>\n      <td>48c0b8abcc33843ae0e5</td>\n      <td>2022-01-26 23:20:30</td>\n      <td>Android</td>\n      <td>Chrome</td>\n      <td>São Paulo, Sao Paulo</td>\n      <td>BR</td>\n      <td>SÃO PAULO</td>\n      <td>SAO PAULO</td>\n      <td>5</td>\n      <td>...</td>\n      <td>0</td>\n      <td>0</td>\n      <td>1</td>\n      <td>0</td>\n      <td>0</td>\n      <td>0</td>\n      <td>0</td>\n      <td>0</td>\n      <td>0</td>\n      <td>0</td>\n    </tr>\n    <tr>\n      <th>122579</th>\n      <td>97cef6978f6732fbc71df7101f34ab</td>\n      <td>bf3a253ef1872344731d</td>\n      <td>2022-02-07 16:37:05</td>\n      <td>Android</td>\n      <td>Chrome</td>\n      <td>Florianópolis, Santa Catarina</td>\n      <td>BR</td>\n      <td>FLORIANÓPOLIS</td>\n      <td>SANTA CATARINA</td>\n      <td>5</td>\n      <td>...</td>\n      <td>0</td>\n      <td>0</td>\n      <td>0</td>\n      <td>0</td>\n      <td>0</td>\n      <td>0</td>\n      <td>0</td>\n      <td>0</td>\n      <td>0</td>\n      <td>0</td>\n    </tr>\n    <tr>\n      <th>304137</th>\n      <td>287e5588a0f588b2704e813fa58e6f</td>\n      <td>a1cbd44c3f00fcc15294</td>\n      <td>2022-04-26 20:01:14</td>\n      <td>Android</td>\n      <td>Chrome</td>\n      <td>Garopaba, Santa Catarina</td>\n      <td>BR</td>\n      <td>GAROPABA</td>\n      <td>SANTA CATARINA</td>\n      <td>1</td>\n      <td>...</td>\n      <td>1</td>\n      <td>0</td>\n      <td>0</td>\n      <td>0</td>\n      <td>0</td>\n      <td>0</td>\n      <td>0</td>\n      <td>0</td>\n      <td>0</td>\n      <td>0</td>\n    </tr>\n    <tr>\n      <th>359783</th>\n      <td>131c7db0fac5b9214112ad404ae462</td>\n      <td>876fe02d71ae78b96a91</td>\n      <td>2022-05-18 12:56:50</td>\n      <td>Android</td>\n      <td>Chrome</td>\n      <td>Maringá, Parana</td>\n      <td>BR</td>\n      <td>MARINGÁ</td>\n      <td>PARANA</td>\n      <td>2</td>\n      <td>...</td>\n      <td>0</td>\n      <td>0</td>\n      <td>1</td>\n      <td>1</td>\n      <td>0</td>\n      <td>0</td>\n      <td>0</td>\n      <td>1</td>\n      <td>0</td>\n      <td>0</td>\n    </tr>\n    <tr>\n      <th>358083</th>\n      <td>d8244a9d74e4a503b05fb648273f19</td>\n      <td>5298ee126867fc4194b2</td>\n      <td>2022-05-17 18:06:24</td>\n      <td>Android</td>\n      <td>Chrome</td>\n      <td>Natal, Rio Grande do Norte</td>\n      <td>BR</td>\n      <td>NATAL</td>\n      <td>RIO GRANDE DO NORTE</td>\n      <td>4</td>\n      <td>...</td>\n      <td>0</td>\n      <td>1</td>\n      <td>0</td>\n      <td>0</td>\n      <td>0</td>\n      <td>0</td>\n      <td>0</td>\n      <td>0</td>\n      <td>0</td>\n      <td>0</td>\n    </tr>\n    <tr>\n      <th>152315</th>\n      <td>1afd79de5538ff815887ce43cd29ef</td>\n      <td>00549c99204117307b3a</td>\n      <td>2022-02-19 15:24:42</td>\n      <td>iOS</td>\n      <td>NaN</td>\n      <td>Divinópolis, Minas Gerais</td>\n      <td>BR</td>\n      <td>DIVINÓPOLIS</td>\n      <td>MINAS GERAIS</td>\n      <td>6</td>\n      <td>...</td>\n      <td>0</td>\n      <td>0</td>\n      <td>0</td>\n      <td>0</td>\n      <td>0</td>\n      <td>0</td>\n      <td>0</td>\n      <td>1</td>\n      <td>0</td>\n      <td>0</td>\n    </tr>\n    <tr>\n      <th>439107</th>\n      <td>5f43bf6055546a7ca980490fc9ac80</td>\n      <td>b6c0b82cc271fd1203fc</td>\n      <td>2022-06-15 09:13:15</td>\n      <td>Windows</td>\n      <td>Chrome</td>\n      <td>São Paulo, Sao Paulo</td>\n      <td>BR</td>\n      <td>SÃO PAULO</td>\n      <td>SAO PAULO</td>\n      <td>7</td>\n      <td>...</td>\n      <td>0</td>\n      <td>0</td>\n      <td>0</td>\n      <td>0</td>\n      <td>0</td>\n      <td>0</td>\n      <td>0</td>\n      <td>0</td>\n      <td>1</td>\n      <td>0</td>\n    </tr>\n    <tr>\n      <th>117952</th>\n      <td>a90606d70892e4682a94599d95d0ff</td>\n      <td>8abdca30ccd5ed525314</td>\n      <td>2022-02-05 21:31:20</td>\n      <td>iOS</td>\n      <td>Safari</td>\n      <td>João Pessoa, Paraíba</td>\n      <td>BR</td>\n      <td>JOÃO PESSOA</td>\n      <td>PARAÍBA</td>\n      <td>4</td>\n      <td>...</td>\n      <td>0</td>\n      <td>0</td>\n      <td>1</td>\n      <td>0</td>\n      <td>0</td>\n      <td>0</td>\n      <td>0</td>\n      <td>0</td>\n      <td>0</td>\n      <td>0</td>\n    </tr>\n    <tr>\n      <th>435829</th>\n      <td>478d3630757606c019674b7ef1d244</td>\n      <td>21aede8c7d23e3891631</td>\n      <td>2022-06-13 18:09:51</td>\n      <td>Android</td>\n      <td>Chrome</td>\n      <td>São Paulo, Sao Paulo</td>\n      <td>BR</td>\n      <td>SÃO PAULO</td>\n      <td>SAO PAULO</td>\n      <td>6</td>\n      <td>...</td>\n      <td>0</td>\n      <td>0</td>\n      <td>1</td>\n      <td>0</td>\n      <td>0</td>\n      <td>1</td>\n      <td>0</td>\n      <td>1</td>\n      <td>0</td>\n      <td>0</td>\n    </tr>\n    <tr>\n      <th>305711</th>\n      <td>eda78f1cca55af11f207bf2e3c6f70</td>\n      <td>130f2ce55bd01550fd8f</td>\n      <td>2022-04-27 03:18:49</td>\n      <td>Android</td>\n      <td>Chrome</td>\n      <td>Manaus, Amazonas</td>\n      <td>BR</td>\n      <td>MANAUS</td>\n      <td>AMAZONAS</td>\n      <td>4</td>\n      <td>...</td>\n      <td>0</td>\n      <td>0</td>\n      <td>1</td>\n      <td>1</td>\n      <td>0</td>\n      <td>0</td>\n      <td>0</td>\n      <td>1</td>\n      <td>1</td>\n      <td>0</td>\n    </tr>\n    <tr>\n      <th>461484</th>\n      <td>64230baf2690236cc10b8b42222e1b</td>\n      <td>9cbf984cc60e51e7ff95</td>\n      <td>2022-06-27 23:35:47</td>\n      <td>Android</td>\n      <td>Chrome</td>\n      <td>São Paulo, Sao Paulo</td>\n      <td>BR</td>\n      <td>SÃO PAULO</td>\n      <td>SAO PAULO</td>\n      <td>1</td>\n      <td>...</td>\n      <td>0</td>\n      <td>0</td>\n      <td>1</td>\n      <td>0</td>\n      <td>0</td>\n      <td>0</td>\n      <td>0</td>\n      <td>0</td>\n      <td>0</td>\n      <td>0</td>\n    </tr>\n  </tbody>\n</table>\n<p>20 rows × 44 columns</p>\n</div>"
     },
     "execution_count": 135,
     "metadata": {},
     "output_type": "execute_result"
    }
   ],
   "source": [
    "X_train.tail(20)"
   ],
   "metadata": {
    "collapsed": false,
    "pycharm": {
     "name": "#%%\n"
    }
   }
  },
  {
   "cell_type": "code",
   "execution_count": 135,
   "outputs": [],
   "source": [],
   "metadata": {
    "collapsed": false,
    "pycharm": {
     "name": "#%%\n"
    }
   }
  },
  {
   "cell_type": "markdown",
   "source": [
    "## Target"
   ],
   "metadata": {
    "collapsed": false,
    "pycharm": {
     "name": "#%% md\n"
    }
   }
  },
  {
   "cell_type": "code",
   "execution_count": 136,
   "outputs": [],
   "source": [
    "y_train.fillna(0, inplace=True)\n",
    "y_test.fillna(0, inplace=True)"
   ],
   "metadata": {
    "collapsed": false,
    "pycharm": {
     "name": "#%%\n"
    }
   }
  },
  {
   "cell_type": "code",
   "execution_count": 136,
   "outputs": [],
   "source": [],
   "metadata": {
    "collapsed": false,
    "pycharm": {
     "name": "#%%\n"
    }
   }
  },
  {
   "cell_type": "markdown",
   "source": [
    "## Configurations"
   ],
   "metadata": {
    "collapsed": false,
    "pycharm": {
     "name": "#%% md\n"
    }
   }
  },
  {
   "cell_type": "code",
   "execution_count": 136,
   "outputs": [],
   "source": [],
   "metadata": {
    "collapsed": false,
    "pycharm": {
     "name": "#%%\n"
    }
   }
  },
  {
   "cell_type": "code",
   "execution_count": 137,
   "outputs": [
    {
     "name": "stderr",
     "output_type": "stream",
     "text": [
      "C:\\Users\\cassio.reis_saudeid\\Desktop\\CASSIO\\leads_classification\\venv\\lib\\site-packages\\sklearn\\utils\\validation.py:758: UserWarning: pandas.DataFrame with sparse columns found.It will be converted to a dense numpy array.\n",
      "  warnings.warn(\n",
      "C:\\Users\\cassio.reis_saudeid\\Desktop\\CASSIO\\leads_classification\\venv\\lib\\site-packages\\sklearn\\utils\\validation.py:758: UserWarning: pandas.DataFrame with sparse columns found.It will be converted to a dense numpy array.\n",
      "  warnings.warn(\n"
     ]
    }
   ],
   "source": [
    "# categorical variables with NA in train set\n",
    "CATEGORICAL_VARS_WITH_NA_MISSING = [\n",
    " 'cidade_x',\n",
    " 'estado_x',\n",
    " 'efeitos_desejados'\n",
    "]\n",
    "\n",
    "# categorical variables with NA in train set\n",
    "CATEGORICAL_VARS_WITH_NA_FREQUENT = [\n",
    " 'navegador',\n",
    " 'utm_source_x',\n",
    "\n",
    "]\n",
    "\n",
    "# numerical variables\n",
    "NUMERICAL_VARS = ['qtde_lavagem_semana']\n",
    "\n",
    "\n",
    "\n",
    "# this variable is to calculate the temporal variable,\n",
    "# can be dropped afterwards\n",
    "DROP_FEATURES = [\"procedimentos\",\"efeitos_desejados\",'id_cliente','localizacao','id_form','status_pagamento', 'tipo_pagamento', 'valor_total',\n",
    "       'valor_desconto', 'frete_gratis', 'cidade_y', 'estado_y', 'locale_y',\n",
    "       'utm_source_y','id_pedido','data','data_pedido']\n",
    "\n",
    "\n",
    "# variables to binarize\n",
    "BINARIZE_VARS = ['procedimentos','efeitos_desejados']\n",
    "\n",
    "\n",
    "# categorical variables to encode\n",
    "CATEGORICAL_VARS = [\n",
    "                     'sistema_operacional',\n",
    "                     'navegador',\n",
    "                     'locale_x',\n",
    "                     'cidade_x',\n",
    "                     'estado_x',\n",
    "                     'utm_source_x',\n",
    "                     'tipo_cabelo',\n",
    "                     'comprimento',\n",
    "                     'tipo_fios',\n",
    "                     'tempo_procedimento',\n",
    "                     'dieta',\n",
    "                     'atividade_fisica',\n",
    "                     'frequencia_estresse',\n",
    "                     'faixa_etaria',\n",
    "                     'fragancia',\n",
    "                    'efeitos_desejados'\n",
    "]\n",
    "\n",
    "\n",
    "#feature_selected = CATEGORICAL_VARS + NUMERICAL_VARS\n",
    "# variable mappings\n",
    "frequencia_estresse = {'Nunca': 1, 'Regularmente': 4, 'Quase sempre': 3,\n",
    "                        'Uma vez por mês': 2,  'Missing': 0, 'NA': 0}\n",
    "\n",
    "\n",
    "under = RandomUnderSampler(sampling_strategy=0.5)\n",
    "X_train, y_train = under.fit_resample(X_train, y_train)\n",
    "X_test, y_test = under.fit_resample(X_test, y_test)"
   ],
   "metadata": {
    "collapsed": false,
    "pycharm": {
     "name": "#%%\n"
    }
   }
  },
  {
   "cell_type": "code",
   "execution_count": 137,
   "outputs": [],
   "source": [],
   "metadata": {
    "collapsed": false,
    "pycharm": {
     "name": "#%%\n"
    }
   }
  },
  {
   "cell_type": "code",
   "execution_count": 138,
   "outputs": [],
   "source": [
    "price_pipe = Pipeline([\n",
    "\n",
    "    # ===== IMPUTATION =====\n",
    "    # impute categorical variables with string missing\n",
    "    ('missing_imputation', CategoricalImputer(\n",
    "        imputation_method='missing', variables=CATEGORICAL_VARS_WITH_NA_MISSING)),\n",
    "\n",
    "    ('frequent_imputation', CategoricalImputer(\n",
    "        imputation_method='frequent', variables=CATEGORICAL_VARS_WITH_NA_FREQUENT)),\n",
    "\n",
    "    # add missing indicator\n",
    "    # ('missing_indicator', AddMissingIndicator(variables=NUMERICAL_VARS_WITH_NA)),\n",
    "    #\n",
    "    # # impute numerical variables with the mean\n",
    "    # ('mean_imputation', MeanMedianImputer(\n",
    "    #     imputation_method='mean', variables=NUMERICAL_VARS_WITH_NA\n",
    "    # )),\n",
    "\n",
    "\n",
    "    # == TEMPORAL VARIABLES ====\n",
    "    # ('elapsed_time', pp.TemporalVariableTransformer(\n",
    "    #     variables=TEMPORAL_VARS, reference_variable=REF_VAR)),\n",
    "    #\n",
    "    # ('drop_features', DropFeatures(features_to_drop=[REF_VAR])),\n",
    "\n",
    "\n",
    "\n",
    "    # # ==== VARIABLE TRANSFORMATION =====\n",
    "    # ('log', LogTransformer(variables=NUMERICALS_LOG_VARS)),\n",
    "\n",
    "#     ('yeojohnson', YeoJohnsonTransformer(variables=NUMERICALS_YEO_VARS)),\n",
    "#\n",
    "#     ('binarizer', SklearnTransformerWrapper(\n",
    "#         transformer=Binarizer(threshold=0), variables=BINARIZE_VARS)),\n",
    "\n",
    "    # ('multilabel', SklearnTransformerWrapper(\n",
    "    #     transformer=MultiLabelBinarizer(), variables=BINARIZE_VARS)),\n",
    "\n",
    "    # # === mappers ===\n",
    "    # ('mapper_qual', pp.Mapper(\n",
    "    #     variables=QUAL_VARS, mappings=QUAL_MAPPINGS)),\n",
    "    #\n",
    "    # ('mapper_exposure', pp.Mapper(\n",
    "    #     variables=EXPOSURE_VARS, mappings=EXPOSURE_MAPPINGS)),\n",
    "    #\n",
    "    # ('mapper_finish', pp.Mapper(\n",
    "    #     variables=FINISH_VARS, mappings=FINISH_MAPPINGS)),\n",
    "    #\n",
    "    # ('mapper_garage', pp.Mapper(\n",
    "    #     variables=GARAGE_VARS, mappings=GARAGE_MAPPINGS)),\n",
    "\n",
    "#     ('mapper_fence', pp.Mapper(\n",
    "#         variables=FENCE_VARS, mappings=FENCE_MAPPINGS)),\n",
    "\n",
    "    #\n",
    "\n",
    "    # == CATEGORICAL ENCODING\n",
    "    ('rare_label_encoder', RareLabelEncoder(\n",
    "        tol=0.01, n_categories=1, variables=CATEGORICAL_VARS\n",
    "    )),\n",
    "#\n",
    "    # encode categorical and discrete variables using the target mean\n",
    "    ('categorical_encoder', OrdinalEncoder(\n",
    "        encoding_method='ordered', variables=CATEGORICAL_VARS)),\n",
    "\n",
    "\n",
    "\n",
    "#\n",
    "#\n",
    "#     ('scaler', MinMaxScaler()),\n",
    "# #     ('selector', SelectFromModel(Lasso(alpha=0.001, random_state=0))),\n",
    "#     ('Lasso', Lasso(alpha=0.001, random_state=0)),\n",
    "\n",
    "\n",
    "    #drop features\n",
    "    ('drop_features', DropFeatures(features_to_drop=DROP_FEATURES)),\n",
    "\n",
    "    #PCA\n",
    "    ('pca', PCA(n_components=0.95)),\n",
    "\n",
    "\n",
    "\n",
    "    #MODEL Xgboost\n",
    "    ('xgboost', XGBClassifier(\n",
    "        n_estimators=100,\n",
    "        max_depth=3,\n",
    "        learning_rate=0.1,\n",
    "        objective='binary:logistic',\n",
    "        booster='gbtree',\n",
    "        n_jobs=-1,\n",
    "        random_state=0,\n",
    "        verbose=True\n",
    "    )),\n",
    "\n",
    "\n",
    "])\n",
    "\n"
   ],
   "metadata": {
    "collapsed": false,
    "pycharm": {
     "name": "#%%\n"
    }
   }
  },
  {
   "cell_type": "markdown",
   "source": [],
   "metadata": {
    "collapsed": false,
    "pycharm": {
     "name": "#%% md\n"
    }
   }
  },
  {
   "cell_type": "code",
   "execution_count": 139,
   "outputs": [
    {
     "data": {
      "text/plain": "                               id_form            id_cliente  \\\n0       6d768849518ef901b121196cb158c0  b15d5448c08b5cb6ee98   \n1       88d6c38491f774d5b9a6ea3fed2172  5f407e63c67d3c686eed   \n2       a4dc6fd225be473b9b0bef246d1cfc  d6505a3a5b07367b9134   \n3       2f4d961b5813c635cded4bd7469b52  e433eebec3fdfcc4cd7d   \n4       547e74c6665407ead0d4225e79519b  10166efe1d3a0f374fd7   \n...                                ...                   ...   \n371833  0d52256cf5ba59d6c236ea8455e17b  7022b90b9e3a9cc8e55c   \n371834  4fab4ed9cfbc3605f79e201dba8bea  1d786782987b9c7037cf   \n371835  b98435a4a17fd45f622738ec6c4ee5  ec925d86b78d4537a8f1   \n371836  5f43bf6055546a7ca980490fc9ac80  b6c0b82cc271fd1203fc   \n371837  a90606d70892e4682a94599d95d0ff  8abdca30ccd5ed525314   \n\n                       data sistema_operacional navegador  \\\n0       2022-03-12 07:48:03             Android    Chrome   \n1       2022-04-12 19:09:46             Android    Chrome   \n2       2022-04-30 20:02:15             Android    Chrome   \n3       2022-03-10 21:57:05             Android    Chrome   \n4       2022-06-15 20:08:13             Android    Chrome   \n...                     ...                 ...       ...   \n371833  2022-03-26 10:23:53             Android    Chrome   \n371834  2022-04-28 15:47:50             Android    Chrome   \n371835  2022-06-20 22:59:07             Android    Chrome   \n371836  2022-06-15 09:13:15             Windows    Chrome   \n371837  2022-02-05 21:31:20                 iOS    Safari   \n\n                        localizacao locale_x         cidade_x  \\\n0                    Caninde, Ceara       BR          CANINDE   \n1           Campina Grande, Paraíba       BR   CAMPINA GRANDE   \n2        Varzea Paulista, Sao Paulo       BR  VARZEA PAULISTA   \n3            Garuva, Santa Catarina       BR           GARUVA   \n4           Lago da Pedra, Maranhao       BR    LAGO DA PEDRA   \n...                             ...      ...              ...   \n371833    Canoas, Rio Grande do Sul       BR           CANOAS   \n371834  Nova Iguaçu, Rio de Janeiro       BR      NOVA IGUAÇU   \n371835       Santo André, Sao Paulo       BR      SANTO ANDRÉ   \n371836         São Paulo, Sao Paulo       BR        SÃO PAULO   \n371837         João Pessoa, Paraíba       BR      JOÃO PESSOA   \n\n                  estado_x  qtde_lavagem_semana  ... Característica10  \\\n0                    CEARA                    1  ...                0   \n1                  PARAÍBA                    4  ...                0   \n2                SAO PAULO                    1  ...                0   \n3           SANTA CATARINA                    1  ...                0   \n4                 MARANHAO                    1  ...                0   \n...                    ...                  ...  ...              ...   \n371833   RIO GRANDE DO SUL                    4  ...                0   \n371834      RIO DE JANEIRO                    1  ...                0   \n371835           SAO PAULO                    1  ...                0   \n371836           SAO PAULO                    7  ...                0   \n371837             PARAÍBA                    4  ...                0   \n\n       Característica2 Característica3 Característica4 Característica5  \\\n0                    0               1               0               0   \n1                    1               1               0               0   \n2                    0               0               0               0   \n3                    0               1               0               0   \n4                    0               1               0               0   \n...                ...             ...             ...             ...   \n371833               0               1               0               0   \n371834               0               1               0               0   \n371835               0               1               1               0   \n371836               0               0               0               0   \n371837               0               1               0               0   \n\n       Característica6 Característica7 Característica8 Característica9 N/C  \n0                    0               0               0               0   0  \n1                    0               0               1               0   0  \n2                    0               1               0               0   0  \n3                    0               0               0               0   0  \n4                    0               0               1               0   0  \n...                ...             ...             ...             ...  ..  \n371833               0               0               0               0   0  \n371834               0               0               0               0   0  \n371835               0               0               0               0   0  \n371836               0               0               0               1   0  \n371837               0               0               0               0   0  \n\n[371838 rows x 44 columns]",
      "text/html": "<div>\n<style scoped>\n    .dataframe tbody tr th:only-of-type {\n        vertical-align: middle;\n    }\n\n    .dataframe tbody tr th {\n        vertical-align: top;\n    }\n\n    .dataframe thead th {\n        text-align: right;\n    }\n</style>\n<table border=\"1\" class=\"dataframe\">\n  <thead>\n    <tr style=\"text-align: right;\">\n      <th></th>\n      <th>id_form</th>\n      <th>id_cliente</th>\n      <th>data</th>\n      <th>sistema_operacional</th>\n      <th>navegador</th>\n      <th>localizacao</th>\n      <th>locale_x</th>\n      <th>cidade_x</th>\n      <th>estado_x</th>\n      <th>qtde_lavagem_semana</th>\n      <th>...</th>\n      <th>Característica10</th>\n      <th>Característica2</th>\n      <th>Característica3</th>\n      <th>Característica4</th>\n      <th>Característica5</th>\n      <th>Característica6</th>\n      <th>Característica7</th>\n      <th>Característica8</th>\n      <th>Característica9</th>\n      <th>N/C</th>\n    </tr>\n  </thead>\n  <tbody>\n    <tr>\n      <th>0</th>\n      <td>6d768849518ef901b121196cb158c0</td>\n      <td>b15d5448c08b5cb6ee98</td>\n      <td>2022-03-12 07:48:03</td>\n      <td>Android</td>\n      <td>Chrome</td>\n      <td>Caninde, Ceara</td>\n      <td>BR</td>\n      <td>CANINDE</td>\n      <td>CEARA</td>\n      <td>1</td>\n      <td>...</td>\n      <td>0</td>\n      <td>0</td>\n      <td>1</td>\n      <td>0</td>\n      <td>0</td>\n      <td>0</td>\n      <td>0</td>\n      <td>0</td>\n      <td>0</td>\n      <td>0</td>\n    </tr>\n    <tr>\n      <th>1</th>\n      <td>88d6c38491f774d5b9a6ea3fed2172</td>\n      <td>5f407e63c67d3c686eed</td>\n      <td>2022-04-12 19:09:46</td>\n      <td>Android</td>\n      <td>Chrome</td>\n      <td>Campina Grande, Paraíba</td>\n      <td>BR</td>\n      <td>CAMPINA GRANDE</td>\n      <td>PARAÍBA</td>\n      <td>4</td>\n      <td>...</td>\n      <td>0</td>\n      <td>1</td>\n      <td>1</td>\n      <td>0</td>\n      <td>0</td>\n      <td>0</td>\n      <td>0</td>\n      <td>1</td>\n      <td>0</td>\n      <td>0</td>\n    </tr>\n    <tr>\n      <th>2</th>\n      <td>a4dc6fd225be473b9b0bef246d1cfc</td>\n      <td>d6505a3a5b07367b9134</td>\n      <td>2022-04-30 20:02:15</td>\n      <td>Android</td>\n      <td>Chrome</td>\n      <td>Varzea Paulista, Sao Paulo</td>\n      <td>BR</td>\n      <td>VARZEA PAULISTA</td>\n      <td>SAO PAULO</td>\n      <td>1</td>\n      <td>...</td>\n      <td>0</td>\n      <td>0</td>\n      <td>0</td>\n      <td>0</td>\n      <td>0</td>\n      <td>0</td>\n      <td>1</td>\n      <td>0</td>\n      <td>0</td>\n      <td>0</td>\n    </tr>\n    <tr>\n      <th>3</th>\n      <td>2f4d961b5813c635cded4bd7469b52</td>\n      <td>e433eebec3fdfcc4cd7d</td>\n      <td>2022-03-10 21:57:05</td>\n      <td>Android</td>\n      <td>Chrome</td>\n      <td>Garuva, Santa Catarina</td>\n      <td>BR</td>\n      <td>GARUVA</td>\n      <td>SANTA CATARINA</td>\n      <td>1</td>\n      <td>...</td>\n      <td>0</td>\n      <td>0</td>\n      <td>1</td>\n      <td>0</td>\n      <td>0</td>\n      <td>0</td>\n      <td>0</td>\n      <td>0</td>\n      <td>0</td>\n      <td>0</td>\n    </tr>\n    <tr>\n      <th>4</th>\n      <td>547e74c6665407ead0d4225e79519b</td>\n      <td>10166efe1d3a0f374fd7</td>\n      <td>2022-06-15 20:08:13</td>\n      <td>Android</td>\n      <td>Chrome</td>\n      <td>Lago da Pedra, Maranhao</td>\n      <td>BR</td>\n      <td>LAGO DA PEDRA</td>\n      <td>MARANHAO</td>\n      <td>1</td>\n      <td>...</td>\n      <td>0</td>\n      <td>0</td>\n      <td>1</td>\n      <td>0</td>\n      <td>0</td>\n      <td>0</td>\n      <td>0</td>\n      <td>1</td>\n      <td>0</td>\n      <td>0</td>\n    </tr>\n    <tr>\n      <th>...</th>\n      <td>...</td>\n      <td>...</td>\n      <td>...</td>\n      <td>...</td>\n      <td>...</td>\n      <td>...</td>\n      <td>...</td>\n      <td>...</td>\n      <td>...</td>\n      <td>...</td>\n      <td>...</td>\n      <td>...</td>\n      <td>...</td>\n      <td>...</td>\n      <td>...</td>\n      <td>...</td>\n      <td>...</td>\n      <td>...</td>\n      <td>...</td>\n      <td>...</td>\n      <td>...</td>\n    </tr>\n    <tr>\n      <th>371833</th>\n      <td>0d52256cf5ba59d6c236ea8455e17b</td>\n      <td>7022b90b9e3a9cc8e55c</td>\n      <td>2022-03-26 10:23:53</td>\n      <td>Android</td>\n      <td>Chrome</td>\n      <td>Canoas, Rio Grande do Sul</td>\n      <td>BR</td>\n      <td>CANOAS</td>\n      <td>RIO GRANDE DO SUL</td>\n      <td>4</td>\n      <td>...</td>\n      <td>0</td>\n      <td>0</td>\n      <td>1</td>\n      <td>0</td>\n      <td>0</td>\n      <td>0</td>\n      <td>0</td>\n      <td>0</td>\n      <td>0</td>\n      <td>0</td>\n    </tr>\n    <tr>\n      <th>371834</th>\n      <td>4fab4ed9cfbc3605f79e201dba8bea</td>\n      <td>1d786782987b9c7037cf</td>\n      <td>2022-04-28 15:47:50</td>\n      <td>Android</td>\n      <td>Chrome</td>\n      <td>Nova Iguaçu, Rio de Janeiro</td>\n      <td>BR</td>\n      <td>NOVA IGUAÇU</td>\n      <td>RIO DE JANEIRO</td>\n      <td>1</td>\n      <td>...</td>\n      <td>0</td>\n      <td>0</td>\n      <td>1</td>\n      <td>0</td>\n      <td>0</td>\n      <td>0</td>\n      <td>0</td>\n      <td>0</td>\n      <td>0</td>\n      <td>0</td>\n    </tr>\n    <tr>\n      <th>371835</th>\n      <td>b98435a4a17fd45f622738ec6c4ee5</td>\n      <td>ec925d86b78d4537a8f1</td>\n      <td>2022-06-20 22:59:07</td>\n      <td>Android</td>\n      <td>Chrome</td>\n      <td>Santo André, Sao Paulo</td>\n      <td>BR</td>\n      <td>SANTO ANDRÉ</td>\n      <td>SAO PAULO</td>\n      <td>1</td>\n      <td>...</td>\n      <td>0</td>\n      <td>0</td>\n      <td>1</td>\n      <td>1</td>\n      <td>0</td>\n      <td>0</td>\n      <td>0</td>\n      <td>0</td>\n      <td>0</td>\n      <td>0</td>\n    </tr>\n    <tr>\n      <th>371836</th>\n      <td>5f43bf6055546a7ca980490fc9ac80</td>\n      <td>b6c0b82cc271fd1203fc</td>\n      <td>2022-06-15 09:13:15</td>\n      <td>Windows</td>\n      <td>Chrome</td>\n      <td>São Paulo, Sao Paulo</td>\n      <td>BR</td>\n      <td>SÃO PAULO</td>\n      <td>SAO PAULO</td>\n      <td>7</td>\n      <td>...</td>\n      <td>0</td>\n      <td>0</td>\n      <td>0</td>\n      <td>0</td>\n      <td>0</td>\n      <td>0</td>\n      <td>0</td>\n      <td>0</td>\n      <td>1</td>\n      <td>0</td>\n    </tr>\n    <tr>\n      <th>371837</th>\n      <td>a90606d70892e4682a94599d95d0ff</td>\n      <td>8abdca30ccd5ed525314</td>\n      <td>2022-02-05 21:31:20</td>\n      <td>iOS</td>\n      <td>Safari</td>\n      <td>João Pessoa, Paraíba</td>\n      <td>BR</td>\n      <td>JOÃO PESSOA</td>\n      <td>PARAÍBA</td>\n      <td>4</td>\n      <td>...</td>\n      <td>0</td>\n      <td>0</td>\n      <td>1</td>\n      <td>0</td>\n      <td>0</td>\n      <td>0</td>\n      <td>0</td>\n      <td>0</td>\n      <td>0</td>\n      <td>0</td>\n    </tr>\n  </tbody>\n</table>\n<p>371838 rows × 44 columns</p>\n</div>"
     },
     "execution_count": 139,
     "metadata": {},
     "output_type": "execute_result"
    }
   ],
   "source": [
    "X_train"
   ],
   "metadata": {
    "collapsed": false,
    "pycharm": {
     "name": "#%%\n"
    }
   }
  },
  {
   "cell_type": "code",
   "execution_count": 140,
   "outputs": [
    {
     "name": "stderr",
     "output_type": "stream",
     "text": [
      "C:\\Users\\cassio.reis_saudeid\\Desktop\\CASSIO\\leads_classification\\venv\\lib\\site-packages\\feature_engine\\encoding\\rare_label.py:178: UserWarning: The number of unique categories for variable locale_x is less than that indicated in n_categories. Thus, all categories will be considered frequent\n",
      "  warnings.warn(\n",
      "C:\\Users\\cassio.reis_saudeid\\Desktop\\CASSIO\\leads_classification\\venv\\lib\\site-packages\\sklearn\\utils\\validation.py:758: UserWarning: pandas.DataFrame with sparse columns found.It will be converted to a dense numpy array.\n",
      "  warnings.warn(\n"
     ]
    },
    {
     "name": "stdout",
     "output_type": "stream",
     "text": [
      "[01:06:58] WARNING: C:/Users/Administrator/workspace/xgboost-win64_release_1.6.0/src/learner.cc:627: \n",
      "Parameters: { \"verbose\" } might not be used.\n",
      "\n",
      "  This could be a false alarm, with some parameters getting used by language bindings but\n",
      "  then being mistakenly passed down to XGBoost core, or some parameter actually being used\n",
      "  but getting flagged wrongly here. Please open an issue if you find any such cases.\n",
      "\n",
      "\n"
     ]
    },
    {
     "data": {
      "text/plain": "Pipeline(steps=[('missing_imputation',\n                 CategoricalImputer(variables=['cidade_x', 'estado_x',\n                                               'efeitos_desejados'])),\n                ('frequent_imputation',\n                 CategoricalImputer(imputation_method='frequent',\n                                    variables=['navegador', 'utm_source_x'])),\n                ('rare_label_encoder',\n                 RareLabelEncoder(n_categories=1, tol=0.01,\n                                  variables=['sistema_operacional', 'navegador',\n                                             'locale_x', 'cidad...\n                               gamma=0, gpu_id=-1, grow_policy='depthwise',\n                               importance_type=None, interaction_constraints='',\n                               learning_rate=0.1, max_bin=256,\n                               max_cat_to_onehot=4, max_delta_step=0,\n                               max_depth=3, max_leaves=0, min_child_weight=1,\n                               missing=nan, monotone_constraints='()',\n                               n_estimators=100, n_jobs=-1, num_parallel_tree=1,\n                               predictor='auto', random_state=0, reg_alpha=0,\n                               reg_lambda=1, ...))])",
      "text/html": "<style>#sk-container-id-5 {color: black;background-color: white;}#sk-container-id-5 pre{padding: 0;}#sk-container-id-5 div.sk-toggleable {background-color: white;}#sk-container-id-5 label.sk-toggleable__label {cursor: pointer;display: block;width: 100%;margin-bottom: 0;padding: 0.3em;box-sizing: border-box;text-align: center;}#sk-container-id-5 label.sk-toggleable__label-arrow:before {content: \"▸\";float: left;margin-right: 0.25em;color: #696969;}#sk-container-id-5 label.sk-toggleable__label-arrow:hover:before {color: black;}#sk-container-id-5 div.sk-estimator:hover label.sk-toggleable__label-arrow:before {color: black;}#sk-container-id-5 div.sk-toggleable__content {max-height: 0;max-width: 0;overflow: hidden;text-align: left;background-color: #f0f8ff;}#sk-container-id-5 div.sk-toggleable__content pre {margin: 0.2em;color: black;border-radius: 0.25em;background-color: #f0f8ff;}#sk-container-id-5 input.sk-toggleable__control:checked~div.sk-toggleable__content {max-height: 200px;max-width: 100%;overflow: auto;}#sk-container-id-5 input.sk-toggleable__control:checked~label.sk-toggleable__label-arrow:before {content: \"▾\";}#sk-container-id-5 div.sk-estimator input.sk-toggleable__control:checked~label.sk-toggleable__label {background-color: #d4ebff;}#sk-container-id-5 div.sk-label input.sk-toggleable__control:checked~label.sk-toggleable__label {background-color: #d4ebff;}#sk-container-id-5 input.sk-hidden--visually {border: 0;clip: rect(1px 1px 1px 1px);clip: rect(1px, 1px, 1px, 1px);height: 1px;margin: -1px;overflow: hidden;padding: 0;position: absolute;width: 1px;}#sk-container-id-5 div.sk-estimator {font-family: monospace;background-color: #f0f8ff;border: 1px dotted black;border-radius: 0.25em;box-sizing: border-box;margin-bottom: 0.5em;}#sk-container-id-5 div.sk-estimator:hover {background-color: #d4ebff;}#sk-container-id-5 div.sk-parallel-item::after {content: \"\";width: 100%;border-bottom: 1px solid gray;flex-grow: 1;}#sk-container-id-5 div.sk-label:hover label.sk-toggleable__label {background-color: #d4ebff;}#sk-container-id-5 div.sk-serial::before {content: \"\";position: absolute;border-left: 1px solid gray;box-sizing: border-box;top: 0;bottom: 0;left: 50%;z-index: 0;}#sk-container-id-5 div.sk-serial {display: flex;flex-direction: column;align-items: center;background-color: white;padding-right: 0.2em;padding-left: 0.2em;position: relative;}#sk-container-id-5 div.sk-item {position: relative;z-index: 1;}#sk-container-id-5 div.sk-parallel {display: flex;align-items: stretch;justify-content: center;background-color: white;position: relative;}#sk-container-id-5 div.sk-item::before, #sk-container-id-5 div.sk-parallel-item::before {content: \"\";position: absolute;border-left: 1px solid gray;box-sizing: border-box;top: 0;bottom: 0;left: 50%;z-index: -1;}#sk-container-id-5 div.sk-parallel-item {display: flex;flex-direction: column;z-index: 1;position: relative;background-color: white;}#sk-container-id-5 div.sk-parallel-item:first-child::after {align-self: flex-end;width: 50%;}#sk-container-id-5 div.sk-parallel-item:last-child::after {align-self: flex-start;width: 50%;}#sk-container-id-5 div.sk-parallel-item:only-child::after {width: 0;}#sk-container-id-5 div.sk-dashed-wrapped {border: 1px dashed gray;margin: 0 0.4em 0.5em 0.4em;box-sizing: border-box;padding-bottom: 0.4em;background-color: white;}#sk-container-id-5 div.sk-label label {font-family: monospace;font-weight: bold;display: inline-block;line-height: 1.2em;}#sk-container-id-5 div.sk-label-container {text-align: center;}#sk-container-id-5 div.sk-container {/* jupyter's `normalize.less` sets `[hidden] { display: none; }` but bootstrap.min.css set `[hidden] { display: none !important; }` so we also need the `!important` here to be able to override the default hidden behavior on the sphinx rendered scikit-learn.org. See: https://github.com/scikit-learn/scikit-learn/issues/21755 */display: inline-block !important;position: relative;}#sk-container-id-5 div.sk-text-repr-fallback {display: none;}</style><div id=\"sk-container-id-5\" class=\"sk-top-container\"><div class=\"sk-text-repr-fallback\"><pre>Pipeline(steps=[(&#x27;missing_imputation&#x27;,\n                 CategoricalImputer(variables=[&#x27;cidade_x&#x27;, &#x27;estado_x&#x27;,\n                                               &#x27;efeitos_desejados&#x27;])),\n                (&#x27;frequent_imputation&#x27;,\n                 CategoricalImputer(imputation_method=&#x27;frequent&#x27;,\n                                    variables=[&#x27;navegador&#x27;, &#x27;utm_source_x&#x27;])),\n                (&#x27;rare_label_encoder&#x27;,\n                 RareLabelEncoder(n_categories=1, tol=0.01,\n                                  variables=[&#x27;sistema_operacional&#x27;, &#x27;navegador&#x27;,\n                                             &#x27;locale_x&#x27;, &#x27;cidad...\n                               gamma=0, gpu_id=-1, grow_policy=&#x27;depthwise&#x27;,\n                               importance_type=None, interaction_constraints=&#x27;&#x27;,\n                               learning_rate=0.1, max_bin=256,\n                               max_cat_to_onehot=4, max_delta_step=0,\n                               max_depth=3, max_leaves=0, min_child_weight=1,\n                               missing=nan, monotone_constraints=&#x27;()&#x27;,\n                               n_estimators=100, n_jobs=-1, num_parallel_tree=1,\n                               predictor=&#x27;auto&#x27;, random_state=0, reg_alpha=0,\n                               reg_lambda=1, ...))])</pre><b>In a Jupyter environment, please rerun this cell to show the HTML representation or trust the notebook. <br />On GitHub, the HTML representation is unable to render, please try loading this page with nbviewer.org.</b></div><div class=\"sk-container\" hidden><div class=\"sk-item sk-dashed-wrapped\"><div class=\"sk-label-container\"><div class=\"sk-label sk-toggleable\"><input class=\"sk-toggleable__control sk-hidden--visually\" id=\"sk-estimator-id-33\" type=\"checkbox\" ><label for=\"sk-estimator-id-33\" class=\"sk-toggleable__label sk-toggleable__label-arrow\">Pipeline</label><div class=\"sk-toggleable__content\"><pre>Pipeline(steps=[(&#x27;missing_imputation&#x27;,\n                 CategoricalImputer(variables=[&#x27;cidade_x&#x27;, &#x27;estado_x&#x27;,\n                                               &#x27;efeitos_desejados&#x27;])),\n                (&#x27;frequent_imputation&#x27;,\n                 CategoricalImputer(imputation_method=&#x27;frequent&#x27;,\n                                    variables=[&#x27;navegador&#x27;, &#x27;utm_source_x&#x27;])),\n                (&#x27;rare_label_encoder&#x27;,\n                 RareLabelEncoder(n_categories=1, tol=0.01,\n                                  variables=[&#x27;sistema_operacional&#x27;, &#x27;navegador&#x27;,\n                                             &#x27;locale_x&#x27;, &#x27;cidad...\n                               gamma=0, gpu_id=-1, grow_policy=&#x27;depthwise&#x27;,\n                               importance_type=None, interaction_constraints=&#x27;&#x27;,\n                               learning_rate=0.1, max_bin=256,\n                               max_cat_to_onehot=4, max_delta_step=0,\n                               max_depth=3, max_leaves=0, min_child_weight=1,\n                               missing=nan, monotone_constraints=&#x27;()&#x27;,\n                               n_estimators=100, n_jobs=-1, num_parallel_tree=1,\n                               predictor=&#x27;auto&#x27;, random_state=0, reg_alpha=0,\n                               reg_lambda=1, ...))])</pre></div></div></div><div class=\"sk-serial\"><div class=\"sk-item\"><div class=\"sk-estimator sk-toggleable\"><input class=\"sk-toggleable__control sk-hidden--visually\" id=\"sk-estimator-id-34\" type=\"checkbox\" ><label for=\"sk-estimator-id-34\" class=\"sk-toggleable__label sk-toggleable__label-arrow\">CategoricalImputer</label><div class=\"sk-toggleable__content\"><pre>CategoricalImputer(variables=[&#x27;cidade_x&#x27;, &#x27;estado_x&#x27;, &#x27;efeitos_desejados&#x27;])</pre></div></div></div><div class=\"sk-item\"><div class=\"sk-estimator sk-toggleable\"><input class=\"sk-toggleable__control sk-hidden--visually\" id=\"sk-estimator-id-35\" type=\"checkbox\" ><label for=\"sk-estimator-id-35\" class=\"sk-toggleable__label sk-toggleable__label-arrow\">CategoricalImputer</label><div class=\"sk-toggleable__content\"><pre>CategoricalImputer(imputation_method=&#x27;frequent&#x27;,\n                   variables=[&#x27;navegador&#x27;, &#x27;utm_source_x&#x27;])</pre></div></div></div><div class=\"sk-item\"><div class=\"sk-estimator sk-toggleable\"><input class=\"sk-toggleable__control sk-hidden--visually\" id=\"sk-estimator-id-36\" type=\"checkbox\" ><label for=\"sk-estimator-id-36\" class=\"sk-toggleable__label sk-toggleable__label-arrow\">RareLabelEncoder</label><div class=\"sk-toggleable__content\"><pre>RareLabelEncoder(n_categories=1, tol=0.01,\n                 variables=[&#x27;sistema_operacional&#x27;, &#x27;navegador&#x27;, &#x27;locale_x&#x27;,\n                            &#x27;cidade_x&#x27;, &#x27;estado_x&#x27;, &#x27;utm_source_x&#x27;,\n                            &#x27;tipo_cabelo&#x27;, &#x27;comprimento&#x27;, &#x27;tipo_fios&#x27;,\n                            &#x27;tempo_procedimento&#x27;, &#x27;dieta&#x27;, &#x27;atividade_fisica&#x27;,\n                            &#x27;frequencia_estresse&#x27;, &#x27;faixa_etaria&#x27;, &#x27;fragancia&#x27;,\n                            &#x27;efeitos_desejados&#x27;])</pre></div></div></div><div class=\"sk-item\"><div class=\"sk-estimator sk-toggleable\"><input class=\"sk-toggleable__control sk-hidden--visually\" id=\"sk-estimator-id-37\" type=\"checkbox\" ><label for=\"sk-estimator-id-37\" class=\"sk-toggleable__label sk-toggleable__label-arrow\">OrdinalEncoder</label><div class=\"sk-toggleable__content\"><pre>OrdinalEncoder(variables=[&#x27;sistema_operacional&#x27;, &#x27;navegador&#x27;, &#x27;locale_x&#x27;,\n                          &#x27;cidade_x&#x27;, &#x27;estado_x&#x27;, &#x27;utm_source_x&#x27;, &#x27;tipo_cabelo&#x27;,\n                          &#x27;comprimento&#x27;, &#x27;tipo_fios&#x27;, &#x27;tempo_procedimento&#x27;,\n                          &#x27;dieta&#x27;, &#x27;atividade_fisica&#x27;, &#x27;frequencia_estresse&#x27;,\n                          &#x27;faixa_etaria&#x27;, &#x27;fragancia&#x27;, &#x27;efeitos_desejados&#x27;])</pre></div></div></div><div class=\"sk-item\"><div class=\"sk-estimator sk-toggleable\"><input class=\"sk-toggleable__control sk-hidden--visually\" id=\"sk-estimator-id-38\" type=\"checkbox\" ><label for=\"sk-estimator-id-38\" class=\"sk-toggleable__label sk-toggleable__label-arrow\">DropFeatures</label><div class=\"sk-toggleable__content\"><pre>DropFeatures(features_to_drop=[&#x27;procedimentos&#x27;, &#x27;efeitos_desejados&#x27;,\n                               &#x27;id_cliente&#x27;, &#x27;localizacao&#x27;, &#x27;id_form&#x27;,\n                               &#x27;status_pagamento&#x27;, &#x27;tipo_pagamento&#x27;,\n                               &#x27;valor_total&#x27;, &#x27;valor_desconto&#x27;, &#x27;frete_gratis&#x27;,\n                               &#x27;cidade_y&#x27;, &#x27;estado_y&#x27;, &#x27;locale_y&#x27;,\n                               &#x27;utm_source_y&#x27;, &#x27;id_pedido&#x27;, &#x27;data&#x27;,\n                               &#x27;data_pedido&#x27;])</pre></div></div></div><div class=\"sk-item\"><div class=\"sk-estimator sk-toggleable\"><input class=\"sk-toggleable__control sk-hidden--visually\" id=\"sk-estimator-id-39\" type=\"checkbox\" ><label for=\"sk-estimator-id-39\" class=\"sk-toggleable__label sk-toggleable__label-arrow\">PCA</label><div class=\"sk-toggleable__content\"><pre>PCA(n_components=0.95)</pre></div></div></div><div class=\"sk-item\"><div class=\"sk-estimator sk-toggleable\"><input class=\"sk-toggleable__control sk-hidden--visually\" id=\"sk-estimator-id-40\" type=\"checkbox\" ><label for=\"sk-estimator-id-40\" class=\"sk-toggleable__label sk-toggleable__label-arrow\">XGBClassifier</label><div class=\"sk-toggleable__content\"><pre>XGBClassifier(base_score=0.5, booster=&#x27;gbtree&#x27;, callbacks=None,\n              colsample_bylevel=1, colsample_bynode=1, colsample_bytree=1,\n              early_stopping_rounds=None, enable_categorical=False,\n              eval_metric=None, gamma=0, gpu_id=-1, grow_policy=&#x27;depthwise&#x27;,\n              importance_type=None, interaction_constraints=&#x27;&#x27;,\n              learning_rate=0.1, max_bin=256, max_cat_to_onehot=4,\n              max_delta_step=0, max_depth=3, max_leaves=0, min_child_weight=1,\n              missing=nan, monotone_constraints=&#x27;()&#x27;, n_estimators=100,\n              n_jobs=-1, num_parallel_tree=1, predictor=&#x27;auto&#x27;, random_state=0,\n              reg_alpha=0, reg_lambda=1, ...)</pre></div></div></div></div></div></div></div>"
     },
     "execution_count": 140,
     "metadata": {},
     "output_type": "execute_result"
    }
   ],
   "source": [
    "# train the pipeline\n",
    "price_pipe.fit(X_train, y_train)"
   ],
   "metadata": {
    "collapsed": false,
    "pycharm": {
     "name": "#%%\n"
    }
   }
  },
  {
   "cell_type": "code",
   "execution_count": 141,
   "outputs": [
    {
     "name": "stderr",
     "output_type": "stream",
     "text": [
      "C:\\Users\\cassio.reis_saudeid\\Desktop\\CASSIO\\leads_classification\\venv\\lib\\site-packages\\sklearn\\utils\\validation.py:758: UserWarning: pandas.DataFrame with sparse columns found.It will be converted to a dense numpy array.\n",
      "  warnings.warn(\n"
     ]
    }
   ],
   "source": [
    "pred_train = price_pipe.predict(X_train)"
   ],
   "metadata": {
    "collapsed": false,
    "pycharm": {
     "name": "#%%\n"
    }
   }
  },
  {
   "cell_type": "code",
   "execution_count": 142,
   "outputs": [],
   "source": [
    "# from sklearn.model_selection import cross_val_score\n",
    "# from sklearn.model_selection import RepeatedStratifiedKFold\n",
    "#\n",
    "# cv = RepeatedStratifiedKFold(n_splits=10, n_repeats=3, random_state=1)\n",
    "# scores = cross_val_score(price_pipe, X_train[feature_selected], y_train, scoring='f1_micro', cv=cv, n_jobs=-1)"
   ],
   "metadata": {
    "collapsed": false,
    "pycharm": {
     "name": "#%%\n"
    }
   }
  },
  {
   "cell_type": "code",
   "execution_count": 143,
   "outputs": [
    {
     "data": {
      "text/plain": "array([[240838,   7054],\n       [ 91808,  32138]], dtype=int64)"
     },
     "execution_count": 143,
     "metadata": {},
     "output_type": "execute_result"
    }
   ],
   "source": [
    "from sklearn.metrics import confusion_matrix\n",
    "confusion_matrix(y_train, pred_train)"
   ],
   "metadata": {
    "collapsed": false,
    "pycharm": {
     "name": "#%%\n"
    }
   }
  },
  {
   "cell_type": "code",
   "execution_count": 144,
   "outputs": [
    {
     "name": "stdout",
     "output_type": "stream",
     "text": [
      "              precision    recall  f1-score   support\n",
      "\n",
      "         0.0       0.72      0.97      0.83    247892\n",
      "         1.0       0.82      0.26      0.39    123946\n",
      "\n",
      "    accuracy                           0.73    371838\n",
      "   macro avg       0.77      0.62      0.61    371838\n",
      "weighted avg       0.76      0.73      0.68    371838\n",
      "\n",
      "ROC: 0.615\n"
     ]
    }
   ],
   "source": [
    "from sklearn.metrics import accuracy_score\n",
    "from sklearn import metrics\n",
    "\n",
    "print(metrics.classification_report(y_train, pred_train))\n",
    "print('ROC: %.3f' % metrics.roc_auc_score(y_train, pred_train, average='micro'))"
   ],
   "metadata": {
    "collapsed": false,
    "pycharm": {
     "name": "#%%\n"
    }
   }
  },
  {
   "cell_type": "code",
   "execution_count": 145,
   "outputs": [
    {
     "name": "stderr",
     "output_type": "stream",
     "text": [
      "C:\\Users\\cassio.reis_saudeid\\Desktop\\CASSIO\\leads_classification\\venv\\lib\\site-packages\\sklearn\\utils\\validation.py:758: UserWarning: pandas.DataFrame with sparse columns found.It will be converted to a dense numpy array.\n",
      "  warnings.warn(\n"
     ]
    }
   ],
   "source": [
    "pred_test = price_pipe.predict(X_test)\n"
   ],
   "metadata": {
    "collapsed": false,
    "pycharm": {
     "name": "#%%\n"
    }
   }
  },
  {
   "cell_type": "code",
   "execution_count": 146,
   "outputs": [
    {
     "name": "stdout",
     "output_type": "stream",
     "text": [
      "              precision    recall  f1-score   support\n",
      "\n",
      "         0.0       0.72      0.97      0.83     61974\n",
      "         1.0       0.82      0.26      0.40     30987\n",
      "\n",
      "    accuracy                           0.73     92961\n",
      "   macro avg       0.77      0.62      0.61     92961\n",
      "weighted avg       0.76      0.73      0.69     92961\n",
      "\n"
     ]
    }
   ],
   "source": [
    "from sklearn import metrics\n",
    "\n",
    "print(metrics.classification_report(y_test, pred_test))"
   ],
   "metadata": {
    "collapsed": false,
    "pycharm": {
     "name": "#%%\n"
    }
   }
  },
  {
   "cell_type": "code",
   "execution_count": 147,
   "outputs": [
    {
     "name": "stdout",
     "output_type": "stream",
     "text": [
      "ROC: 0.617\n"
     ]
    }
   ],
   "source": [
    "from sklearn import metrics\n",
    "\n",
    "\n",
    "print('ROC: %.3f' % metrics.roc_auc_score(y_test, pred_test, average='micro'))"
   ],
   "metadata": {
    "collapsed": false,
    "pycharm": {
     "name": "#%%\n"
    }
   }
  },
  {
   "cell_type": "code",
   "execution_count": 148,
   "outputs": [],
   "source": [
    "# #GridSearchCV\n",
    "# from sklearn.model_selection import GridSearchCV\n",
    "# from sklearn.model_selection import RepeatedStratifiedKFold\n",
    "#\n",
    "#\n",
    "# grid = GridSearchCV(price_pipe, param_grid={'xgboost__n_estimators': [100, 200, 300, 400, 500, 600, 700, 800, 900, 1000]}, scoring='f1_micro', cv=cv, n_jobs=-1)\n",
    "# grid.fit(X_train, y_train)\n"
   ],
   "metadata": {
    "collapsed": false,
    "pycharm": {
     "name": "#%%\n"
    }
   }
  },
  {
   "cell_type": "code",
   "execution_count": 149,
   "outputs": [],
   "source": [
    "# grid.best_params_\n",
    "# #"
   ],
   "metadata": {
    "collapsed": false,
    "pycharm": {
     "name": "#%%\n"
    }
   }
  },
  {
   "cell_type": "code",
   "execution_count": 150,
   "outputs": [],
   "source": [
    "# #feature importance\n",
    "# importance = grid.best_estimator_.steps[-1][1].feature_importances_\n",
    "# importance = pd.DataFrame(importance, index=X_train.columns, columns=['importance'])\n",
    "# importance.sort_values(by='importance', ascending=False, inplace=True)\n",
    "# importance.plot(kind='barh')\n"
   ],
   "metadata": {
    "collapsed": false,
    "pycharm": {
     "name": "#%%\n"
    }
   }
  },
  {
   "cell_type": "code",
   "execution_count": 151,
   "outputs": [
    {
     "data": {
      "text/plain": "['C:\\\\Users\\\\cassio.reis_saudeid\\\\Desktop\\\\CASSIO\\\\leads_classification\\\\app\\\\models\\\\price_pipe.pkl']"
     },
     "execution_count": 151,
     "metadata": {},
     "output_type": "execute_result"
    }
   ],
   "source": [
    "#save model\n",
    "import joblib\n",
    "\n",
    "joblib.dump(price_pipe, r'C:\\Users\\cassio.reis_saudeid\\Desktop\\CASSIO\\leads_classification\\app\\models\\price_pipe.pkl')"
   ],
   "metadata": {
    "collapsed": false,
    "pycharm": {
     "name": "#%%\n"
    }
   }
  },
  {
   "cell_type": "markdown",
   "source": [],
   "metadata": {
    "collapsed": false,
    "pycharm": {
     "name": "#%% md\n"
    }
   }
  },
  {
   "cell_type": "code",
   "execution_count": 152,
   "outputs": [],
   "source": [
    "#load model\n",
    "price_pipe = joblib.load(r'C:\\Users\\cassio.reis_saudeid\\Desktop\\CASSIO\\leads_classification\\app\\models\\price_pipe.pkl')"
   ],
   "metadata": {
    "collapsed": false,
    "pycharm": {
     "name": "#%%\n"
    }
   }
  },
  {
   "cell_type": "code",
   "execution_count": 153,
   "outputs": [
    {
     "name": "stderr",
     "output_type": "stream",
     "text": [
      "C:\\Users\\cassio.reis_saudeid\\Desktop\\CASSIO\\leads_classification\\venv\\lib\\site-packages\\sklearn\\utils\\validation.py:758: UserWarning: pandas.DataFrame with sparse columns found.It will be converted to a dense numpy array.\n",
      "  warnings.warn(\n"
     ]
    }
   ],
   "source": [
    "pred_test = price_pipe.predict(X_test)"
   ],
   "metadata": {
    "collapsed": false,
    "pycharm": {
     "name": "#%%\n"
    }
   }
  },
  {
   "cell_type": "code",
   "execution_count": 154,
   "outputs": [
    {
     "name": "stdout",
     "output_type": "stream",
     "text": [
      "ROC: 0.617\n"
     ]
    }
   ],
   "source": [
    "print('ROC: %.3f' % metrics.roc_auc_score(y_test, pred_test, average='micro'))"
   ],
   "metadata": {
    "collapsed": false,
    "pycharm": {
     "name": "#%%\n"
    }
   }
  },
  {
   "cell_type": "code",
   "execution_count": 155,
   "outputs": [
    {
     "data": {
      "text/plain": "[{'id_form': '6d768849518ef901b121196cb158c0',\n  'id_cliente': 'b15d5448c08b5cb6ee98',\n  'data': '2022-03-12 07:48:03',\n  'sistema_operacional': 'Android',\n  'navegador': 'Chrome',\n  'localizacao': 'Caninde, Ceara',\n  'locale_x': 'BR',\n  'cidade_x': 'CANINDE',\n  'estado_x': ' CEARA',\n  'qtde_lavagem_semana': 1,\n  'utm_source_x': 'google',\n  'tipo_cabelo': 'Tipo 4',\n  'comprimento': 'Muito curto',\n  'tipo_fios': 'Rebeldes',\n  'procedimentos': 'Todos acima',\n  'tempo_procedimento': 'Há mais de 1 mês',\n  'dieta': 'Celíaca',\n  'atividade_fisica': 'Raramente',\n  'frequencia_estresse': 'Uma vez por mês',\n  'faixa_etaria': '25 a 34',\n  'efeitos_desejados': 'Efeito 4',\n  'fragancia': 'Eucalipto',\n  'id_pedido': nan,\n  'data_pedido': nan,\n  'status_pagamento': nan,\n  'tipo_pagamento': nan,\n  'valor_total': nan,\n  'valor_desconto': nan,\n  'frete_gratis': nan,\n  'cidade_y': nan,\n  'estado_y': nan,\n  'locale_y': nan,\n  'utm_source_y': nan,\n  'Característica1': 0,\n  'Característica10': 0,\n  'Característica2': 0,\n  'Característica3': 1,\n  'Característica4': 0,\n  'Característica5': 0,\n  'Característica6': 0,\n  'Característica7': 0,\n  'Característica8': 0,\n  'Característica9': 0,\n  'N/C': 0}]"
     },
     "execution_count": 155,
     "metadata": {},
     "output_type": "execute_result"
    }
   ],
   "source": [
    "X_train.head(1).to_dict('records')"
   ],
   "metadata": {
    "collapsed": false,
    "pycharm": {
     "name": "#%%\n"
    }
   }
  },
  {
   "cell_type": "code",
   "execution_count": 156,
   "outputs": [
    {
     "data": {
      "text/plain": "[{'id_form': 'c7d453c9c01223a42968d9fe136047',\n  'id_cliente': 'd2620a3e6f00a6dc6e88',\n  'data': '2022-01-03 15:42:22',\n  'sistema_operacional': 'iOS',\n  'navegador': 'Safari',\n  'localizacao': 'São Paulo, Sao Paulo',\n  'locale_x': 'BR',\n  'cidade_x': 'SÃO PAULO',\n  'estado_x': ' SAO PAULO',\n  'qtde_lavagem_semana': 4,\n  'utm_source_x': nan,\n  'tipo_cabelo': 'Tipo 2',\n  'comprimento': 'Raíz exposta',\n  'tipo_fios': 'Pontas duplas',\n  'procedimentos': 'Nenhum',\n  'tempo_procedimento': 'Há 2 semanas',\n  'dieta': 'Celíaca',\n  'atividade_fisica': 'Frequente',\n  'frequencia_estresse': 'Nunca',\n  'faixa_etaria': '25 a 34',\n  'efeitos_desejados': 'Efeito 7',\n  'fragancia': 'Rosas',\n  'id_pedido': '5d2301cb6bf9d7c',\n  'data_pedido': '2022-01-03 15:47:35.000000',\n  'status_pagamento': 'Entregue',\n  'tipo_pagamento': 'CARTÃO',\n  'valor_total': 124.03,\n  'valor_desconto': 0.0,\n  'frete_gratis': False,\n  'cidade_y': 'São Paulo',\n  'estado_y': 'SP',\n  'locale_y': 'BR',\n  'utm_source_y': nan,\n  'target': 1.0,\n  'Característica1': 1,\n  'Característica10': 0,\n  'Característica2': 0,\n  'Característica3': 0,\n  'Característica4': 0,\n  'Característica5': 0,\n  'Característica6': 0,\n  'Característica7': 0,\n  'Característica8': 0,\n  'Característica9': 0,\n  'N/C': 0}]"
     },
     "execution_count": 156,
     "metadata": {},
     "output_type": "execute_result"
    }
   ],
   "source": [
    "df.head(1).to_dict('records')"
   ],
   "metadata": {
    "collapsed": false,
    "pycharm": {
     "name": "#%%\n"
    }
   }
  },
  {
   "cell_type": "code",
   "execution_count": 157,
   "outputs": [
    {
     "data": {
      "text/plain": "Index(['id_form', 'id_cliente', 'data', 'sistema_operacional', 'navegador',\n       'localizacao', 'locale_x', 'cidade_x', 'estado_x',\n       'qtde_lavagem_semana', 'utm_source_x', 'tipo_cabelo', 'comprimento',\n       'tipo_fios', 'procedimentos', 'tempo_procedimento', 'dieta',\n       'atividade_fisica', 'frequencia_estresse', 'faixa_etaria',\n       'efeitos_desejados', 'fragancia', 'id_pedido', 'data_pedido',\n       'status_pagamento', 'tipo_pagamento', 'valor_total', 'valor_desconto',\n       'frete_gratis', 'cidade_y', 'estado_y', 'locale_y', 'utm_source_y',\n       'Característica1', 'Característica10', 'Característica2',\n       'Característica3', 'Característica4', 'Característica5',\n       'Característica6', 'Característica7', 'Característica8',\n       'Característica9', 'N/C'],\n      dtype='object')"
     },
     "execution_count": 157,
     "metadata": {},
     "output_type": "execute_result"
    }
   ],
   "source": [
    "X_train.columns"
   ],
   "metadata": {
    "collapsed": false,
    "pycharm": {
     "name": "#%%\n"
    }
   }
  },
  {
   "cell_type": "code",
   "execution_count": 158,
   "outputs": [
    {
     "data": {
      "text/plain": "44"
     },
     "execution_count": 158,
     "metadata": {},
     "output_type": "execute_result"
    }
   ],
   "source": [
    "len(X_train.columns)"
   ],
   "metadata": {
    "collapsed": false,
    "pycharm": {
     "name": "#%%\n"
    }
   }
  },
  {
   "cell_type": "code",
   "execution_count": 162,
   "outputs": [],
   "source": [
    "lst = ['id_form','id_cliente','data','sistema_operacional','navegador','localizacao','locale_x','cidade_x','estado_x','qtde_lavagem_semana','utm_source_x','tipo_cabelo','comprimento','tipo_fios','procedimentos','tempo_procedimento','dieta','atividade_fisica','frequencia_estresse','faixa_etaria','efeitos_desejados','fragancia','id_pedido','data_pedido','status_pagamento','tipo_pagamento','valor_total','valor_desconto','frete_gratis','cidade_y','estado_y','locale_y','utm_source_y','Característica1','Característica,1','Característica,2','Característica,3','Característica,4','Característica,5','Característica,6','Característica,7','Característica,8','Característica,9','Característica,10','N/C']"
   ],
   "metadata": {
    "collapsed": false,
    "pycharm": {
     "name": "#%%\n"
    }
   }
  },
  {
   "cell_type": "code",
   "execution_count": 165,
   "outputs": [
    {
     "data": {
      "text/plain": "{'Característica,1',\n 'Característica,10',\n 'Característica,2',\n 'Característica,3',\n 'Característica,4',\n 'Característica,5',\n 'Característica,6',\n 'Característica,7',\n 'Característica,8',\n 'Característica,9'}"
     },
     "execution_count": 165,
     "metadata": {},
     "output_type": "execute_result"
    }
   ],
   "source": [
    "set(lst) - set(X_train.columns)"
   ],
   "metadata": {
    "collapsed": false,
    "pycharm": {
     "name": "#%%\n"
    }
   }
  },
  {
   "cell_type": "code",
   "execution_count": null,
   "outputs": [],
   "source": [],
   "metadata": {
    "collapsed": false,
    "pycharm": {
     "name": "#%%\n"
    }
   }
  }
 ],
 "metadata": {
  "kernelspec": {
   "display_name": "Python 3",
   "language": "python",
   "name": "python3"
  },
  "language_info": {
   "codemirror_mode": {
    "name": "ipython",
    "version": 2
   },
   "file_extension": ".py",
   "mimetype": "text/x-python",
   "name": "python",
   "nbconvert_exporter": "python",
   "pygments_lexer": "ipython2",
   "version": "2.7.6"
  }
 },
 "nbformat": 4,
 "nbformat_minor": 0
}